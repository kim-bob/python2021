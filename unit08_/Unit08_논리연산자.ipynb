{
  "nbformat": 4,
  "nbformat_minor": 0,
  "metadata": {
    "colab": {
      "name": "Unit08_논리연산자.ipynb",
      "provenance": [],
      "collapsed_sections": []
    },
    "kernelspec": {
      "name": "python3",
      "display_name": "Python 3"
    },
    "language_info": {
      "name": "python"
    }
  },
  "cells": [
    {
      "cell_type": "markdown",
      "metadata": {
        "id": "dKnuu8ZUe9kd"
      },
      "source": [
        ""
      ]
    },
    {
      "cell_type": "markdown",
      "metadata": {
        "id": "pvaJ6o_afAHm"
      },
      "source": [
        "#Unit 8. 불과 비교/논리 연산자"
      ]
    },
    {
      "cell_type": "markdown",
      "metadata": {
        "id": "P7IVc2QOfANv"
      },
      "source": [
        "8.1 불(Bool)과 비교연산자 "
      ]
    },
    {
      "cell_type": "code",
      "metadata": {
        "id": "m9Crx7WseQJ1"
      },
      "source": [
        "True, False"
      ],
      "execution_count": null,
      "outputs": []
    },
    {
      "cell_type": "code",
      "metadata": {
        "colab": {
          "base_uri": "https://localhost:8080/"
        },
        "id": "EDeIzVB_fUtF",
        "outputId": "942d7f22-df24-4e3d-b86b-a341bd27e957"
      },
      "source": [
        "10>=5"
      ],
      "execution_count": 1,
      "outputs": [
        {
          "output_type": "execute_result",
          "data": {
            "text/plain": [
              "True"
            ]
          },
          "metadata": {
            "tags": []
          },
          "execution_count": 1
        }
      ]
    },
    {
      "cell_type": "code",
      "metadata": {
        "colab": {
          "base_uri": "https://localhost:8080/"
        },
        "id": "Aom6mW02fUm6",
        "outputId": "a256ee1f-ebdb-4e2e-c4ae-59c76b6ed51d"
      },
      "source": [
        "a=10  !=5\n",
        "a"
      ],
      "execution_count": 5,
      "outputs": [
        {
          "output_type": "execute_result",
          "data": {
            "text/plain": [
              "True"
            ]
          },
          "metadata": {
            "tags": []
          },
          "execution_count": 5
        }
      ]
    },
    {
      "cell_type": "code",
      "metadata": {
        "colab": {
          "base_uri": "https://localhost:8080/"
        },
        "id": "43d_GM8UgKvG",
        "outputId": "4b5a2491-1ae0-41f4-98d9-d0eb84b11199"
      },
      "source": [
        "'Python' == 'python'"
      ],
      "execution_count": 6,
      "outputs": [
        {
          "output_type": "execute_result",
          "data": {
            "text/plain": [
              "False"
            ]
          },
          "metadata": {
            "tags": []
          },
          "execution_count": 6
        }
      ]
    },
    {
      "cell_type": "markdown",
      "metadata": {
        "id": "K6HxCNhegk8w"
      },
      "source": [
        "8.2 논리연산자"
      ]
    },
    {
      "cell_type": "code",
      "metadata": {
        "id": "1OE316jegkN8"
      },
      "source": [
        "and or not"
      ],
      "execution_count": null,
      "outputs": []
    },
    {
      "cell_type": "code",
      "metadata": {
        "colab": {
          "base_uri": "https://localhost:8080/"
        },
        "id": "2BIqy90MgT5K",
        "outputId": "2e5210d1-9ddb-4be4-a9e0-622140ac1d40"
      },
      "source": [
        "not True and False or not False"
      ],
      "execution_count": 8,
      "outputs": [
        {
          "output_type": "execute_result",
          "data": {
            "text/plain": [
              "True"
            ]
          },
          "metadata": {
            "tags": []
          },
          "execution_count": 8
        }
      ]
    },
    {
      "cell_type": "code",
      "metadata": {
        "colab": {
          "base_uri": "https://localhost:8080/"
        },
        "id": "y63-YfqykGA_",
        "outputId": "a30f9181-d4a4-44d1-c08c-7ed6040e6dd1"
      },
      "source": [
        "# x>10, x<5\n",
        "x=6\n",
        "x>10 or x<5"
      ],
      "execution_count": 9,
      "outputs": [
        {
          "output_type": "execute_result",
          "data": {
            "text/plain": [
              "False"
            ]
          },
          "metadata": {
            "tags": []
          },
          "execution_count": 9
        }
      ]
    },
    {
      "cell_type": "code",
      "metadata": {
        "colab": {
          "base_uri": "https://localhost:8080/"
        },
        "id": "iEwmyU-qkmQn",
        "outputId": "53856649-36f3-4b27-ab56-2be76628c935"
      },
      "source": [
        "x=6\n",
        "5<x<10 "
      ],
      "execution_count": 11,
      "outputs": [
        {
          "output_type": "execute_result",
          "data": {
            "text/plain": [
              "True"
            ]
          },
          "metadata": {
            "tags": []
          },
          "execution_count": 11
        }
      ]
    },
    {
      "cell_type": "code",
      "metadata": {
        "colab": {
          "base_uri": "https://localhost:8080/"
        },
        "id": "9xqZjBoakqGD",
        "outputId": "9cbf53f1-c13a-4bd7-f65e-0223c44d548d"
      },
      "source": [
        "bool(0),bool(1),bool(-4),bool(0.1), bool('')"
      ],
      "execution_count": 19,
      "outputs": [
        {
          "output_type": "execute_result",
          "data": {
            "text/plain": [
              "(False, True, True, True, False)"
            ]
          },
          "metadata": {
            "tags": []
          },
          "execution_count": 19
        }
      ]
    },
    {
      "cell_type": "code",
      "metadata": {
        "colab": {
          "base_uri": "https://localhost:8080/"
        },
        "id": "Bx9E6FdGlSJL",
        "outputId": "ac5a1445-55c5-4b33-8ee1-7eee216b6279"
      },
      "source": [
        "int(True), int(False)\n"
      ],
      "execution_count": 20,
      "outputs": [
        {
          "output_type": "execute_result",
          "data": {
            "text/plain": [
              "(1, 0)"
            ]
          },
          "metadata": {
            "tags": []
          },
          "execution_count": 20
        }
      ]
    },
    {
      "cell_type": "markdown",
      "metadata": {
        "id": "joeoA5k0mw02"
      },
      "source": [
        "Short-circuit evaluation"
      ]
    },
    {
      "cell_type": "code",
      "metadata": {
        "colab": {
          "base_uri": "https://localhost:8080/"
        },
        "id": "RcQ-G5kplUTZ",
        "outputId": "c8ec01a6-fe64-4ba0-f175-da5b2554ecd5"
      },
      "source": [
        "1 or 'python'\n",
        "\n",
        "0 or 'python'\n",
        "102 * 0.6 + 225\n"
      ],
      "execution_count": 30,
      "outputs": [
        {
          "output_type": "execute_result",
          "data": {
            "text/plain": [
              "286.2"
            ]
          },
          "metadata": {
            "tags": []
          },
          "execution_count": 30
        }
      ]
    },
    {
      "cell_type": "code",
      "metadata": {
        "colab": {
          "base_uri": "https://localhost:8080/"
        },
        "id": "JQYDzWmum9C6",
        "outputId": "f3ed2382-375a-416d-8798-293fcebc68d0"
      },
      "source": [
        "print(\"g\")\n",
        "print('g')"
      ],
      "execution_count": 25,
      "outputs": [
        {
          "output_type": "stream",
          "text": [
            "g\n",
            "g\n"
          ],
          "name": "stdout"
        }
      ]
    },
    {
      "cell_type": "code",
      "metadata": {
        "id": "CooDgQcQppeC"
      },
      "source": [
        ""
      ],
      "execution_count": null,
      "outputs": []
    }
  ]
}