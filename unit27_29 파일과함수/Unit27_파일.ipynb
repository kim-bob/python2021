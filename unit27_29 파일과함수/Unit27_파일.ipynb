{
  "nbformat": 4,
  "nbformat_minor": 0,
  "metadata": {
    "colab": {
      "name": "Unit27_파일.ipynb",
      "provenance": [],
      "collapsed_sections": []
    },
    "kernelspec": {
      "name": "python3",
      "display_name": "Python 3"
    },
    "language_info": {
      "name": "python"
    }
  },
  "cells": [
    {
      "cell_type": "markdown",
      "metadata": {
        "id": "F7KUcgCek6Xp"
      },
      "source": [
        "#Unit27. 파일\n"
      ]
    },
    {
      "cell_type": "markdown",
      "metadata": {
        "id": "HcdwGhkrmuKv"
      },
      "source": [
        "###27.1 문자열 쓰기, 읽기"
      ]
    },
    {
      "cell_type": "code",
      "metadata": {
        "colab": {
          "base_uri": "https://localhost:8080/"
        },
        "id": "zfnZs6hLk1-B",
        "outputId": "afce7079-5660-45a1-bbeb-2fd7ec99323f"
      },
      "source": [
        "file = open('hello.txt', 'w') \n",
        "file.write('Hello world!')\n",
        "file.close()\n",
        "\n",
        "!cat hello.txt #유닉스명령어(윈도우에서는 type + 파일)\n"
      ],
      "execution_count": 7,
      "outputs": [
        {
          "output_type": "stream",
          "text": [
            "Hello world!"
          ],
          "name": "stdout"
        }
      ]
    },
    {
      "cell_type": "code",
      "metadata": {
        "colab": {
          "base_uri": "https://localhost:8080/"
        },
        "id": "WWBftqFqnM3I",
        "outputId": "a90241a6-43f1-410f-bb53-d4c5ca40a47c"
      },
      "source": [
        "file = open('hello.txt') #r은 defult\n",
        "s = file.read()\n",
        "print(s)\n",
        "file.close()"
      ],
      "execution_count": 8,
      "outputs": [
        {
          "output_type": "stream",
          "text": [
            "Hello world!\n"
          ],
          "name": "stdout"
        }
      ]
    },
    {
      "cell_type": "markdown",
      "metadata": {
        "id": "ukN0h_Zjpiaw"
      },
      "source": [
        "###파이선 스타일\n"
      ]
    },
    {
      "cell_type": "code",
      "metadata": {
        "colab": {
          "base_uri": "https://localhost:8080/"
        },
        "id": "zW5zmMBEpdLP",
        "outputId": "bc2fb14a-ed8d-431d-f78e-d84be092ba73"
      },
      "source": [
        "with open('hello.txt') as file:\n",
        "    s= file.read()\n",
        "print(s)"
      ],
      "execution_count": 9,
      "outputs": [
        {
          "output_type": "stream",
          "text": [
            "Hello world!\n"
          ],
          "name": "stdout"
        }
      ]
    },
    {
      "cell_type": "code",
      "metadata": {
        "colab": {
          "base_uri": "https://localhost:8080/"
        },
        "id": "lnQ3gikjpvKu",
        "outputId": "0c7f60ae-b978-4491-dc71-5333702d39c5"
      },
      "source": [
        "with open('hello.txt', 'w') as file :\n",
        "     for i in range(3) : \n",
        "          file.write(f'Hello world {i+1} \\n')\n",
        "!cat hello.txt"
      ],
      "execution_count": 16,
      "outputs": [
        {
          "output_type": "stream",
          "text": [
            "Hello world 1 \n",
            "Hello world 2 \n",
            "Hello world 3 \n"
          ],
          "name": "stdout"
        }
      ]
    },
    {
      "cell_type": "code",
      "metadata": {
        "colab": {
          "base_uri": "https://localhost:8080/"
        },
        "id": "qXSQS8Tuqdwg",
        "outputId": "7140b3fa-13d1-4e2f-c750-b54978641dee"
      },
      "source": [
        "lines = ['안녕하세요. \\n', '파이썬', '코딩도장입니다.\\n']\n",
        "with open('hello.txt', 'w', encoding='UTF-8') as file :\n",
        "    file.writelines(lines)\n",
        "!cat hello.txt\n"
      ],
      "execution_count": 17,
      "outputs": [
        {
          "output_type": "stream",
          "text": [
            "안녕하세요. \n",
            "파이썬코딩도장입니다.\n"
          ],
          "name": "stdout"
        }
      ]
    },
    {
      "cell_type": "code",
      "metadata": {
        "colab": {
          "base_uri": "https://localhost:8080/"
        },
        "id": "Xt6w9Upwrujd",
        "outputId": "38996517-a9b4-4f3f-f614-81ee1fe1641e"
      },
      "source": [
        "s ='''안녕하세요.\n",
        "파이썬\n",
        "코딩도장입니다'''\n",
        "with open('hello.txt', 'w', encoding='UTF-8') as file :\n",
        "    file.write(s)\n",
        "!cat hello.txt    "
      ],
      "execution_count": 27,
      "outputs": [
        {
          "output_type": "stream",
          "text": [
            "안녕하세요.\n",
            "파이썬\n",
            "코딩도장입니다"
          ],
          "name": "stdout"
        }
      ]
    },
    {
      "cell_type": "code",
      "metadata": {
        "colab": {
          "base_uri": "https://localhost:8080/"
        },
        "id": "JtkybZLXs21D",
        "outputId": "c6d2ad45-7104-4c91-a257-59b11b1be3d5"
      },
      "source": [
        "with open('hello.txt') as file :\n",
        "    s=file.read()\n",
        "print(s)"
      ],
      "execution_count": 28,
      "outputs": [
        {
          "output_type": "stream",
          "text": [
            "안녕하세요.\n",
            "파이썬\n",
            "코딩도장입니다\n"
          ],
          "name": "stdout"
        }
      ]
    },
    {
      "cell_type": "code",
      "metadata": {
        "colab": {
          "base_uri": "https://localhost:8080/"
        },
        "id": "nuhkOgQly1U2",
        "outputId": "9782ed34-a471-40c3-b3bc-737eefe2f08c"
      },
      "source": [
        "with open('hello.txt') as file :\n",
        "    s=file.read(9)\n",
        "print(s)"
      ],
      "execution_count": 36,
      "outputs": [
        {
          "output_type": "stream",
          "text": [
            "안녕하세요.\n",
            "파이\n"
          ],
          "name": "stdout"
        }
      ]
    },
    {
      "cell_type": "code",
      "metadata": {
        "colab": {
          "base_uri": "https://localhost:8080/",
          "height": 232
        },
        "id": "NL1OKAP9tIo0",
        "outputId": "056a171a-97a9-4bbb-e61a-c171567f9e55"
      },
      "source": [
        "with open('hello.txt') as file :\n",
        "    file.write(s)\n",
        "    s=file.readline()\n",
        "print(s)"
      ],
      "execution_count": 29,
      "outputs": [
        {
          "output_type": "error",
          "ename": "UnsupportedOperation",
          "evalue": "ignored",
          "traceback": [
            "\u001b[0;31m---------------------------------------------------------------------------\u001b[0m",
            "\u001b[0;31mUnsupportedOperation\u001b[0m                      Traceback (most recent call last)",
            "\u001b[0;32m<ipython-input-29-033bb6b8e6ff>\u001b[0m in \u001b[0;36m<module>\u001b[0;34m()\u001b[0m\n\u001b[1;32m      1\u001b[0m \u001b[0;32mwith\u001b[0m \u001b[0mopen\u001b[0m\u001b[0;34m(\u001b[0m\u001b[0;34m'hello.txt'\u001b[0m\u001b[0;34m)\u001b[0m \u001b[0;32mas\u001b[0m \u001b[0mfile\u001b[0m \u001b[0;34m:\u001b[0m\u001b[0;34m\u001b[0m\u001b[0;34m\u001b[0m\u001b[0m\n\u001b[0;32m----> 2\u001b[0;31m     \u001b[0mfile\u001b[0m\u001b[0;34m.\u001b[0m\u001b[0mwrite\u001b[0m\u001b[0;34m(\u001b[0m\u001b[0ms\u001b[0m\u001b[0;34m)\u001b[0m\u001b[0;34m\u001b[0m\u001b[0;34m\u001b[0m\u001b[0m\n\u001b[0m\u001b[1;32m      3\u001b[0m     \u001b[0ms\u001b[0m\u001b[0;34m=\u001b[0m\u001b[0mfile\u001b[0m\u001b[0;34m.\u001b[0m\u001b[0mreadline\u001b[0m\u001b[0;34m(\u001b[0m\u001b[0;34m)\u001b[0m\u001b[0;34m\u001b[0m\u001b[0;34m\u001b[0m\u001b[0m\n\u001b[1;32m      4\u001b[0m \u001b[0mprint\u001b[0m\u001b[0;34m(\u001b[0m\u001b[0ms\u001b[0m\u001b[0;34m)\u001b[0m\u001b[0;34m\u001b[0m\u001b[0;34m\u001b[0m\u001b[0m\n",
            "\u001b[0;31mUnsupportedOperation\u001b[0m: not writable"
          ]
        }
      ]
    },
    {
      "cell_type": "code",
      "metadata": {
        "colab": {
          "base_uri": "https://localhost:8080/"
        },
        "id": "Geduo_k6tiu7",
        "outputId": "4504d3a3-81c8-407f-ea24-eaaf535471e0"
      },
      "source": [
        "with open('hello.txt') as file :\n",
        "    line = None\n",
        "    while line != '':\n",
        "        line = file.readline()\n",
        "        print(line.strip('\\n'))"
      ],
      "execution_count": 31,
      "outputs": [
        {
          "output_type": "stream",
          "text": [
            "안녕하세요.\n",
            "파이썬\n",
            "코딩도장입니다\n",
            "\n"
          ],
          "name": "stdout"
        }
      ]
    },
    {
      "cell_type": "code",
      "metadata": {
        "id": "duYXPuIhuO1T"
      },
      "source": [
        "dir(file)"
      ],
      "execution_count": null,
      "outputs": []
    },
    {
      "cell_type": "code",
      "metadata": {
        "id": "5HcuIV_VxfYI"
      },
      "source": [
        "X = {'a':10, 'b':20}\n",
        "dir(X)"
      ],
      "execution_count": null,
      "outputs": []
    },
    {
      "cell_type": "markdown",
      "metadata": {
        "id": "kf2R9O5Ty6Mu"
      },
      "source": [
        "append"
      ]
    },
    {
      "cell_type": "code",
      "metadata": {
        "colab": {
          "base_uri": "https://localhost:8080/"
        },
        "id": "VRgGjcNOxr7-",
        "outputId": "1bc110de-1eda-4f16-815b-caa99770f26d"
      },
      "source": [
        "with open('hello.txt', 'a' ) as file :\n",
        "    file.write('Append\\n')\n",
        "!cat hello.txt"
      ],
      "execution_count": 40,
      "outputs": [
        {
          "output_type": "stream",
          "text": [
            "안녕하세요.\n",
            "파이썬\n",
            "코딩도장입니다Append\n",
            "Append\n"
          ],
          "name": "stdout"
        }
      ]
    },
    {
      "cell_type": "markdown",
      "metadata": {
        "id": "Rzi0rleuzcBG"
      },
      "source": [
        "###binary mode"
      ]
    },
    {
      "cell_type": "code",
      "metadata": {
        "colab": {
          "base_uri": "https://localhost:8080/",
          "height": 232
        },
        "id": "vRFrKd0wzK6O",
        "outputId": "af5b18d7-56f2-49f7-d778-207f3e1c2682"
      },
      "source": [
        "with open('000.jpg', 'rb') as bin : #r은 리드 옵션 b는 바이너리 파일열때 사용하는 옵션\n",
        "    x=bin.read()\n",
        "\n",
        "print(x)"
      ],
      "execution_count": 41,
      "outputs": [
        {
          "output_type": "error",
          "ename": "FileNotFoundError",
          "evalue": "ignored",
          "traceback": [
            "\u001b[0;31m---------------------------------------------------------------------------\u001b[0m",
            "\u001b[0;31mFileNotFoundError\u001b[0m                         Traceback (most recent call last)",
            "\u001b[0;32m<ipython-input-41-aa30b40bdf98>\u001b[0m in \u001b[0;36m<module>\u001b[0;34m()\u001b[0m\n\u001b[0;32m----> 1\u001b[0;31m \u001b[0;32mwith\u001b[0m \u001b[0mopen\u001b[0m\u001b[0;34m(\u001b[0m\u001b[0;34m'000.jpg'\u001b[0m\u001b[0;34m,\u001b[0m \u001b[0;34m'rb'\u001b[0m\u001b[0;34m)\u001b[0m \u001b[0;32mas\u001b[0m \u001b[0mbin\u001b[0m \u001b[0;34m:\u001b[0m\u001b[0;34m\u001b[0m\u001b[0;34m\u001b[0m\u001b[0m\n\u001b[0m\u001b[1;32m      2\u001b[0m     \u001b[0mx\u001b[0m\u001b[0;34m=\u001b[0m\u001b[0mbin\u001b[0m\u001b[0;34m.\u001b[0m\u001b[0mread\u001b[0m\u001b[0;34m(\u001b[0m\u001b[0;34m)\u001b[0m\u001b[0;34m\u001b[0m\u001b[0;34m\u001b[0m\u001b[0m\n\u001b[1;32m      3\u001b[0m \u001b[0;34m\u001b[0m\u001b[0m\n\u001b[1;32m      4\u001b[0m \u001b[0mprint\u001b[0m\u001b[0;34m(\u001b[0m\u001b[0mx\u001b[0m\u001b[0;34m)\u001b[0m\u001b[0;34m\u001b[0m\u001b[0;34m\u001b[0m\u001b[0m\n",
            "\u001b[0;31mFileNotFoundError\u001b[0m: [Errno 2] No such file or directory: '000.jpg'"
          ]
        }
      ]
    },
    {
      "cell_type": "markdown",
      "metadata": {
        "id": "v11L-gYb09Yc"
      },
      "source": [
        "##27.3 파이썬 객체 읽고 쓰기"
      ]
    },
    {
      "cell_type": "code",
      "metadata": {
        "colab": {
          "base_uri": "https://localhost:8080/"
        },
        "id": "OXhZYcZT09FI",
        "outputId": "81713ea2-bfe6-47e8-eff8-3adfb6a8f108"
      },
      "source": [
        "import pickle\n",
        "scores = {'kor':90,'eng':90, 'mat':80}\n",
        "with open('binary.plk', 'wb') as file:\n",
        "    pickle.dump(scores, file)\n",
        "!cat binary.plk\n"
      ],
      "execution_count": 43,
      "outputs": [
        {
          "output_type": "stream",
          "text": [
            "�\u0003}q\u0000(X\u0003\u0000\u0000\u0000korq\u0001KZX\u0003\u0000\u0000\u0000engq\u0002KZX\u0003\u0000\u0000\u0000matq\u0003KPu."
          ],
          "name": "stdout"
        }
      ]
    }
  ]
}