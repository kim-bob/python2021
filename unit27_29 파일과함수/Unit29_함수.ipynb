{
  "nbformat": 4,
  "nbformat_minor": 0,
  "metadata": {
    "colab": {
      "name": "Unit29_함수.ipynb",
      "provenance": [],
      "collapsed_sections": []
    },
    "kernelspec": {
      "name": "python3",
      "display_name": "Python 3"
    },
    "language_info": {
      "name": "python"
    }
  },
  "cells": [
    {
      "cell_type": "markdown",
      "metadata": {
        "id": "m-yOevnpMZE0"
      },
      "source": [
        "#Unit29. 함수\n"
      ]
    },
    {
      "cell_type": "markdown",
      "metadata": {
        "id": "BtGnVKvOOl3i"
      },
      "source": [
        "###29.1 출력함수 만들기"
      ]
    },
    {
      "cell_type": "code",
      "metadata": {
        "id": "i5Py8igCOljq"
      },
      "source": [
        "def hello():\n",
        "    print('Hellow world!')"
      ],
      "execution_count": null,
      "outputs": []
    },
    {
      "cell_type": "code",
      "metadata": {
        "colab": {
          "base_uri": "https://localhost:8080/"
        },
        "id": "X3ve74D2O59f",
        "outputId": "10b88e68-ae46-4c5f-f609-36b62689a757"
      },
      "source": [
        "hello()"
      ],
      "execution_count": 2,
      "outputs": [
        {
          "output_type": "stream",
          "text": [
            "Hellow world!\n"
          ],
          "name": "stdout"
        }
      ]
    },
    {
      "cell_type": "markdown",
      "metadata": {
        "id": "Tg_0dpcwPuox"
      },
      "source": [
        "##29.2 덧셈함수"
      ]
    },
    {
      "cell_type": "code",
      "metadata": {
        "id": "LxYNt8KHPlsy"
      },
      "source": [
        "# 매개변수, parameter, argument\n",
        "def add(a, b):\n",
        "    print(a+b)\n"
      ],
      "execution_count": 5,
      "outputs": []
    },
    {
      "cell_type": "code",
      "metadata": {
        "colab": {
          "base_uri": "https://localhost:8080/"
        },
        "id": "DUK6XXwoP_Qq",
        "outputId": "bef5cba3-0b15-480e-b79c-d638dfc9f311"
      },
      "source": [
        "add(4,5)"
      ],
      "execution_count": 10,
      "outputs": [
        {
          "output_type": "stream",
          "text": [
            "9\n"
          ],
          "name": "stdout"
        }
      ]
    },
    {
      "cell_type": "code",
      "metadata": {
        "id": "ky8XzQnEQB-d"
      },
      "source": [
        "#Docstring\n",
        "def add(a, b) :\n",
        "    \"\"\"\n",
        "    이 함수는 a와 b를 더한뒤 결과를 반환하는 함수입니다. \n",
        "    \"\"\"\n",
        "    print(a+b)"
      ],
      "execution_count": 13,
      "outputs": []
    },
    {
      "cell_type": "code",
      "metadata": {
        "id": "4eR97jj9Q2Dk"
      },
      "source": [
        "add? #도움말\n"
      ],
      "execution_count": 16,
      "outputs": []
    },
    {
      "cell_type": "code",
      "metadata": {
        "id": "qr6gurX2Q3vH"
      },
      "source": [
        "print?"
      ],
      "execution_count": 17,
      "outputs": []
    },
    {
      "cell_type": "markdown",
      "metadata": {
        "id": "36aoi8UhRdSs"
      },
      "source": [
        "##29.3 결과값 반환\n"
      ]
    },
    {
      "cell_type": "code",
      "metadata": {
        "id": "XHj1NKOWRMg_"
      },
      "source": [
        "def add(a, b) :\n",
        "    return a+b"
      ],
      "execution_count": 18,
      "outputs": []
    },
    {
      "cell_type": "code",
      "metadata": {
        "colab": {
          "base_uri": "https://localhost:8080/"
        },
        "id": "SYBFhI2jRl-p",
        "outputId": "ff4341a6-3f58-42c0-d164-0e8c176f809b"
      },
      "source": [
        "add(3,4), add(10,20)\n",
        "x= add(21, 45)\n",
        "x"
      ],
      "execution_count": 22,
      "outputs": [
        {
          "output_type": "execute_result",
          "data": {
            "text/plain": [
              "66"
            ]
          },
          "metadata": {
            "tags": []
          },
          "execution_count": 22
        }
      ]
    },
    {
      "cell_type": "code",
      "metadata": {
        "id": "mSjKLs9RRoUi"
      },
      "source": [
        "def is_ten(x):\n",
        "    return x==10"
      ],
      "execution_count": 24,
      "outputs": []
    },
    {
      "cell_type": "code",
      "metadata": {
        "colab": {
          "base_uri": "https://localhost:8080/"
        },
        "id": "RUhoKLdgSKw3",
        "outputId": "397a8196-cbe8-4d79-f4ec-472a9ec407a1"
      },
      "source": [
        "is_ten(101//10)"
      ],
      "execution_count": 25,
      "outputs": [
        {
          "output_type": "execute_result",
          "data": {
            "text/plain": [
              "True"
            ]
          },
          "metadata": {
            "tags": []
          },
          "execution_count": 25
        }
      ]
    },
    {
      "cell_type": "code",
      "metadata": {
        "id": "VDOcpGKeSPTg"
      },
      "source": [
        "def not_ten(x) :\n",
        "    if x == 10 :\n",
        "        return\n",
        "    else :\n",
        "        print('It is not ten')"
      ],
      "execution_count": 28,
      "outputs": []
    },
    {
      "cell_type": "code",
      "metadata": {
        "colab": {
          "base_uri": "https://localhost:8080/"
        },
        "id": "mIgWa9I2Se-O",
        "outputId": "0441a56c-5827-4b40-f548-0ebb8ad01d93"
      },
      "source": [
        "not_ten(5)"
      ],
      "execution_count": 29,
      "outputs": [
        {
          "output_type": "stream",
          "text": [
            "It is not ten\n"
          ],
          "name": "stdout"
        }
      ]
    },
    {
      "cell_type": "code",
      "metadata": {
        "id": "qSo8__JyS-8I"
      },
      "source": [
        "def not_ten(x) :\n",
        "    if x == 10 :\n",
        "        return\n",
        "    print('It is not ten')"
      ],
      "execution_count": 30,
      "outputs": []
    },
    {
      "cell_type": "code",
      "metadata": {
        "colab": {
          "base_uri": "https://localhost:8080/"
        },
        "id": "hkHD-Da7SiCY",
        "outputId": "595d0c3e-9c28-47ae-9b54-b94ac44a60be"
      },
      "source": [
        "not_ten(3)"
      ],
      "execution_count": 31,
      "outputs": [
        {
          "output_type": "stream",
          "text": [
            "It is not ten\n"
          ],
          "name": "stdout"
        }
      ]
    },
    {
      "cell_type": "markdown",
      "metadata": {
        "id": "vGFn9UVETmMZ"
      },
      "source": [
        "##29.4 여러개의 결과값 반환"
      ]
    },
    {
      "cell_type": "code",
      "metadata": {
        "id": "YmSfzlWvTLO9"
      },
      "source": [
        "def add_sub(a, b):\n",
        "    return a+b, a-b\n",
        "    "
      ],
      "execution_count": 32,
      "outputs": []
    },
    {
      "cell_type": "code",
      "metadata": {
        "id": "5imSjBUpTwn3"
      },
      "source": [
        "x, y = add_sub(15, 7)"
      ],
      "execution_count": 33,
      "outputs": []
    },
    {
      "cell_type": "code",
      "metadata": {
        "colab": {
          "base_uri": "https://localhost:8080/"
        },
        "id": "ssF1fNOlT2WK",
        "outputId": "1a91ab05-41cf-4d57-dae5-43526a5ba957"
      },
      "source": [
        "x, y"
      ],
      "execution_count": 34,
      "outputs": [
        {
          "output_type": "execute_result",
          "data": {
            "text/plain": [
              "(22, 8)"
            ]
          },
          "metadata": {
            "tags": []
          },
          "execution_count": 34
        }
      ]
    },
    {
      "cell_type": "markdown",
      "metadata": {
        "id": "DyKqeKQPUHHX"
      },
      "source": [
        "##29.5 함수의 호출과정"
      ]
    },
    {
      "cell_type": "code",
      "metadata": {
        "id": "rh1AdQlHT3Ah"
      },
      "source": [
        "#Stack을 이용한다."
      ],
      "execution_count": 35,
      "outputs": []
    },
    {
      "cell_type": "code",
      "metadata": {
        "id": "oDr0GVTmVDGg"
      },
      "source": [
        "#문제\n",
        "# 3자리수 정수 두개를 곱해서 나온 결과가 팔린드롬이 되도록 할 때, 가장 큰 숫자는?\n",
        "#팔린드롭 : 예) 12321 앞뒤가 같은숫자\n",
        "# 1. 맥시멈인가 ?\n",
        "\n",
        "def is_palindrom(x) :\n",
        "    s = str(x)\n",
        "    return s==s[::-1]\n",
        "\n",
        "#하나의 코드로 작성할 경우\n",
        "max_pal, m, n = 0, 0, 0\n",
        "for i in range(100,1000) : \n",
        "    for k in range(i, 1000):\n",
        "        if is_palindrom(i*k) :\n",
        "            if i*k > max_pal:\n",
        "                max_pal = i*k\n",
        "                m = i\n",
        "                n = k\n",
        "print(f'{m}X{n}  = {max_pal}')\n",
        "                    # i*k 의 결과 값이 팔린드롬인지 확인\n",
        "                    # 팔린드롬이면 max_pal\n",
        "\n"
      ],
      "execution_count": 40,
      "outputs": []
    }
  ]
}