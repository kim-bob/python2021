{
  "nbformat": 4,
  "nbformat_minor": 0,
  "metadata": {
    "colab": {
      "name": "Unit45_모듈만들기ipynb",
      "provenance": [],
      "collapsed_sections": []
    },
    "kernelspec": {
      "name": "python3",
      "display_name": "Python 3"
    },
    "language_info": {
      "name": "python"
    }
  },
  "cells": [
    {
      "cell_type": "markdown",
      "metadata": {
        "id": "a4oGrVJbsSId"
      },
      "source": [
        "#U45.1 모듈만들기"
      ]
    },
    {
      "cell_type": "code",
      "metadata": {
        "colab": {
          "base_uri": "https://localhost:8080/"
        },
        "id": "TWO3brk7sOSg",
        "outputId": "1cbf3fe2-9ab9-4006-db9f-deadc30ee3fe"
      },
      "source": [
        "import u45_square2 as sq\n",
        "print(sq.base)\n",
        "print(sq.square(10))"
      ],
      "execution_count": 8,
      "outputs": [
        {
          "output_type": "stream",
          "text": [
            "2\n",
            "1024\n"
          ],
          "name": "stdout"
        }
      ]
    },
    {
      "cell_type": "markdown",
      "metadata": {
        "id": "OrgM5C3wvqZU"
      },
      "source": [
        "###클래스"
      ]
    },
    {
      "cell_type": "code",
      "metadata": {
        "id": "-lD8KE_mteDO"
      },
      "source": [
        "from u45_person import Person"
      ],
      "execution_count": 6,
      "outputs": []
    },
    {
      "cell_type": "code",
      "metadata": {
        "colab": {
          "base_uri": "https://localhost:8080/"
        },
        "id": "8UpYe1N6xf5w",
        "outputId": "fdd6781c-9d34-4942-a91c-417f9f12eb59"
      },
      "source": [
        "maria = Person('마리아', 25, '서울시 강남구')\n",
        "maria.greeting()"
      ],
      "execution_count": 9,
      "outputs": [
        {
          "output_type": "stream",
          "text": [
            "안녕하세요. 저는 마리아입니다.\n"
          ],
          "name": "stdout"
        }
      ]
    },
    {
      "cell_type": "code",
      "metadata": {
        "id": "_NRhHPcYyJFw"
      },
      "source": [
        ""
      ],
      "execution_count": null,
      "outputs": []
    }
  ]
}