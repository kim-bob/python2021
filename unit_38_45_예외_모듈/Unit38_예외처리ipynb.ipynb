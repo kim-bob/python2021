{
  "nbformat": 4,
  "nbformat_minor": 0,
  "metadata": {
    "colab": {
      "name": "Unit38_예외처리ipynb",
      "provenance": [],
      "collapsed_sections": []
    },
    "kernelspec": {
      "name": "python3",
      "display_name": "Python 3"
    },
    "language_info": {
      "name": "python"
    }
  },
  "cells": [
    {
      "cell_type": "markdown",
      "metadata": {
        "id": "6F7KLR66sG1Y"
      },
      "source": [
        "#Uint38. 예외처리\n"
      ]
    },
    {
      "cell_type": "markdown",
      "metadata": {
        "id": "VfPoi705tHtk"
      },
      "source": [
        "## 38.1 try except"
      ]
    },
    {
      "cell_type": "code",
      "metadata": {
        "colab": {
          "base_uri": "https://localhost:8080/",
          "height": 195
        },
        "id": "oOKmV-VOrv9T",
        "outputId": "ec323e1a-2b75-4b14-d61b-5b8bf9515e6d"
      },
      "source": [
        "a=[1,2,3]\n",
        "a[4]"
      ],
      "execution_count": 1,
      "outputs": [
        {
          "output_type": "error",
          "ename": "IndexError",
          "evalue": "ignored",
          "traceback": [
            "\u001b[0;31m---------------------------------------------------------------------------\u001b[0m",
            "\u001b[0;31mIndexError\u001b[0m                                Traceback (most recent call last)",
            "\u001b[0;32m<ipython-input-1-e4e9a8dee017>\u001b[0m in \u001b[0;36m<module>\u001b[0;34m()\u001b[0m\n\u001b[1;32m      1\u001b[0m \u001b[0ma\u001b[0m\u001b[0;34m=\u001b[0m\u001b[0;34m[\u001b[0m\u001b[0;36m1\u001b[0m\u001b[0;34m,\u001b[0m\u001b[0;36m2\u001b[0m\u001b[0;34m,\u001b[0m\u001b[0;36m3\u001b[0m\u001b[0;34m]\u001b[0m\u001b[0;34m\u001b[0m\u001b[0;34m\u001b[0m\u001b[0m\n\u001b[0;32m----> 2\u001b[0;31m \u001b[0ma\u001b[0m\u001b[0;34m[\u001b[0m\u001b[0;36m4\u001b[0m\u001b[0;34m]\u001b[0m\u001b[0;34m\u001b[0m\u001b[0;34m\u001b[0m\u001b[0m\n\u001b[0m",
            "\u001b[0;31mIndexError\u001b[0m: list index out of range"
          ]
        }
      ]
    },
    {
      "cell_type": "code",
      "metadata": {
        "colab": {
          "base_uri": "https://localhost:8080/"
        },
        "id": "xuIUinATswjv",
        "outputId": "a99a2a63-3032-402a-9687-a2c17ef0cfbb"
      },
      "source": [
        "a=[1,2,3]\n",
        "try : \n",
        "    a[4]\n",
        "except : \n",
        "    print('예외발생')"
      ],
      "execution_count": 2,
      "outputs": [
        {
          "output_type": "stream",
          "text": [
            "예외발생\n"
          ],
          "name": "stdout"
        }
      ]
    },
    {
      "cell_type": "code",
      "metadata": {
        "colab": {
          "base_uri": "https://localhost:8080/",
          "height": 176
        },
        "id": "zRRC2tPitrPZ",
        "outputId": "37f9aa5f-6bab-484d-b32a-b82ed1969abe"
      },
      "source": [
        "int('10d')"
      ],
      "execution_count": 4,
      "outputs": [
        {
          "output_type": "error",
          "ename": "ValueError",
          "evalue": "ignored",
          "traceback": [
            "\u001b[0;31m---------------------------------------------------------------------------\u001b[0m",
            "\u001b[0;31mValueError\u001b[0m                                Traceback (most recent call last)",
            "\u001b[0;32m<ipython-input-4-331fb23f7ae1>\u001b[0m in \u001b[0;36m<module>\u001b[0;34m()\u001b[0m\n\u001b[0;32m----> 1\u001b[0;31m \u001b[0mint\u001b[0m\u001b[0;34m(\u001b[0m\u001b[0;34m'10d'\u001b[0m\u001b[0;34m)\u001b[0m\u001b[0;34m\u001b[0m\u001b[0;34m\u001b[0m\u001b[0m\n\u001b[0m",
            "\u001b[0;31mValueError\u001b[0m: invalid literal for int() with base 10: '10d'"
          ]
        }
      ]
    },
    {
      "cell_type": "markdown",
      "metadata": {
        "id": "xZ-9BQcRxmja"
      },
      "source": [
        "##특정예외만처리하기"
      ]
    },
    {
      "cell_type": "code",
      "metadata": {
        "colab": {
          "base_uri": "https://localhost:8080/"
        },
        "id": "4vTStVxVulnB",
        "outputId": "0b93a908-2f07-46b2-d371-df0b334a4187"
      },
      "source": [
        "try :\n",
        "    int('10d')\n",
        "except  ZeroDivisionError :\n",
        "    print('0으로 나눌 수 없습니다.')\n",
        "except IndexError :\n",
        "    print('inedex Error발생.') \n",
        "except ValueError :\n",
        "    print('Vlaue Error발생')   \n"
      ],
      "execution_count": 7,
      "outputs": [
        {
          "output_type": "stream",
          "text": [
            "Vlaue Error발생\n"
          ],
          "name": "stdout"
        }
      ]
    },
    {
      "cell_type": "markdown",
      "metadata": {
        "id": "M7BWnO3iw78v"
      },
      "source": [
        "###예외의 에러 메시지 받아오기"
      ]
    },
    {
      "cell_type": "code",
      "metadata": {
        "colab": {
          "base_uri": "https://localhost:8080/"
        },
        "id": "KjQdC9kZv9JQ",
        "outputId": "92ed5d3e-2bc2-48ef-8337-d841bd94a025"
      },
      "source": [
        "#이거 하나만 기억하자!!!!!! exceoption as e\n",
        "try :\n",
        "    int('10d')\n",
        "except Exception as e : #alias\n",
        "    print(e)            # Exception 객체의 __str__() method"
      ],
      "execution_count": 8,
      "outputs": [
        {
          "output_type": "stream",
          "text": [
            "invalid literal for int() with base 10: '10d'\n"
          ],
          "name": "stdout"
        }
      ]
    },
    {
      "cell_type": "markdown",
      "metadata": {
        "id": "ryaAMA41xqBr"
      },
      "source": [
        "###38.2 else-finally"
      ]
    },
    {
      "cell_type": "code",
      "metadata": {
        "colab": {
          "base_uri": "https://localhost:8080/"
        },
        "id": "XmYCeN4bxN9V",
        "outputId": "8fa89ac2-0743-49f9-d77b-6378b3000323"
      },
      "source": [
        "try : \n",
        "    x=int(input('나눌 숫자 입력 > '))\n",
        "    y= 10 / x \n",
        "except Exception as e :\n",
        "    print(e)\n",
        "\n",
        "else :\n",
        "    print(y)"
      ],
      "execution_count": 12,
      "outputs": [
        {
          "output_type": "stream",
          "text": [
            "나눌 숫자 입력 > d\n",
            "invalid literal for int() with base 10: 'd'\n"
          ],
          "name": "stdout"
        }
      ]
    },
    {
      "cell_type": "code",
      "metadata": {
        "colab": {
          "base_uri": "https://localhost:8080/"
        },
        "id": "xBV_e38710T2",
        "outputId": "82bf1e87-da7e-41ac-cb6d-c877c1c5dc32"
      },
      "source": [
        "# 예외와 상관없이 항상 실행\n",
        "try : \n",
        "    x=int(input('나눌 숫자 입력 > '))\n",
        "    y= 10 / x \n",
        "except Exception as e :\n",
        "    print(e)\n",
        "\n",
        "else :\n",
        "    print(y)\n",
        "finally:\n",
        "    print('코드 실행 종료')\n",
        "    "
      ],
      "execution_count": 14,
      "outputs": [
        {
          "output_type": "stream",
          "text": [
            "나눌 숫자 입력 > 0\n",
            "division by zero\n",
            "코드 실행 종료\n"
          ],
          "name": "stdout"
        }
      ]
    },
    {
      "cell_type": "markdown",
      "metadata": {
        "id": "hQKYA9mE3dGl"
      },
      "source": [
        "##38.3 예외 발생시키기"
      ]
    },
    {
      "cell_type": "code",
      "metadata": {
        "colab": {
          "base_uri": "https://localhost:8080/"
        },
        "id": "IfIuav7_2YvV",
        "outputId": "e6838be5-dfaa-4026-f1c8-abb9daa643b5"
      },
      "source": [
        "import random\n",
        "try : \n",
        "    x=random.randint(1, 10)\n",
        "    print(x)\n",
        "    if x % 3 != 0 :\n",
        "        raise Exception('3의배수가아닙니다.') #중요함\n",
        "\n",
        "except Exception as e :\n",
        "    print('예외발생', e)\n"
      ],
      "execution_count": 21,
      "outputs": [
        {
          "output_type": "stream",
          "text": [
            "4\n",
            "예외발생 3의배수가아닙니다.\n"
          ],
          "name": "stdout"
        }
      ]
    },
    {
      "cell_type": "code",
      "metadata": {
        "id": "26xjg-YY5Toi"
      },
      "source": [
        "def multiple11(x) :\n",
        "    if x % 11 != 0 :\n",
        "        raise Exception('11의배수가아닙니다.') \n",
        "    print(x)"
      ],
      "execution_count": 22,
      "outputs": []
    },
    {
      "cell_type": "code",
      "metadata": {
        "colab": {
          "base_uri": "https://localhost:8080/"
        },
        "id": "ukmGzJ4t6UvZ",
        "outputId": "53c43015-b81d-4683-bfda-0496f7412b15"
      },
      "source": [
        "try : \n",
        "    multiple11(100)\n",
        "except Exception as e :\n",
        "    print('예외발생 -', e)"
      ],
      "execution_count": 23,
      "outputs": [
        {
          "output_type": "stream",
          "text": [
            "예외발생 11의배수가아닙니다.\n"
          ],
          "name": "stdout"
        }
      ]
    },
    {
      "cell_type": "code",
      "metadata": {
        "id": "zEOv1p-o6cxN"
      },
      "source": [
        "try :\n",
        "for():\n",
        "    for():\n",
        "        for():\n",
        "            if 조건 :\n",
        "               raise Exception() # loop을 완전 탈출\n",
        "except : \n",
        "    "
      ],
      "execution_count": null,
      "outputs": []
    },
    {
      "cell_type": "markdown",
      "metadata": {
        "id": "uOCcUNcm7pAo"
      },
      "source": [
        "##38.4 예외 만들기"
      ]
    },
    {
      "cell_type": "code",
      "metadata": {
        "id": "AdjtpJdJ7rcO"
      },
      "source": [
        "#Exceoption 객체를 상속받아 객체를 만들면 됨"
      ],
      "execution_count": null,
      "outputs": []
    }
  ]
}