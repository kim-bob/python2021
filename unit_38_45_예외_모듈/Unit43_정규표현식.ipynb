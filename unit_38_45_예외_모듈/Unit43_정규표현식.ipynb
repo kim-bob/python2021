{
  "nbformat": 4,
  "nbformat_minor": 0,
  "metadata": {
    "colab": {
      "name": "Unit43_정규표현식.ipynb",
      "provenance": [],
      "collapsed_sections": []
    },
    "kernelspec": {
      "name": "python3",
      "display_name": "Python 3"
    },
    "language_info": {
      "name": "python"
    }
  },
  "cells": [
    {
      "cell_type": "markdown",
      "metadata": {
        "id": "nQ79ufvR8KYE"
      },
      "source": [
        "Unit 43. 정규 표현식"
      ]
    },
    {
      "cell_type": "code",
      "metadata": {
        "id": "YWa-MOsI8JsP"
      },
      "source": [
        " import re\n",
        " re.match('Hello', 'Hello, world!') #패턴, 문자열\n",
        " \n"
      ],
      "execution_count": null,
      "outputs": []
    },
    {
      "cell_type": "code",
      "metadata": {
        "colab": {
          "base_uri": "https://localhost:8080/"
        },
        "id": "l3p8LSHw_dbc",
        "outputId": "f116b41a-0d41-49b7-81f7-f52c1cb96f58"
      },
      "source": [
        "z=re.match('Hello', 'Hello, world!')\n",
        "if z :\n",
        "    print('Found!!')\n",
        "else : \n",
        "    print('Not found')\n",
        "    "
      ],
      "execution_count": null,
      "outputs": [
        {
          "output_type": "stream",
          "text": [
            "Found!!\n"
          ],
          "name": "stdout"
        }
      ]
    },
    {
      "cell_type": "code",
      "metadata": {
        "colab": {
          "base_uri": "https://localhost:8080/"
        },
        "id": "CHiA1Y2nDNGg",
        "outputId": "cd73c6e2-3913-4ede-b042-21b558e653a7"
      },
      "source": [
        "#mach()는 문장의 처음에서 찾음\n",
        "z=re.match('world', 'Hello, world!')\n",
        "if z :\n",
        "    print('Found!!')\n",
        "else : \n",
        "    print('Not found')"
      ],
      "execution_count": null,
      "outputs": [
        {
          "output_type": "stream",
          "text": [
            "Not found\n"
          ],
          "name": "stdout"
        }
      ]
    },
    {
      "cell_type": "code",
      "metadata": {
        "colab": {
          "base_uri": "https://localhost:8080/"
        },
        "id": "8E1zhEDgDRid",
        "outputId": "7e8e9f47-8a01-4cf1-9fca-b7427fc94ac6"
      },
      "source": [
        "#search()는 모든 문장에서 찾음\n",
        "\n",
        "z=re.search('world', 'Hello, world!')\n",
        "if z :\n",
        "    print('Found!!')\n",
        "else : \n",
        "    print('Not found')"
      ],
      "execution_count": null,
      "outputs": [
        {
          "output_type": "stream",
          "text": [
            "Found!!\n"
          ],
          "name": "stdout"
        }
      ]
    },
    {
      "cell_type": "markdown",
      "metadata": {
        "id": "nWwsN3QjDkBf"
      },
      "source": [
        "## 43.2 범위 판단"
      ]
    },
    {
      "cell_type": "code",
      "metadata": {
        "colab": {
          "base_uri": "https://localhost:8080/"
        },
        "id": "1H1us2zzDe5Q",
        "outputId": "f31e5f49-eaa9-4215-a2df-cab7528fa993"
      },
      "source": [
        "#휴대전화 번호 형식\n",
        "#pattern = '[0-9]{3}-[0-9]{4}-[0-9]{4}'  옛날형식\n",
        "pattern = '01[0-9]-[0-9]{4}-[0-9]{4}'\n",
        "text = '02-1234-5668'\n",
        "if re.match(pattern, text) : \n",
        "    print('올바른 휴대전화번호')\n",
        "else :\n",
        "    print('잘못된 휴대전화번호')\n"
      ],
      "execution_count": null,
      "outputs": [
        {
          "output_type": "stream",
          "text": [
            "잘못된 휴대전화번호\n"
          ],
          "name": "stdout"
        }
      ]
    },
    {
      "cell_type": "code",
      "metadata": {
        "colab": {
          "base_uri": "https://localhost:8080/"
        },
        "id": "kgRQBFH1E2FW",
        "outputId": "02a83daa-3ba1-4e51-f275-b42f294b78f9"
      },
      "source": [
        "hangul = '[^ㄱ-ㅎㅏ-ㅣ가-힣 ]'  #^은 not\n",
        "text = '홍길동'\n",
        "if re.search(hangul, text) :\n",
        "    print('한글이 있음')\n",
        "else : \n",
        "    print('한글이 있음')"
      ],
      "execution_count": null,
      "outputs": [
        {
          "output_type": "stream",
          "text": [
            "한글이 있음\n"
          ],
          "name": "stdout"
        }
      ]
    },
    {
      "cell_type": "markdown",
      "metadata": {
        "id": "Tp5N08EwJ0wA"
      },
      "source": [
        "###이메일주소검사하기\n"
      ]
    },
    {
      "cell_type": "code",
      "metadata": {
        "colab": {
          "base_uri": "https://localhost:8080/"
        },
        "id": "X1Pd4khLJ4QG",
        "outputId": "715ed87b-5498-430b-8fa1-ec4fc6e35b0f"
      },
      "source": [
        "#p = re.compile('/^[0-9a-zA-Z]([-_.]?[0-9a-zA-Z])*@[0-9a-zA-Z]([-_.]?[0-9a-zA-Z])*.[a-zA-Z]{2,3}$/i;')\n",
        "p= re.compile('^[a-zA-Z0-9+-_.]+@[a-zA-Z0-9-]+\\.[a-zA-Z0-9-.]+$')\n",
        "emails = ['python@mail.example.com', 'python+kr@example.com',              # 올바른 형식\n",
        "          'python-dojang@example.co.kr', 'python_10@example.info',         # 올바른 형식\n",
        "          'python.dojang@e-xample.com',                                    # 올바른 형식\n",
        "          '@example.com', 'python@example', 'python@example-com']          # 잘못된 형식\n",
        "for email in emails :\n",
        "    print(p.match(email) != None, end='')\n",
        " "
      ],
      "execution_count": null,
      "outputs": [
        {
          "output_type": "stream",
          "text": [
            "TrueTrueTrueTrueTrueFalseFalseFalse"
          ],
          "name": "stdout"
        }
      ]
    },
    {
      "cell_type": "markdown",
      "metadata": {
        "id": "xWGXBEeKGJfu"
      },
      "source": [
        "43.4 문자열 바꾸기"
      ]
    },
    {
      "cell_type": "code",
      "metadata": {
        "colab": {
          "base_uri": "https://localhost:8080/",
          "height": 36
        },
        "id": "xNnkP-vQF6r_",
        "outputId": "91ee15d6-d881-4520-aec7-9519b5936fe4"
      },
      "source": [
        "#re.sub('패턴', '바꿀문자열', '문자열')\n",
        "re.sub('apple|orange', 'fruit', 'apple box orange tree')"
      ],
      "execution_count": null,
      "outputs": [
        {
          "output_type": "execute_result",
          "data": {
            "application/vnd.google.colaboratory.intrinsic+json": {
              "type": "string"
            },
            "text/plain": [
              "'fruit box fruit tree'"
            ]
          },
          "metadata": {
            "tags": []
          },
          "execution_count": 10
        }
      ]
    },
    {
      "cell_type": "code",
      "metadata": {
        "colab": {
          "base_uri": "https://localhost:8080/",
          "height": 36
        },
        "id": "WrXBu99sGi1X",
        "outputId": "be28552b-a6cb-4e6e-8c9c-774384e31ab7"
      },
      "source": [
        "re.sub('[0-9]', 'n', '1 2 Fizz 4 Buzz Fizz 7 8 Fizz Buzz 11 12')"
      ],
      "execution_count": null,
      "outputs": [
        {
          "output_type": "execute_result",
          "data": {
            "application/vnd.google.colaboratory.intrinsic+json": {
              "type": "string"
            },
            "text/plain": [
              "'n n Fizz n Buzz Fizz n n Fizz Buzz n n'"
            ]
          },
          "metadata": {
            "tags": []
          },
          "execution_count": 11
        }
      ]
    },
    {
      "cell_type": "code",
      "metadata": {
        "colab": {
          "base_uri": "https://localhost:8080/",
          "height": 36
        },
        "id": "kBs1YDBWG8TT",
        "outputId": "72ffc366-078a-476c-f7c4-765351235200"
      },
      "source": [
        "re.sub('[0-9]+', 'n', '1 2 Fizz 4 Buzz Fizz 7 8 Fizz Buzz 11 12')"
      ],
      "execution_count": null,
      "outputs": [
        {
          "output_type": "execute_result",
          "data": {
            "application/vnd.google.colaboratory.intrinsic+json": {
              "type": "string"
            },
            "text/plain": [
              "'n n Fizz n Buzz Fizz n n Fizz Buzz n n'"
            ]
          },
          "metadata": {
            "tags": []
          },
          "execution_count": 12
        }
      ]
    },
    {
      "cell_type": "code",
      "metadata": {
        "id": "8pSqy3AqHMrt"
      },
      "source": [
        "text = '''\n",
        "2 0, 3 5처럼 예외가 발생하는 숫자를 넣어보면 해당 \n",
        "예외에 해당하는 에러 메시지가 출력됩니다. 단, 예외가 여러 개 \n",
        "발생하더라도 먼저 발생한 예외의 처리 코드만 실행됩니다\n",
        "(또는, 예외 중에서 높은 계층의 예외부터 처리됩니다. 기반 클래스 > 파생 클래스 순).\n",
        "참고로 모든 예외의 에러 메시지를 출력하고 싶다면 다음과 같이 except에 Exception을 \n",
        "지정하고 as 뒤에 변수를 넣으면 됩니다.\n",
        "'''\n"
      ],
      "execution_count": null,
      "outputs": []
    },
    {
      "cell_type": "code",
      "metadata": {
        "colab": {
          "base_uri": "https://localhost:8080/",
          "height": 92
        },
        "id": "xoLvgHrLH2hg",
        "outputId": "d345f866-16d1-4386-cc1d-1f2f13e1214c"
      },
      "source": [
        "not_hangul_blank = '[^ㄱ-ㅎㅏ-ㅣ가-힣 ]'  #^은 not\n",
        "text = re.sub(not_hangul, '', text)\n",
        "text"
      ],
      "execution_count": null,
      "outputs": [
        {
          "output_type": "execute_result",
          "data": {
            "application/vnd.google.colaboratory.intrinsic+json": {
              "type": "string"
            },
            "text/plain": [
              "'   처럼 예외가 발생하는 숫자를 넣어보면 해당 예외에 해당하는 에러 메시지가 출력됩니다 단 예외가 여러 개 발생하더라도 먼저 발생한 예외의 처리 코드만 실행됩니다또는 예외 중에서 높은 계층의 예외부터 처리됩니다 기반 클래스  파생 클래스 순참고로 모든 예외의 에러 메시지를 출력하고 싶다면 다음과 같이 에 을 지정하고  뒤에 변수를 넣으면 됩니다'"
            ]
          },
          "metadata": {
            "tags": []
          },
          "execution_count": 17
        }
      ]
    },
    {
      "cell_type": "code",
      "metadata": {
        "id": "sk_WbrI7H8Ig"
      },
      "source": [
        ""
      ],
      "execution_count": null,
      "outputs": []
    }
  ]
}