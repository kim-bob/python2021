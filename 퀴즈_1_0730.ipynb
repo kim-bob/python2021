{
  "nbformat": 4,
  "nbformat_minor": 0,
  "metadata": {
    "colab": {
      "name": "퀴즈_1_0730.ipynb",
      "provenance": [],
      "collapsed_sections": []
    },
    "kernelspec": {
      "name": "python3",
      "display_name": "Python 3"
    },
    "language_info": {
      "name": "python"
    }
  },
  "cells": [
    {
      "cell_type": "code",
      "metadata": {
        "id": "Cc7tSBcyu64C"
      },
      "source": [
        "#피타고라스 1 \n",
        "for a in range(1, 333):\n",
        "    for b in range(a+1, 500):\n",
        "         c=1000-a-b\n",
        "         if c*c ==  aa* bb:\n",
        "             print(a,b,c)\n"
      ],
      "execution_count": null,
      "outputs": []
    },
    {
      "cell_type": "code",
      "metadata": {
        "id": "w2huUqUfxkyN"
      },
      "source": [
        "#피타고라스 2\n",
        "[(a,b,c) for a in range(1, 333) \n",
        "             for b in range(a+1, 500)\n",
        "                 for c in (b+1, 1000) \n",
        "                   if a+b+c=1000 and a*a + b*b = c*c]\n"
      ],
      "execution_count": null,
      "outputs": []
    },
    {
      "cell_type": "code",
      "metadata": {
        "id": "ve5aUbHIxQ0U"
      },
      "source": [
        "#만나이 구하기 정답\n",
        "from datetime import date\n",
        "today=date.today()"
      ],
      "execution_count": null,
      "outputs": []
    },
    {
      "cell_type": "code",
      "metadata": {
        "id": "jNbcuvqGysBO"
      },
      "source": [
        "year, month, day = map(int, input('생일입력').split())\n",
        "year, month, day"
      ],
      "execution_count": null,
      "outputs": []
    },
    {
      "cell_type": "markdown",
      "metadata": {
        "id": "bQERFoB4xQn6"
      },
      "source": [
        ""
      ]
    },
    {
      "cell_type": "code",
      "metadata": {
        "id": "kiCrfjkCy-Yz"
      },
      "source": [
        "#디지털 시계\n",
        "total_second = 0\n",
        "for hour in range(24):\n",
        "    time = f'{hour:02d}:{mon:02d}'\n",
        "    if '3' in time:\n",
        "        total_second +=60\n",
        "print(total_second)"
      ],
      "execution_count": null,
      "outputs": []
    }
  ]
}