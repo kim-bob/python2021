{
  "nbformat": 4,
  "nbformat_minor": 0,
  "metadata": {
    "colab": {
      "name": "Unit12_딕셔너리.ipynb",
      "provenance": [],
      "collapsed_sections": []
    },
    "kernelspec": {
      "name": "python3",
      "display_name": "Python 3"
    },
    "language_info": {
      "name": "python"
    }
  },
  "cells": [
    {
      "cell_type": "markdown",
      "metadata": {
        "id": "QKb0Za1dR5JU"
      },
      "source": [
        "#Unit 12. 딕셔너리(Dictionary)"
      ]
    },
    {
      "cell_type": "markdown",
      "metadata": {
        "id": "Vi6vgDghWCDa"
      },
      "source": [
        "12.1 딕셔너리 생성"
      ]
    },
    {
      "cell_type": "code",
      "metadata": {
        "colab": {
          "base_uri": "https://localhost:8080/"
        },
        "id": "-d4p7coDR4bx",
        "outputId": "090f3537-62fb-40a9-8c4f-aace1e2d6a50"
      },
      "source": [
        "lux={\n",
        "    'Health' : 490, #체력\n",
        "     'mana' : 334,\n",
        "     'melee' : 550,\n",
        "     'armor' : 10.72\n",
        "}\n",
        "lux"
      ],
      "execution_count": 20,
      "outputs": [
        {
          "output_type": "execute_result",
          "data": {
            "text/plain": [
              "{'Health': 490, 'armor': 10.72, 'mana': 334, 'melee': 550}"
            ]
          },
          "metadata": {
            "tags": []
          },
          "execution_count": 20
        }
      ]
    },
    {
      "cell_type": "markdown",
      "metadata": {
        "id": "26RVqs5RSwyC"
      },
      "source": [
        "12.1 딕셔너리 생성"
      ]
    },
    {
      "cell_type": "code",
      "metadata": {
        "colab": {
          "base_uri": "https://localhost:8080/"
        },
        "id": "JZXp716zSuzV",
        "outputId": "a473517e-acc1-409d-83e7-0adaa6ab5a8a"
      },
      "source": [
        "#중복값이 있으면 최후의 값만 출력 됨\n",
        "lux={\n",
        "    'Health' : 490, #체력\n",
        "     'mana' : 334,\n",
        "     'melee' : 550,\n",
        "     'armor' : 10.72,\n",
        "     'Health' : 540,\n",
        "}\n",
        "lux"
      ],
      "execution_count": 5,
      "outputs": [
        {
          "output_type": "execute_result",
          "data": {
            "text/plain": [
              "{'Health': 540, 'armor': 10.72, 'mana': 334, 'melee': 550}"
            ]
          },
          "metadata": {
            "tags": []
          },
          "execution_count": 5
        }
      ]
    },
    {
      "cell_type": "code",
      "metadata": {
        "colab": {
          "base_uri": "https://localhost:8080/"
        },
        "id": "0syElL5tT7Wv",
        "outputId": "c144ae4d-088d-4f19-8475-f2c813283f31"
      },
      "source": [
        "a={} #딕셔너리 형태\n",
        "b=dict() #딕셔너리\n",
        "a,b\n"
      ],
      "execution_count": 6,
      "outputs": [
        {
          "output_type": "execute_result",
          "data": {
            "text/plain": [
              "({}, {})"
            ]
          },
          "metadata": {
            "tags": []
          },
          "execution_count": 6
        }
      ]
    },
    {
      "cell_type": "code",
      "metadata": {
        "id": "DmDsAVXJVAXV"
      },
      "source": [
        "a= set((1,2,3))"
      ],
      "execution_count": 8,
      "outputs": []
    },
    {
      "cell_type": "code",
      "metadata": {
        "colab": {
          "base_uri": "https://localhost:8080/"
        },
        "id": "GxPF3MssVKH1",
        "outputId": "eefd3c7a-c5a7-42c5-8ee1-e103306150dd"
      },
      "source": [
        "a={'a','b','c','d'}\n",
        "b={1,2,3,4}\n",
        "dict(zip(a,b))\n"
      ],
      "execution_count": 13,
      "outputs": [
        {
          "output_type": "execute_result",
          "data": {
            "text/plain": [
              "{'a': 2, 'b': 1, 'c': 4, 'd': 3}"
            ]
          },
          "metadata": {
            "tags": []
          },
          "execution_count": 13
        }
      ]
    },
    {
      "cell_type": "markdown",
      "metadata": {
        "id": "0bchNtMBWFgx"
      },
      "source": [
        "12.2 딕셔너리 키에 접근하고 값 할당하기\n"
      ]
    },
    {
      "cell_type": "code",
      "metadata": {
        "colab": {
          "base_uri": "https://localhost:8080/"
        },
        "id": "pYxYZ2CfWFXN",
        "outputId": "b822061a-3b0a-4794-edd4-dfdb476675a8"
      },
      "source": [
        "lux['mana'], lux['armor']"
      ],
      "execution_count": 21,
      "outputs": [
        {
          "output_type": "execute_result",
          "data": {
            "text/plain": [
              "(334, 10.72)"
            ]
          },
          "metadata": {
            "tags": []
          },
          "execution_count": 21
        }
      ]
    },
    {
      "cell_type": "code",
      "metadata": {
        "colab": {
          "base_uri": "https://localhost:8080/"
        },
        "id": "iXilVhpmVd3q",
        "outputId": "f98868db-2757-4c85-9d06-cc4b0edb8cc9"
      },
      "source": [
        "lux['new'] =  10\n",
        "lux"
      ],
      "execution_count": 26,
      "outputs": [
        {
          "output_type": "execute_result",
          "data": {
            "text/plain": [
              "{'Health': 490, 'armor': 10.72, 'mana': 1000, 'melee': 550, 'new': 10}"
            ]
          },
          "metadata": {
            "tags": []
          },
          "execution_count": 26
        }
      ]
    },
    {
      "cell_type": "code",
      "metadata": {
        "colab": {
          "base_uri": "https://localhost:8080/"
        },
        "id": "b962sa0CXNQu",
        "outputId": "8ec44240-e24b-4717-c6a1-65b17c6de98e"
      },
      "source": [
        "lux['mana'] = 1000\n",
        "lux"
      ],
      "execution_count": 27,
      "outputs": [
        {
          "output_type": "execute_result",
          "data": {
            "text/plain": [
              "{'Health': 490, 'armor': 10.72, 'mana': 1000, 'melee': 550, 'new': 10}"
            ]
          },
          "metadata": {
            "tags": []
          },
          "execution_count": 27
        }
      ]
    },
    {
      "cell_type": "code",
      "metadata": {
        "colab": {
          "base_uri": "https://localhost:8080/"
        },
        "id": "yjzKeicLXwS4",
        "outputId": "7ec1e0d5-7b92-45a2-c335-ed069190dfa3"
      },
      "source": [
        "'mana' in lux"
      ],
      "execution_count": 28,
      "outputs": [
        {
          "output_type": "execute_result",
          "data": {
            "text/plain": [
              "True"
            ]
          },
          "metadata": {
            "tags": []
          },
          "execution_count": 28
        }
      ]
    },
    {
      "cell_type": "code",
      "metadata": {
        "colab": {
          "base_uri": "https://localhost:8080/"
        },
        "id": "y9ifoFsnYP3A",
        "outputId": "2e75c9b9-c508-4b1e-edd1-2a55ea4996fd"
      },
      "source": [
        "#'mana' 항목이 존재하면 값 +100을 하고 없으면 값이 50이 되게 만드시오\n",
        "d={}\n",
        "e={'mana' :  150}\n",
        "if 'mana' in e:\n",
        "    e['mana'] =  e['mana']+100\n",
        "else:\n",
        "    e['mana'] = 50\n",
        "e\n"
      ],
      "execution_count": 32,
      "outputs": [
        {
          "output_type": "execute_result",
          "data": {
            "text/plain": [
              "{'mana': 250}"
            ]
          },
          "metadata": {
            "tags": []
          },
          "execution_count": 32
        }
      ]
    },
    {
      "cell_type": "markdown",
      "metadata": {
        "id": "B0RIiU9zZedR"
      },
      "source": [
        "###딕셔너리 키의 갯수"
      ]
    },
    {
      "cell_type": "code",
      "metadata": {
        "colab": {
          "base_uri": "https://localhost:8080/"
        },
        "id": "LabWusTcY0_A",
        "outputId": "b8dccae6-d53b-41dd-d7db-56a0ba3a8687"
      },
      "source": [
        "lux"
      ],
      "execution_count": 33,
      "outputs": [
        {
          "output_type": "execute_result",
          "data": {
            "text/plain": [
              "{'Health': 490, 'armor': 10.72, 'mana': 1000, 'melee': 550, 'new': 10}"
            ]
          },
          "metadata": {
            "tags": []
          },
          "execution_count": 33
        }
      ]
    },
    {
      "cell_type": "code",
      "metadata": {
        "colab": {
          "base_uri": "https://localhost:8080/"
        },
        "id": "EzfWpSKNZkY7",
        "outputId": "2b46161f-40f1-42d2-fad6-b32066530c63"
      },
      "source": [
        "len(lux)"
      ],
      "execution_count": 34,
      "outputs": [
        {
          "output_type": "execute_result",
          "data": {
            "text/plain": [
              "5"
            ]
          },
          "metadata": {
            "tags": []
          },
          "execution_count": 34
        }
      ]
    },
    {
      "cell_type": "code",
      "metadata": {
        "colab": {
          "base_uri": "https://localhost:8080/"
        },
        "id": "U9inHfkfZ00a",
        "outputId": "7fdd06ed-53f4-4e0d-bd05-f4f5b38d6467"
      },
      "source": [
        "lux.keys()"
      ],
      "execution_count": 35,
      "outputs": [
        {
          "output_type": "execute_result",
          "data": {
            "text/plain": [
              "dict_keys(['Health', 'mana', 'melee', 'armor', 'new'])"
            ]
          },
          "metadata": {
            "tags": []
          },
          "execution_count": 35
        }
      ]
    },
    {
      "cell_type": "code",
      "metadata": {
        "colab": {
          "base_uri": "https://localhost:8080/"
        },
        "id": "o4zAEOZQalae",
        "outputId": "42ad131c-7075-40c4-8cc8-efe537543e39"
      },
      "source": [
        "for key in lux.keys():\n",
        "    print(f'{key}:{lux[key]}')"
      ],
      "execution_count": 39,
      "outputs": [
        {
          "output_type": "stream",
          "text": [
            "Health:490\n",
            "mana:1000\n",
            "melee:550\n",
            "armor:10.72\n",
            "new:10\n"
          ],
          "name": "stdout"
        }
      ]
    },
    {
      "cell_type": "code",
      "metadata": {
        "colab": {
          "base_uri": "https://localhost:8080/"
        },
        "id": "0FTfqg1XatMr",
        "outputId": "50fa847e-6918-4150-8dce-384d0319246e"
      },
      "source": [
        "for key, value in lux.items():\n",
        "    print(f'{key}:{lux[key]}')"
      ],
      "execution_count": 41,
      "outputs": [
        {
          "output_type": "stream",
          "text": [
            "Health:490\n",
            "mana:1000\n",
            "melee:550\n",
            "armor:10.72\n",
            "new:10\n"
          ],
          "name": "stdout"
        }
      ]
    },
    {
      "cell_type": "code",
      "metadata": {
        "id": "cUaT0YUwbGIg"
      },
      "source": [
        ""
      ],
      "execution_count": null,
      "outputs": []
    }
  ]
}