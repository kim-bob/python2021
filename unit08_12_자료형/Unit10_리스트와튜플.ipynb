{
  "nbformat": 4,
  "nbformat_minor": 0,
  "metadata": {
    "colab": {
      "name": "Unit10_리스트와튜플.ipynb",
      "provenance": [],
      "collapsed_sections": []
    },
    "kernelspec": {
      "name": "python3",
      "display_name": "Python 3"
    },
    "language_info": {
      "name": "python"
    }
  },
  "cells": [
    {
      "cell_type": "markdown",
      "metadata": {
        "id": "Ina-4UV3gdff"
      },
      "source": [
        "#Unit.10 리스트와 튜플"
      ]
    },
    {
      "cell_type": "markdown",
      "metadata": {
        "id": "2yOfS3L7oq02"
      },
      "source": [
        "10.1 리스트"
      ]
    },
    {
      "cell_type": "code",
      "metadata": {
        "colab": {
          "base_uri": "https://localhost:8080/"
        },
        "id": "6iyVPbxyiLEs",
        "outputId": "7bdce682-a8ce-4768-d401-f82396a1ced5"
      },
      "source": [
        "a = [38, 26, 14, 52, 56 ]\n",
        "a\n"
      ],
      "execution_count": 2,
      "outputs": [
        {
          "output_type": "execute_result",
          "data": {
            "text/plain": [
              "[38, 26, 14, 52, 56]"
            ]
          },
          "metadata": {
            "tags": []
          },
          "execution_count": 2
        }
      ]
    },
    {
      "cell_type": "code",
      "metadata": {
        "colab": {
          "base_uri": "https://localhost:8080/"
        },
        "id": "OxsvI-mrgi6X",
        "outputId": "8e5e46af-50c0-4e20-bf57-38af2329f460"
      },
      "source": [
        "#파이썬에서 리스트엘리먼트는 다른자료형도 가능 \n",
        "#자료형이 다양하면 반복문 사용이 어려울 수 있음\n",
        "person = ['James', 19, 175.3, True, [120, 80]]\n",
        "person"
      ],
      "execution_count": 5,
      "outputs": [
        {
          "output_type": "execute_result",
          "data": {
            "text/plain": [
              "['James', 19, 175.3, True, [120, 80]]"
            ]
          },
          "metadata": {
            "tags": []
          },
          "execution_count": 5
        }
      ]
    },
    {
      "cell_type": "code",
      "metadata": {
        "id": "wGByNwCCinxf"
      },
      "source": [
        "#위의 형태는 딕셔너리로 변형해주는 것이 좋음\n",
        "person_dict = {'name':'James', 'age':19, 'Hight':175.3, 'is_male':True, 'bp':[120, 80]}"
      ],
      "execution_count": null,
      "outputs": []
    },
    {
      "cell_type": "code",
      "metadata": {
        "colab": {
          "base_uri": "https://localhost:8080/"
        },
        "id": "N06aGLUXkADv",
        "outputId": "9c5a5435-f004-4b02-8751-fbdcfd28a5da"
      },
      "source": [
        "a=[]\n",
        "b=list()\n",
        "a,b\n",
        "   "
      ],
      "execution_count": 6,
      "outputs": [
        {
          "output_type": "execute_result",
          "data": {
            "text/plain": [
              "([], [])"
            ]
          },
          "metadata": {
            "tags": []
          },
          "execution_count": 6
        }
      ]
    },
    {
      "cell_type": "code",
      "metadata": {
        "colab": {
          "base_uri": "https://localhost:8080/"
        },
        "id": "QEN499vmkIt9",
        "outputId": "274aeacf-cefd-4f54-e467-aa2b975a8418"
      },
      "source": [
        "a, b = [], []\n",
        "a, b"
      ],
      "execution_count": 8,
      "outputs": [
        {
          "output_type": "execute_result",
          "data": {
            "text/plain": [
              "([], [])"
            ]
          },
          "metadata": {
            "tags": []
          },
          "execution_count": 8
        }
      ]
    },
    {
      "cell_type": "markdown",
      "metadata": {
        "id": "YCLNH2l0oP1X"
      },
      "source": [
        "range(시작, 끝, 증가분)"
      ]
    },
    {
      "cell_type": "code",
      "metadata": {
        "colab": {
          "base_uri": "https://localhost:8080/"
        },
        "id": "s1NjhLdJko61",
        "outputId": "339a1133-2f5e-43a6-dc72-2461c8d704cb"
      },
      "source": [
        "a=range(10)\n",
        "#레인지를 리스트로 받아야 숫자 리스트가 나옴\n",
        "print(a)\n",
        "list(a)"
      ],
      "execution_count": 11,
      "outputs": [
        {
          "output_type": "stream",
          "text": [
            "range(0, 10)\n"
          ],
          "name": "stdout"
        },
        {
          "output_type": "execute_result",
          "data": {
            "text/plain": [
              "[0, 1, 2, 3, 4, 5, 6, 7, 8, 9]"
            ]
          },
          "metadata": {
            "tags": []
          },
          "execution_count": 11
        }
      ]
    },
    {
      "cell_type": "code",
      "metadata": {
        "colab": {
          "base_uri": "https://localhost:8080/"
        },
        "id": "b9gC-zWelJRt",
        "outputId": "ac29fc56-50cb-4b03-a90a-6784307bf2a0"
      },
      "source": [
        "#홀수만 리스트 뽑기\n",
        "list(range(1, 10, 2))\n",
        "#짝수만 뽑기\n",
        "list(range(2, 11, 2))"
      ],
      "execution_count": 13,
      "outputs": [
        {
          "output_type": "execute_result",
          "data": {
            "text/plain": [
              "[2, 4, 6, 8, 10]"
            ]
          },
          "metadata": {
            "tags": []
          },
          "execution_count": 13
        }
      ]
    },
    {
      "cell_type": "code",
      "metadata": {
        "colab": {
          "base_uri": "https://localhost:8080/"
        },
        "id": "wZ8IICm5oYju",
        "outputId": "b85bad48-516b-42a8-e8da-bcc8e6ff4139"
      },
      "source": [
        "list(range(10, 0, -1))"
      ],
      "execution_count": 14,
      "outputs": [
        {
          "output_type": "execute_result",
          "data": {
            "text/plain": [
              "[10, 9, 8, 7, 6, 5, 4, 3, 2, 1]"
            ]
          },
          "metadata": {
            "tags": []
          },
          "execution_count": 14
        }
      ]
    },
    {
      "cell_type": "markdown",
      "metadata": {
        "id": "ofj-oSA5ouse"
      },
      "source": [
        "10.2 튜플(tuple)\n"
      ]
    },
    {
      "cell_type": "code",
      "metadata": {
        "id": "wR6UjsK9ly07"
      },
      "source": [
        "a=(30, 38, 21, 47)"
      ],
      "execution_count": 15,
      "outputs": []
    },
    {
      "cell_type": "code",
      "metadata": {
        "colab": {
          "base_uri": "https://localhost:8080/"
        },
        "id": "2FPBfcgTo5gE",
        "outputId": "29d9e31a-760c-4e10-9e18-89620b1f5f45"
      },
      "source": [
        "person = ('James', 19, 175.3, True, [120, 80])\n",
        "person"
      ],
      "execution_count": 16,
      "outputs": [
        {
          "output_type": "execute_result",
          "data": {
            "text/plain": [
              "('James', 19, 175.3, True, [120, 80])"
            ]
          },
          "metadata": {
            "tags": []
          },
          "execution_count": 16
        }
      ]
    },
    {
      "cell_type": "code",
      "metadata": {
        "colab": {
          "base_uri": "https://localhost:8080/"
        },
        "id": "wTCMyDCupSex",
        "outputId": "6a849881-3094-4b09-e333-fed2e067dffa"
      },
      "source": [
        "a= tuple()\n",
        "print(a)\n",
        "a"
      ],
      "execution_count": 25,
      "outputs": [
        {
          "output_type": "stream",
          "text": [
            "()\n"
          ],
          "name": "stdout"
        },
        {
          "output_type": "execute_result",
          "data": {
            "text/plain": [
              "()"
            ]
          },
          "metadata": {
            "tags": []
          },
          "execution_count": 25
        }
      ]
    },
    {
      "cell_type": "code",
      "metadata": {
        "colab": {
          "base_uri": "https://localhost:8080/"
        },
        "id": "ARQVy18UpxOi",
        "outputId": "5bf3d7cd-8dde-4943-8042-a530c27bcd25"
      },
      "source": [
        "#a는정수\n",
        "a=(38)\n",
        "print(a)\n",
        "#b는 튜플\n",
        "b=(38,)\n",
        "print(b)"
      ],
      "execution_count": 27,
      "outputs": [
        {
          "output_type": "stream",
          "text": [
            "38\n",
            "(38,)\n"
          ],
          "name": "stdout"
        }
      ]
    },
    {
      "cell_type": "code",
      "metadata": {
        "colab": {
          "base_uri": "https://localhost:8080/"
        },
        "id": "oXo_zHzqqmA3",
        "outputId": "4163ccbb-f23d-49e4-be71-8353a89173da"
      },
      "source": [
        "tuple(range(5))"
      ],
      "execution_count": 28,
      "outputs": [
        {
          "output_type": "execute_result",
          "data": {
            "text/plain": [
              "(0, 1, 2, 3, 4)"
            ]
          },
          "metadata": {
            "tags": []
          },
          "execution_count": 28
        }
      ]
    },
    {
      "cell_type": "code",
      "metadata": {
        "colab": {
          "base_uri": "https://localhost:8080/"
        },
        "id": "L3YD3mlIrEmm",
        "outputId": "0c6720b0-0737-4172-9f0f-5b82f8acebbd"
      },
      "source": [
        "#리스트에서 튜플 상호변경가능\n",
        "a=[1,3,4]\n",
        "b=tuple(a)\n",
        "c=list(b)\n",
        "c\n",
        "#상호변경안되는 경우\n",
        "#x=10 \n",
        "#y=tuple(x)\n",
        "\n",
        "tuple('Hello')\n",
        "tuple('안녕하세요')"
      ],
      "execution_count": 34,
      "outputs": [
        {
          "output_type": "execute_result",
          "data": {
            "text/plain": [
              "('안', '녕', '하', '세', '요')"
            ]
          },
          "metadata": {
            "tags": []
          },
          "execution_count": 34
        }
      ]
    },
    {
      "cell_type": "code",
      "metadata": {
        "colab": {
          "base_uri": "https://localhost:8080/"
        },
        "id": "1zVWU7Azqt-D",
        "outputId": "0765791d-3fa5-4918-d51b-9583b9d6a2ed"
      },
      "source": [
        "#튜플언패킹\n",
        "a=(1,3,4)\n",
        "x,y,z=a\n",
        "x,y,z"
      ],
      "execution_count": 37,
      "outputs": [
        {
          "output_type": "execute_result",
          "data": {
            "text/plain": [
              "(1, 3, 4)"
            ]
          },
          "metadata": {
            "tags": []
          },
          "execution_count": 37
        }
      ]
    },
    {
      "cell_type": "code",
      "metadata": {
        "colab": {
          "base_uri": "https://localhost:8080/"
        },
        "id": "yN_k2QKLsJCI",
        "outputId": "f7b05820-8a57-42b4-8004-32fe2c0425c0"
      },
      "source": [
        "#리스트언패킹\n",
        "x,y,z = [1,3,5]\n",
        "x,y,z"
      ],
      "execution_count": 38,
      "outputs": [
        {
          "output_type": "execute_result",
          "data": {
            "text/plain": [
              "(1, 3, 5)"
            ]
          },
          "metadata": {
            "tags": []
          },
          "execution_count": 38
        }
      ]
    },
    {
      "cell_type": "code",
      "metadata": {
        "id": "FP-rY92zscuQ"
      },
      "source": [
        ""
      ],
      "execution_count": null,
      "outputs": []
    }
  ]
}