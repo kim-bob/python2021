{
  "nbformat": 4,
  "nbformat_minor": 0,
  "metadata": {
    "colab": {
      "name": "Unit35_정적메서드.ipynb",
      "provenance": [],
      "collapsed_sections": []
    },
    "kernelspec": {
      "name": "python3",
      "display_name": "Python 3"
    },
    "language_info": {
      "name": "python"
    }
  },
  "cells": [
    {
      "cell_type": "markdown",
      "metadata": {
        "id": "pRsxL5LrA59j"
      },
      "source": [
        "#35. 정적메서드"
      ]
    },
    {
      "cell_type": "code",
      "metadata": {
        "id": "fSSpGB5bA5GY"
      },
      "source": [
        "class Calc :\n",
        "    @staticmethod\n",
        "    def add (a, b) :\n",
        "        print (a+b) \n",
        "        "
      ],
      "execution_count": 1,
      "outputs": []
    },
    {
      "cell_type": "code",
      "metadata": {
        "colab": {
          "base_uri": "https://localhost:8080/"
        },
        "id": "u5t8SFq5BViF",
        "outputId": "f7ebb8c7-c009-429d-b218-8c7d7af24611"
      },
      "source": [
        "Calc.add(10,20)"
      ],
      "execution_count": 2,
      "outputs": [
        {
          "output_type": "stream",
          "text": [
            "30\n"
          ],
          "name": "stdout"
        }
      ]
    },
    {
      "cell_type": "code",
      "metadata": {
        "id": "c7wictHRBdsP"
      },
      "source": [
        ""
      ],
      "execution_count": null,
      "outputs": []
    }
  ]
}