{
  "nbformat": 4,
  "nbformat_minor": 0,
  "metadata": {
    "colab": {
      "name": "Unit31_재귀호출.ipynb",
      "provenance": [],
      "collapsed_sections": []
    },
    "kernelspec": {
      "name": "python3",
      "display_name": "Python 3"
    },
    "language_info": {
      "name": "python"
    }
  },
  "cells": [
    {
      "cell_type": "markdown",
      "metadata": {
        "id": "myma2znUuGLD"
      },
      "source": [
        "#Unit 31. 재귀호출(Recursive Call)"
      ]
    },
    {
      "cell_type": "markdown",
      "metadata": {
        "id": "EOcIf-AsuhhE"
      },
      "source": [
        "##factorial 함수를 재귀 호출로 구현"
      ]
    },
    {
      "cell_type": "code",
      "metadata": {
        "id": "g0GVLYtauCd_"
      },
      "source": [
        "def factorial(n) :\n",
        "    if n == 0 : # n== 1 :\n",
        "        return 1 \n",
        "    return n*factorial(n-1) \n",
        " "
      ],
      "execution_count": 10,
      "outputs": []
    },
    {
      "cell_type": "code",
      "metadata": {
        "colab": {
          "base_uri": "https://localhost:8080/"
        },
        "id": "wbZpxychvdfB",
        "outputId": "df78fc00-03f2-40ad-f626-62dce8354859"
      },
      "source": [
        "factorial(1)"
      ],
      "execution_count": 12,
      "outputs": [
        {
          "output_type": "execute_result",
          "data": {
            "text/plain": [
              "1"
            ]
          },
          "metadata": {
            "tags": []
          },
          "execution_count": 12
        }
      ]
    },
    {
      "cell_type": "markdown",
      "metadata": {
        "id": "AxzzOTnnwXIJ"
      },
      "source": [
        "### fibonacci 수열\n",
        "\n",
        "\n",
        "1.   f(n) = f(n-1) + f(n-2), n>=3 \n",
        "2.   f(1)= 1, f(2) =1\n",
        "\n"
      ]
    },
    {
      "cell_type": "code",
      "metadata": {
        "id": "9nAqIC00vepL"
      },
      "source": [
        "def fibon(n) : \n",
        "    if n == 1 or n == 2 :\n",
        "      return 1\n",
        "    return fibon(n-1) + fibon(n-2)"
      ],
      "execution_count": 42,
      "outputs": []
    },
    {
      "cell_type": "code",
      "metadata": {
        "colab": {
          "base_uri": "https://localhost:8080/"
        },
        "id": "mBNweFEzxK3Z",
        "outputId": "3aa4349d-8cff-4103-dcdd-19fb76dad967"
      },
      "source": [
        "[fibon(i) for i in range(1, 11)]"
      ],
      "execution_count": 44,
      "outputs": [
        {
          "output_type": "execute_result",
          "data": {
            "text/plain": [
              "[1, 1, 2, 3, 5, 8, 13, 21, 34, 55]"
            ]
          },
          "metadata": {
            "tags": []
          },
          "execution_count": 44
        }
      ]
    }
  ]
}