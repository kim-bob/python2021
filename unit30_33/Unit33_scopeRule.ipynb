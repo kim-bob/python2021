{
  "nbformat": 4,
  "nbformat_minor": 0,
  "metadata": {
    "colab": {
      "name": "Unit33_scopeRule.ipynb",
      "provenance": [],
      "collapsed_sections": []
    },
    "kernelspec": {
      "name": "python3",
      "display_name": "Python 3"
    },
    "language_info": {
      "name": "python"
    }
  },
  "cells": [
    {
      "cell_type": "markdown",
      "metadata": {
        "id": "zFrGOUbHrpDC"
      },
      "source": [
        "#Unit33. 변수의 사용범위(Scope Rule)"
      ]
    },
    {
      "cell_type": "code",
      "metadata": {
        "id": "bg2IIcturkA9"
      },
      "source": [
        "x= 10 #전역(global) 변수 \n",
        "def foo():\n",
        "    print(x)\n",
        "\n",
        "foo()\n",
        "print(x)\n"
      ],
      "execution_count": 1,
      "outputs": []
    },
    {
      "cell_type": "code",
      "metadata": {
        "colab": {
          "base_uri": "https://localhost:8080/"
        },
        "id": "rhDgvdcAry7q",
        "outputId": "11160c1c-f5ff-430b-92df-42643df70c66"
      },
      "source": [
        "def foo():\n",
        "    y=10 #지역(local)변수\n",
        "    print(y)\n",
        "foo()\n",
        "\n",
        "#print(y) #y는 로컬변수로 호출불가\n",
        "#변수는 글로벌 변수를 쓰는것이 좋음"
      ],
      "execution_count": 7,
      "outputs": [
        {
          "output_type": "stream",
          "text": [
            "10\n"
          ],
          "name": "stdout"
        }
      ]
    },
    {
      "cell_type": "markdown",
      "metadata": {
        "id": "G8uRM3z8tvt9"
      },
      "source": [
        "##함수 안에서 전역 변수 변경하기"
      ]
    },
    {
      "cell_type": "code",
      "metadata": {
        "colab": {
          "base_uri": "https://localhost:8080/"
        },
        "id": "EyojOJpctBcE",
        "outputId": "07bad983-f471-4173-a9b9-8765b2557138"
      },
      "source": [
        "x=10\n",
        "def foo():\n",
        "    x=20 #지역(local)변수\n",
        "    print(x)\n",
        "foo()\n",
        "print(x)"
      ],
      "execution_count": 11,
      "outputs": [
        {
          "output_type": "stream",
          "text": [
            "20\n",
            "10\n"
          ],
          "name": "stdout"
        }
      ]
    },
    {
      "cell_type": "code",
      "metadata": {
        "colab": {
          "base_uri": "https://localhost:8080/"
        },
        "id": "rX82zF-5t87H",
        "outputId": "e636c6b1-dfca-44db-fd82-4526b01ee068"
      },
      "source": [
        "x=10\n",
        "def foo():\n",
        "    global x #글로벌로 선언(좋은방법은아님)\n",
        "    x=20 #지역(local)변수\n",
        "    print(x)\n",
        "foo()\n",
        "print(x)"
      ],
      "execution_count": 12,
      "outputs": [
        {
          "output_type": "stream",
          "text": [
            "20\n",
            "20\n"
          ],
          "name": "stdout"
        }
      ]
    },
    {
      "cell_type": "code",
      "metadata": {
        "colab": {
          "base_uri": "https://localhost:8080/"
        },
        "id": "qoJcPcOLumMb",
        "outputId": "1fe66e54-656e-444a-feea-f96735d5e1d2"
      },
      "source": [
        "def foo():\n",
        "    global z\n",
        "    z = 10\n",
        "    print(z)\n",
        "\n",
        "foo()\n",
        "print(z)"
      ],
      "execution_count": 13,
      "outputs": [
        {
          "output_type": "stream",
          "text": [
            "10\n",
            "10\n"
          ],
          "name": "stdout"
        }
      ]
    },
    {
      "cell_type": "code",
      "metadata": {
        "id": "tWUJJWx6vKhl"
      },
      "source": [
        ""
      ],
      "execution_count": null,
      "outputs": []
    }
  ]
}