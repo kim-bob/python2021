{
  "nbformat": 4,
  "nbformat_minor": 0,
  "metadata": {
    "colab": {
      "name": "Unit30_위치인수_키워드인수.ipynb",
      "provenance": [],
      "collapsed_sections": []
    },
    "kernelspec": {
      "name": "python3",
      "display_name": "Python 3"
    },
    "language_info": {
      "name": "python"
    }
  },
  "cells": [
    {
      "cell_type": "markdown",
      "metadata": {
        "id": "EEbAEiUAfuea"
      },
      "source": [
        "#30.1 위치인수"
      ]
    },
    {
      "cell_type": "code",
      "metadata": {
        "id": "ei36uwQEgwna"
      },
      "source": [
        "def print_number(a, b, c):\n",
        "    print(a)\n",
        "    print(b)\n",
        "    print(c)"
      ],
      "execution_count": 6,
      "outputs": []
    },
    {
      "cell_type": "code",
      "metadata": {
        "colab": {
          "base_uri": "https://localhost:8080/"
        },
        "id": "qMeFNj-Ug72J",
        "outputId": "85d7433a-c2be-4df7-8c9c-596cb597ca35"
      },
      "source": [
        "print_number(10, 20, 30)"
      ],
      "execution_count": 7,
      "outputs": [
        {
          "output_type": "stream",
          "text": [
            "10\n",
            "20\n",
            "30\n"
          ],
          "name": "stdout"
        }
      ]
    },
    {
      "cell_type": "code",
      "metadata": {
        "colab": {
          "base_uri": "https://localhost:8080/"
        },
        "id": "dNPmBo9Vg-sX",
        "outputId": "0a27498a-d024-47a1-a906-30b03d4de34e"
      },
      "source": [
        "x= [10, 20, 30]\n",
        "print_number(*x) #리스트 언패킹"
      ],
      "execution_count": 8,
      "outputs": [
        {
          "output_type": "stream",
          "text": [
            "10\n",
            "20\n",
            "30\n"
          ],
          "name": "stdout"
        }
      ]
    },
    {
      "cell_type": "code",
      "metadata": {
        "colab": {
          "base_uri": "https://localhost:8080/"
        },
        "id": "CrxvloLFhL_f",
        "outputId": "25d9c304-13cd-454b-8eae-2fb3afb5cc33"
      },
      "source": [
        "#*x, *y - 리스트/ 튜플 언패킹\n",
        "x, y = [10,20,30],(40, 50, 60)\n",
        "print_number(*x)\n",
        "print_number(*y)\n"
      ],
      "execution_count": 9,
      "outputs": [
        {
          "output_type": "stream",
          "text": [
            "10\n",
            "20\n",
            "30\n",
            "40\n",
            "50\n",
            "60\n"
          ],
          "name": "stdout"
        }
      ]
    },
    {
      "cell_type": "markdown",
      "metadata": {
        "id": "SOimRXSfhyf7"
      },
      "source": [
        "###가변 인수 함수"
      ]
    },
    {
      "cell_type": "code",
      "metadata": {
        "id": "LLITupPVhx23"
      },
      "source": [
        "def print_number(*args) :\n",
        "    for args in args:\n",
        "        print(args)"
      ],
      "execution_count": 12,
      "outputs": []
    },
    {
      "cell_type": "code",
      "metadata": {
        "colab": {
          "base_uri": "https://localhost:8080/"
        },
        "id": "RTJY5O4Khwak",
        "outputId": "160cf5a6-dfcc-40fa-aded-aefb51a401dc"
      },
      "source": [
        "print_number(10, 20, 30, 40)"
      ],
      "execution_count": 13,
      "outputs": [
        {
          "output_type": "stream",
          "text": [
            "10\n",
            "20\n",
            "30\n",
            "40\n"
          ],
          "name": "stdout"
        }
      ]
    },
    {
      "cell_type": "code",
      "metadata": {
        "id": "EkrRTJ42iDqP"
      },
      "source": [
        "def print_numbers(a, *args) :\n",
        "    print(a)\n",
        "    print(args)"
      ],
      "execution_count": 15,
      "outputs": []
    },
    {
      "cell_type": "code",
      "metadata": {
        "colab": {
          "base_uri": "https://localhost:8080/"
        },
        "id": "fqsWxamgiouT",
        "outputId": "91f9cf9f-a63a-4bf5-875a-4fb6b095c34e"
      },
      "source": [
        "print_numbers(1, 10 ,20)"
      ],
      "execution_count": 16,
      "outputs": [
        {
          "output_type": "stream",
          "text": [
            "1\n",
            "(10, 20)\n"
          ],
          "name": "stdout"
        }
      ]
    },
    {
      "cell_type": "code",
      "metadata": {
        "colab": {
          "base_uri": "https://localhost:8080/"
        },
        "id": "s1fFSy55ivRk",
        "outputId": "6965aee6-2f00-495a-ba62-11fc738c0af1"
      },
      "source": [
        "print_numbers(*x)"
      ],
      "execution_count": 17,
      "outputs": [
        {
          "output_type": "stream",
          "text": [
            "10\n",
            "(20, 30)\n"
          ],
          "name": "stdout"
        }
      ]
    },
    {
      "cell_type": "code",
      "metadata": {
        "id": "Fkr51Q5FjEOD"
      },
      "source": [
        "#고정 위치 인수가 가변 위치 인수보다 먼저 나와야 함 !!\n",
        "def print_numbers4(*args, a) : \n",
        "    print(args)\n",
        "    print(a)"
      ],
      "execution_count": 19,
      "outputs": []
    },
    {
      "cell_type": "code",
      "metadata": {
        "colab": {
          "base_uri": "https://localhost:8080/",
          "height": 176
        },
        "id": "KdpqQ84YjYq2",
        "outputId": "7c00d00a-f846-4a38-d53c-2ed1a5524a81"
      },
      "source": [
        "print_numbers4(*x)"
      ],
      "execution_count": 20,
      "outputs": [
        {
          "output_type": "error",
          "ename": "TypeError",
          "evalue": "ignored",
          "traceback": [
            "\u001b[0;31m---------------------------------------------------------------------------\u001b[0m",
            "\u001b[0;31mTypeError\u001b[0m                                 Traceback (most recent call last)",
            "\u001b[0;32m<ipython-input-20-c9aba5af1127>\u001b[0m in \u001b[0;36m<module>\u001b[0;34m()\u001b[0m\n\u001b[0;32m----> 1\u001b[0;31m \u001b[0mprint_numbers4\u001b[0m\u001b[0;34m(\u001b[0m\u001b[0;34m*\u001b[0m\u001b[0mx\u001b[0m\u001b[0;34m)\u001b[0m\u001b[0;34m\u001b[0m\u001b[0;34m\u001b[0m\u001b[0m\n\u001b[0m",
            "\u001b[0;31mTypeError\u001b[0m: print_numbers4() missing 1 required keyword-only argument: 'a'"
          ]
        }
      ]
    },
    {
      "cell_type": "markdown",
      "metadata": {
        "id": "FJJmsJjfmWnp"
      },
      "source": [
        "##30.2 키워드 인수\n",
        "\n"
      ]
    },
    {
      "cell_type": "code",
      "metadata": {
        "id": "ejrk_c5wjhtM"
      },
      "source": [
        "def personal_info(name, age, addr) :\n",
        "    print('이름:', name )\n",
        "    print('나이:', age)\n",
        "    print('주소', addr)\n",
        "\n",
        "personal_info('홍길동')"
      ],
      "execution_count": 21,
      "outputs": []
    },
    {
      "cell_type": "markdown",
      "metadata": {
        "id": "u6UE0bfDosri"
      },
      "source": [
        "#30.3 키워드 인수와 딕셔너리 언패킹\n"
      ]
    },
    {
      "cell_type": "code",
      "metadata": {
        "colab": {
          "base_uri": "https://localhost:8080/"
        },
        "id": "tlo4flqWonIQ",
        "outputId": "b72318ec-eae5-41e4-ca66-bca491bca80f"
      },
      "source": [
        "x={'name':'홍길동', 'age':30, 'addr':'서울강남구 도곡동'}\n",
        "personal_info(**x)"
      ],
      "execution_count": 29,
      "outputs": [
        {
          "output_type": "stream",
          "text": [
            "이름: 홍길동\n",
            "나이: 30\n",
            "주소 서울강남구 도곡동\n"
          ],
          "name": "stdout"
        }
      ]
    },
    {
      "cell_type": "code",
      "metadata": {
        "id": "HTjjbGDWm4rw"
      },
      "source": [
        "#x는 x의 키를 불러냄"
      ],
      "execution_count": null,
      "outputs": []
    },
    {
      "cell_type": "markdown",
      "metadata": {
        "id": "L7GZpHJupKDI"
      },
      "source": [
        "###가변 키워드 인수"
      ]
    },
    {
      "cell_type": "code",
      "metadata": {
        "id": "6KHmLsQxpMgR"
      },
      "source": [
        "def personal_info2(**kwargs) :\n",
        "    for key, value in kwargs.items() :\n",
        "        print(f'{key}:{value}')\n",
        "        "
      ],
      "execution_count": 30,
      "outputs": []
    },
    {
      "cell_type": "code",
      "metadata": {
        "colab": {
          "base_uri": "https://localhost:8080/"
        },
        "id": "7Swvin3Tpa7-",
        "outputId": "d926b584-5ed4-4349-9560-a74ea5ea3ab6"
      },
      "source": [
        "personal_info2(**x)"
      ],
      "execution_count": 31,
      "outputs": [
        {
          "output_type": "stream",
          "text": [
            "name:홍길동\n",
            "age:30\n",
            "addr:서울강남구 도곡동\n"
          ],
          "name": "stdout"
        }
      ]
    },
    {
      "cell_type": "code",
      "metadata": {
        "colab": {
          "base_uri": "https://localhost:8080/"
        },
        "id": "d-gOJeENpdiY",
        "outputId": "c7fa8598-ee0a-4a98-e12f-d365adecab55"
      },
      "source": [
        "personal_info2(name='홍길동', age=30)"
      ],
      "execution_count": 24,
      "outputs": [
        {
          "output_type": "stream",
          "text": [
            "name:홍길동\n",
            "age:30\n"
          ],
          "name": "stdout"
        }
      ]
    },
    {
      "cell_type": "code",
      "metadata": {
        "id": "dHq78EK2pllG"
      },
      "source": [
        "def personal_info3(name, **kwargs) :\n",
        "    print(name)\n",
        "    print(kwargs)\n"
      ],
      "execution_count": 32,
      "outputs": []
    },
    {
      "cell_type": "code",
      "metadata": {
        "colab": {
          "base_uri": "https://localhost:8080/"
        },
        "id": "sNL_kSeNp737",
        "outputId": "bf5631a3-a9fe-4ead-e8ec-624b407ce435"
      },
      "source": [
        "personal_info3(**x)"
      ],
      "execution_count": 33,
      "outputs": [
        {
          "output_type": "stream",
          "text": [
            "홍길동\n",
            "{'age': 30, 'addr': '서울강남구 도곡동'}\n"
          ],
          "name": "stdout"
        }
      ]
    },
    {
      "cell_type": "markdown",
      "metadata": {
        "id": "HoDtbr7-qVF0"
      },
      "source": [
        "##위치 인수와 키우드 인수"
      ]
    },
    {
      "cell_type": "code",
      "metadata": {
        "id": "B26Msii9p_vj"
      },
      "source": [
        "def my_print(*args, **kwargs) : \n",
        "    print(*args, **kwargs)"
      ],
      "execution_count": 38,
      "outputs": []
    },
    {
      "cell_type": "code",
      "metadata": {
        "colab": {
          "base_uri": "https://localhost:8080/"
        },
        "id": "aWTZSP16qq3z",
        "outputId": "fff84556-c4a9-4b84-c7c7-640a3e992866"
      },
      "source": [
        "my_print(10,20,30, sep=', ')"
      ],
      "execution_count": 39,
      "outputs": [
        {
          "output_type": "stream",
          "text": [
            "10, 20, 30\n"
          ],
          "name": "stdout"
        }
      ]
    },
    {
      "cell_type": "markdown",
      "metadata": {
        "id": "wAgXFCuTrXGk"
      },
      "source": [
        "## 30.4 매개변수에 초기값 지정\n"
      ]
    },
    {
      "cell_type": "code",
      "metadata": {
        "id": "PcNYSrDbqwpc"
      },
      "source": [
        "def personal_info4(name, age, addr='비공개') :\n",
        "    print('이름:', name)\n",
        "    print('나이:', age)\n",
        "    print('주소:', addr)"
      ],
      "execution_count": 41,
      "outputs": []
    },
    {
      "cell_type": "code",
      "metadata": {
        "colab": {
          "base_uri": "https://localhost:8080/"
        },
        "id": "MyeCNefhrt06",
        "outputId": "918cedc6-ed03-41ea-d4f6-fd808d91d5c0"
      },
      "source": [
        "personal_info4('홍길동', 30)"
      ],
      "execution_count": 42,
      "outputs": [
        {
          "output_type": "stream",
          "text": [
            "이름: 홍길동\n",
            "나이: 30\n",
            "주소 비공개\n"
          ],
          "name": "stdout"
        }
      ]
    },
    {
      "cell_type": "code",
      "metadata": {
        "colab": {
          "base_uri": "https://localhost:8080/"
        },
        "id": "3oxm5gWhrych",
        "outputId": "13133a53-ebfa-47ef-cd36-d338065b77e9"
      },
      "source": [
        "personal_info4(**x)"
      ],
      "execution_count": 43,
      "outputs": [
        {
          "output_type": "stream",
          "text": [
            "이름: 홍길동\n",
            "나이: 30\n",
            "주소 서울강남구 도곡동\n"
          ],
          "name": "stdout"
        }
      ]
    },
    {
      "cell_type": "code",
      "metadata": {
        "id": "bjBIT6iir7R0"
      },
      "source": [
        ""
      ],
      "execution_count": null,
      "outputs": []
    }
  ]
}