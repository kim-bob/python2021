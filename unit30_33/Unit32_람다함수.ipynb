{
  "nbformat": 4,
  "nbformat_minor": 0,
  "metadata": {
    "colab": {
      "name": "Unit32_람다함수.ipynb",
      "provenance": [],
      "collapsed_sections": []
    },
    "kernelspec": {
      "name": "python3",
      "display_name": "Python 3"
    },
    "language_info": {
      "name": "python"
    }
  },
  "cells": [
    {
      "cell_type": "markdown",
      "metadata": {
        "id": "rzjz2schhI6o"
      },
      "source": [
        "#Unit32. 람다 함수 = 익명(Anonymous) 함수"
      ]
    },
    {
      "cell_type": "code",
      "metadata": {
        "id": "8rHHGm6NhAk-"
      },
      "source": [
        "def plus_ten(x):\n",
        "    return x+10"
      ],
      "execution_count": 4,
      "outputs": []
    },
    {
      "cell_type": "code",
      "metadata": {
        "colab": {
          "base_uri": "https://localhost:8080/"
        },
        "id": "Enx-iRjJhlyb",
        "outputId": "10cecde3-90ec-42a0-b8ce-07b0b430b5c8"
      },
      "source": [
        "plus_ten(5)"
      ],
      "execution_count": 6,
      "outputs": [
        {
          "output_type": "execute_result",
          "data": {
            "text/plain": [
              "15"
            ]
          },
          "metadata": {
            "tags": []
          },
          "execution_count": 6
        }
      ]
    },
    {
      "cell_type": "code",
      "metadata": {
        "colab": {
          "base_uri": "https://localhost:8080/"
        },
        "id": "bI8LpMMOhn6s",
        "outputId": "46ffb30f-9354-40dd-f349-0eb206b86700"
      },
      "source": [
        "plus_ten2 = lambda x : x+10\n",
        "plus_ten(5)"
      ],
      "execution_count": 7,
      "outputs": [
        {
          "output_type": "execute_result",
          "data": {
            "text/plain": [
              "15"
            ]
          },
          "metadata": {
            "tags": []
          },
          "execution_count": 7
        }
      ]
    },
    {
      "cell_type": "code",
      "metadata": {
        "colab": {
          "base_uri": "https://localhost:8080/"
        },
        "id": "6E4fakWIiKYC",
        "outputId": "55f968f8-7735-4142-9177-98308dc06915"
      },
      "source": [
        "(lambda x : x+10)(5)"
      ],
      "execution_count": 8,
      "outputs": [
        {
          "output_type": "execute_result",
          "data": {
            "text/plain": [
              "15"
            ]
          },
          "metadata": {
            "tags": []
          },
          "execution_count": 8
        }
      ]
    },
    {
      "cell_type": "code",
      "metadata": {
        "colab": {
          "base_uri": "https://localhost:8080/"
        },
        "id": "vwt-iwZhigdb",
        "outputId": "59a79272-4aa1-4d7c-e08b-5211b0f3a3d2"
      },
      "source": [
        "#map(int, input().split())\n",
        "list(map(lambda x: int(x)+10, input().split()))"
      ],
      "execution_count": 12,
      "outputs": [
        {
          "output_type": "stream",
          "text": [
            "2 3 4\n"
          ],
          "name": "stdout"
        },
        {
          "output_type": "execute_result",
          "data": {
            "text/plain": [
              "[12, 13, 14]"
            ]
          },
          "metadata": {
            "tags": []
          },
          "execution_count": 12
        }
      ]
    },
    {
      "cell_type": "code",
      "metadata": {
        "colab": {
          "base_uri": "https://localhost:8080/"
        },
        "id": "eNs1FgyHi5gr",
        "outputId": "9618a9ed-e984-4cc6-aad3-cd69d1897d3c"
      },
      "source": [
        "def plus_ten(x):\n",
        "    return int(x)+10\n",
        "list(map(plus_ten, input().split()))"
      ],
      "execution_count": 13,
      "outputs": [
        {
          "output_type": "stream",
          "text": [
            "2 3 4\n"
          ],
          "name": "stdout"
        },
        {
          "output_type": "execute_result",
          "data": {
            "text/plain": [
              "[12, 13, 14]"
            ]
          },
          "metadata": {
            "tags": []
          },
          "execution_count": 13
        }
      ]
    },
    {
      "cell_type": "markdown",
      "metadata": {
        "id": "Lh_r4cgWj4Ey"
      },
      "source": [
        "###제약 사항\n"
      ]
    },
    {
      "cell_type": "code",
      "metadata": {
        "colab": {
          "base_uri": "https://localhost:8080/",
          "height": 139
        },
        "id": "JktTStDyj6Ut",
        "outputId": "5ad36a63-7a23-42c2-ee70-e92b19a6b1f4"
      },
      "source": [
        "#람다함수에서 변수를 만들수 없음\n",
        "(lambda x : y=10, x+y)(3)\n"
      ],
      "execution_count": 14,
      "outputs": [
        {
          "output_type": "error",
          "ename": "SyntaxError",
          "evalue": "ignored",
          "traceback": [
            "\u001b[0;36m  File \u001b[0;32m\"<ipython-input-14-b185741a5e9e>\"\u001b[0;36m, line \u001b[0;32m2\u001b[0m\n\u001b[0;31m    (lambda x : y=10, x+y)(3)\u001b[0m\n\u001b[0m                 ^\u001b[0m\n\u001b[0;31mSyntaxError\u001b[0m\u001b[0;31m:\u001b[0m invalid syntax\n"
          ]
        }
      ]
    },
    {
      "cell_type": "code",
      "metadata": {
        "colab": {
          "base_uri": "https://localhost:8080/"
        },
        "id": "fbHmgp7ajYnq",
        "outputId": "71a5b54f-e72e-4dd2-9f5d-385d6122d611"
      },
      "source": [
        "y=10\n",
        "(lambda x : x+y)(3)"
      ],
      "execution_count": 15,
      "outputs": [
        {
          "output_type": "execute_result",
          "data": {
            "text/plain": [
              "13"
            ]
          },
          "metadata": {
            "tags": []
          },
          "execution_count": 15
        }
      ]
    },
    {
      "cell_type": "markdown",
      "metadata": {
        "id": "pXmf2Bw-krwB"
      },
      "source": [
        "###조건부 함수"
      ]
    },
    {
      "cell_type": "code",
      "metadata": {
        "colab": {
          "base_uri": "https://localhost:8080/"
        },
        "id": "-EIbrAdvkios",
        "outputId": "cc6d6d3c-13c0-4ca6-e5ea-9fda22eec500"
      },
      "source": [
        "#리스트 a 에서 3의 배수를 문자열로 표시\n",
        "a = list(range(1, 10))\n",
        "list(map(lambda x : str(x) if x%3==0 else x, a)) #3항연산자\n",
        "\n",
        "a = list(range(1, 10))\n",
        "list(map(lambda x : str('박수') if x%3==0 else x, a)) #3항연산자"
      ],
      "execution_count": 26,
      "outputs": [
        {
          "output_type": "execute_result",
          "data": {
            "text/plain": [
              "[1, 2, '박수', 4, 5, '박수', 7, 8, '박수']"
            ]
          },
          "metadata": {
            "tags": []
          },
          "execution_count": 26
        }
      ]
    },
    {
      "cell_type": "code",
      "metadata": {
        "colab": {
          "base_uri": "https://localhost:8080/"
        },
        "id": "BBL3ABZJl1MA",
        "outputId": "e1beafdf-a94e-4a3d-aac2-a5291ff24677"
      },
      "source": [
        "#리스트a에서 3의 배수는 문자열로 , 5의 배수는 실수로 변환\n",
        "list(map(lambda x : str(x) if x%3==0 else float(x) if x%5==0 else x, a)) \n",
        "#알아보기 힘듦 그냥 이정도면 함수를 넣는게 좋음"
      ],
      "execution_count": 28,
      "outputs": [
        {
          "output_type": "execute_result",
          "data": {
            "text/plain": [
              "[1, 2, '3', 4, 5.0, '6', 7, 8, '9']"
            ]
          },
          "metadata": {
            "tags": []
          },
          "execution_count": 28
        }
      ]
    },
    {
      "cell_type": "code",
      "metadata": {
        "colab": {
          "base_uri": "https://localhost:8080/"
        },
        "id": "ofErSWYWlWWL",
        "outputId": "7024c0c3-1b0a-468b-bdfe-8bddc1fc9841"
      },
      "source": [
        "a=[1,2,3,4,5]\n",
        "b=[6,7,8,9,10]\n",
        "list(map(lambda x, y : x*y, a, b))"
      ],
      "execution_count": 29,
      "outputs": [
        {
          "output_type": "execute_result",
          "data": {
            "text/plain": [
              "[6, 14, 24, 36, 50]"
            ]
          },
          "metadata": {
            "tags": []
          },
          "execution_count": 29
        }
      ]
    },
    {
      "cell_type": "markdown",
      "metadata": {
        "id": "LJkFGikioRgR"
      },
      "source": [
        "###fliter"
      ]
    },
    {
      "cell_type": "code",
      "metadata": {
        "colab": {
          "base_uri": "https://localhost:8080/"
        },
        "id": "abNOHunQoA9t",
        "outputId": "23b3bed6-e702-4ca0-f39d-ab74b38317d5"
      },
      "source": [
        "a = list(range(1, 11))\n",
        "list(filter(lambda x: 4 <= x <8, a ))"
      ],
      "execution_count": 31,
      "outputs": [
        {
          "output_type": "execute_result",
          "data": {
            "text/plain": [
              "[4, 5, 6, 7]"
            ]
          },
          "metadata": {
            "tags": []
          },
          "execution_count": 31
        }
      ]
    },
    {
      "cell_type": "code",
      "metadata": {
        "id": "wgVaqxByos0r"
      },
      "source": [
        ""
      ],
      "execution_count": null,
      "outputs": []
    }
  ]
}