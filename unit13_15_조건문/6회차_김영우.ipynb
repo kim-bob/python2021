{
  "nbformat": 4,
  "nbformat_minor": 0,
  "metadata": {
    "colab": {
      "name": "6회차_김영우.ipynb",
      "provenance": [],
      "collapsed_sections": []
    },
    "kernelspec": {
      "name": "python3",
      "display_name": "Python 3"
    },
    "language_info": {
      "name": "python"
    }
  },
  "cells": [
    {
      "cell_type": "markdown",
      "metadata": {
        "id": "-6ks79g4wK6k"
      },
      "source": [
        "#Unit 8 심사문제 정답"
      ]
    },
    {
      "cell_type": "code",
      "metadata": {
        "id": "OjJ5WdTGwE-W",
        "colab": {
          "base_uri": "https://localhost:8080/"
        },
        "outputId": "27fa966e-14ce-4ad0-a561-736dc4b379cb"
      },
      "source": [
        "#국어는 90점 이상, 영어는 80점 초과, 수학은 85점 초과, 과학은 80점 이상일 때 합격\n",
        "국어, 영어, 수학, 과학 = map(int, input().split())\n",
        "print(국어 >= 90 and 영어 > 80 and 수학 > 85 and 과학 >= 80)"
      ],
      "execution_count": null,
      "outputs": [
        {
          "output_type": "stream",
          "text": [
            "90 80 80 80\n",
            "False\n"
          ],
          "name": "stdout"
        }
      ]
    },
    {
      "cell_type": "markdown",
      "metadata": {
        "id": "MHTAJgic4n2U"
      },
      "source": [
        "#Unit 9 심사문제 정답\n"
      ]
    },
    {
      "cell_type": "code",
      "metadata": {
        "id": "OVRmVRvMx2Hg",
        "colab": {
          "base_uri": "https://localhost:8080/"
        },
        "outputId": "5481efdd-1253-410c-f5ac-2a861602dce3"
      },
      "source": [
        "s= \"\"\"\\'Python\\' is a \\\"programming language\\\"\n",
        "that lets you work quickly\n",
        "and\n",
        "integrate systems more effectively.\"\"\"\n",
        "print(s)"
      ],
      "execution_count": null,
      "outputs": [
        {
          "output_type": "stream",
          "text": [
            "'Python' is a \"programming language\"\n",
            "that lets you work quickly\n",
            "and\n",
            "integrate systems more effectively.\n"
          ],
          "name": "stdout"
        }
      ]
    },
    {
      "cell_type": "markdown",
      "metadata": {
        "id": "cwsIJSqb49qF"
      },
      "source": [
        "#Unit 10. 심사문제정답\n"
      ]
    },
    {
      "cell_type": "code",
      "metadata": {
        "colab": {
          "base_uri": "https://localhost:8080/"
        },
        "id": "J1Uayd7n3eWg",
        "outputId": "783834ec-ad06-4837-f572-75e8f7b596bb"
      },
      "source": [
        "x = int(input())\n",
        "a = tuple(range(-10, 10, x))\n",
        "print(a)"
      ],
      "execution_count": null,
      "outputs": [
        {
          "output_type": "stream",
          "text": [
            "3\n",
            "(-10, -7, -4, -1, 2, 5, 8)\n"
          ],
          "name": "stdout"
        }
      ]
    },
    {
      "cell_type": "markdown",
      "metadata": {
        "id": "B_jGJRZt69u9"
      },
      "source": [
        "#Unit 11. 심사문제정답1"
      ]
    },
    {
      "cell_type": "code",
      "metadata": {
        "colab": {
          "base_uri": "https://localhost:8080/"
        },
        "id": "wdUytkJU682d",
        "outputId": "4ddee9c9-8a3a-4502-a0b1-8cd51032db91"
      },
      "source": [
        "#oven bat pony total leak wreck curl crop space navy loss knee\n",
        "x = input().split(' ')\n",
        "del x[-1:-6:-1]\n",
        "print(tuple(x))"
      ],
      "execution_count": 54,
      "outputs": [
        {
          "output_type": "stream",
          "text": [
            "oven bat pony total leak wreck curl crop space navy loss knee\n",
            "('oven', 'bat', 'pony', 'total', 'leak', 'wreck', 'curl')\n"
          ],
          "name": "stdout"
        }
      ]
    },
    {
      "cell_type": "markdown",
      "metadata": {
        "id": "it-R6JsLCKdu"
      },
      "source": [
        "Unit 11. 심사문제정답2"
      ]
    },
    {
      "cell_type": "code",
      "metadata": {
        "colab": {
          "base_uri": "https://localhost:8080/"
        },
        "id": "jCYNoXoMDKYz",
        "outputId": "c1f66352-9738-4001-976c-75f34cc7538e"
      },
      "source": [
        "a = input()\n",
        "b = input()\n",
        "x= a[1::2]+b[0::2]\n",
        "print(x)"
      ],
      "execution_count": 68,
      "outputs": [
        {
          "output_type": "stream",
          "text": [
            "apple\n",
            "strawberry\n",
            "plsrwer\n"
          ],
          "name": "stdout"
        }
      ]
    },
    {
      "cell_type": "code",
      "metadata": {
        "id": "0gL7FZkY9Iw_",
        "colab": {
          "base_uri": "https://localhost:8080/",
          "height": 55
        },
        "outputId": "ebe79c5a-032b-41ae-abb8-8b013903e606"
      },
      "source": [
        "#apple strawberry\n",
        "a, b = input().split(' ')\n",
        "x= a[1::2]+b[0::2]\n",
        "x"
      ],
      "execution_count": 67,
      "outputs": [
        {
          "output_type": "stream",
          "text": [
            "apple strawberry\n"
          ],
          "name": "stdout"
        },
        {
          "output_type": "execute_result",
          "data": {
            "application/vnd.google.colaboratory.intrinsic+json": {
              "type": "string"
            },
            "text/plain": [
              "'plsrwer'"
            ]
          },
          "metadata": {
            "tags": []
          },
          "execution_count": 67
        }
      ]
    },
    {
      "cell_type": "markdown",
      "metadata": {
        "id": "-3_8YtkrGKVE"
      },
      "source": [
        "#Unit12 심사문제 정답\n"
      ]
    },
    {
      "cell_type": "code",
      "metadata": {
        "colab": {
          "base_uri": "https://localhost:8080/"
        },
        "id": "lVH1ssKrERCy",
        "outputId": "899305d3-cd14-40db-c555-69e65d2e3720"
      },
      "source": [
        "#health mana melee attack_speed magic_resistance\n",
        "#573.6 308.8 600 0.625 35.7\n",
        "a=input().split()\n",
        "b=map(float,input().split())\n",
        "c=dict(zip(a,b))\n",
        "print(c)"
      ],
      "execution_count": 76,
      "outputs": [
        {
          "output_type": "stream",
          "text": [
            "health mana melee attack_speed magic_resistance\n",
            "573.6 308.8 600 0.625 35.7\n",
            "{'health': 573.6, 'mana': 308.8, 'melee': 600.0, 'attack_speed': 0.625, 'magic_resistance': 35.7}\n"
          ],
          "name": "stdout"
        }
      ]
    },
    {
      "cell_type": "markdown",
      "metadata": {
        "id": "fb5z_pLzJpKR"
      },
      "source": [
        "#Unit 13. 심사문제 정답\n"
      ]
    },
    {
      "cell_type": "code",
      "metadata": {
        "colab": {
          "base_uri": "https://localhost:8080/"
        },
        "id": "axOPgI2bIdgp",
        "outputId": "cbba3c77-9fa2-44e7-9d5f-b8d58e10fa16"
      },
      "source": [
        "p=int(input())\n",
        "c=input()\n",
        "if c == 'Cash3000':\n",
        "    print(p - 3000)\n",
        "if c == 'Cash5000':\n",
        "    print(p - 5000)"
      ],
      "execution_count": 95,
      "outputs": [
        {
          "output_type": "stream",
          "text": [
            "72000\n",
            "Cash5000\n",
            "67000\n"
          ],
          "name": "stdout"
        }
      ]
    },
    {
      "cell_type": "markdown",
      "metadata": {
        "id": "kalynwUbPEBi"
      },
      "source": [
        "#Unit14 심사문제 정답"
      ]
    },
    {
      "cell_type": "code",
      "metadata": {
        "colab": {
          "base_uri": "https://localhost:8080/"
        },
        "id": "QqSxdJkxLW2r",
        "outputId": "77a2d028-d85c-40b8-c05c-9d9330f0493e"
      },
      "source": [
        "a, b, c, d = map(int, input().split())\n",
        "if  a < 0 or a > 100 or b < 0 or b > 100 or c < 0 or c > 100 or d < 0 or d > 100:\n",
        "    print('잘못된 점수')\n",
        "else : \n",
        "    if (a+b+c+d)/4 >= 80:\n",
        "        print('합격')\n",
        "    else:\n",
        "        print('불합격')"
      ],
      "execution_count": 113,
      "outputs": [
        {
          "output_type": "stream",
          "text": [
            "101 99 89 123\n",
            "잘못된 점수\n"
          ],
          "name": "stdout"
        }
      ]
    },
    {
      "cell_type": "code",
      "metadata": {
        "id": "QsWTPmKqQtyf"
      },
      "source": [
        ""
      ],
      "execution_count": null,
      "outputs": []
    }
  ]
}