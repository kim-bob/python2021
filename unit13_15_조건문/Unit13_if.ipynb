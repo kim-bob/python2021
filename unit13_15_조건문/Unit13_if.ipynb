{
  "nbformat": 4,
  "nbformat_minor": 0,
  "metadata": {
    "colab": {
      "name": "Unit13_if.ipynb",
      "provenance": [],
      "collapsed_sections": []
    },
    "kernelspec": {
      "name": "python3",
      "display_name": "Python 3"
    },
    "language_info": {
      "name": "python"
    }
  },
  "cells": [
    {
      "cell_type": "markdown",
      "metadata": {
        "id": "QPoLSQqbg2q8"
      },
      "source": [
        "#Unit 13. if 조건문\n"
      ]
    },
    {
      "cell_type": "code",
      "metadata": {
        "colab": {
          "base_uri": "https://localhost:8080/"
        },
        "id": "rRFCTK7Gg8t9",
        "outputId": "5e509dfb-f858-4e78-8bc4-5d2b42152db5"
      },
      "source": [
        "x= 10\n",
        "if x == 10 :\n",
        "      print('it is 10.')"
      ],
      "execution_count": 1,
      "outputs": [
        {
          "output_type": "stream",
          "text": [
            "it is 10.\n"
          ],
          "name": "stdout"
        }
      ]
    },
    {
      "cell_type": "code",
      "metadata": {
        "colab": {
          "base_uri": "https://localhost:8080/"
        },
        "id": "gveHeAT3ibbq",
        "outputId": "87150e64-70e9-43ff-b36d-a7f145be6621"
      },
      "source": [
        "x= 9\n",
        "if x :  #가 0이 아니면 참\n",
        "      print('it is 10.')"
      ],
      "execution_count": 3,
      "outputs": [
        {
          "output_type": "stream",
          "text": [
            "it is 10.\n"
          ],
          "name": "stdout"
        }
      ]
    },
    {
      "cell_type": "code",
      "metadata": {
        "colab": {
          "base_uri": "https://localhost:8080/"
        },
        "id": "FOB-6X_Kikaa",
        "outputId": "30f0625d-79f4-4594-babb-ac6c0d026357"
      },
      "source": [
        "x = 10\n",
        "\n",
        "if x ==10:\n",
        "      print('x값은')\n",
        "      if x>5:\n",
        "          print('10입니다.')\n",
        "print('언제나출력됩니다.')"
      ],
      "execution_count": 5,
      "outputs": [
        {
          "output_type": "stream",
          "text": [
            "x값은\n",
            "10입니다.\n",
            "언제나출력됩니다.\n"
          ],
          "name": "stdout"
        }
      ]
    },
    {
      "cell_type": "code",
      "metadata": {
        "colab": {
          "base_uri": "https://localhost:8080/"
        },
        "id": "RPyjLujpjUl6",
        "outputId": "40167036-1865-4c32-ce68-f0558a8634b2"
      },
      "source": [
        "x = 15\n",
        "if x > 10 :\n",
        "    print('10보다 큰숫자입니다.')\n",
        "    if x == 15 :\n",
        "        print('15입니다.')\n",
        "    if x == 20 :\n",
        "        print('20입니다.')"
      ],
      "execution_count": 7,
      "outputs": [
        {
          "output_type": "stream",
          "text": [
            "10보다 큰숫자입니다.\n",
            "15입니다.\n"
          ],
          "name": "stdout"
        }
      ]
    },
    {
      "cell_type": "code",
      "metadata": {
        "colab": {
          "base_uri": "https://localhost:8080/"
        },
        "id": "JHJnXdUVkbPV",
        "outputId": "d5f300fa-9b50-45d6-c6a8-fdac7c31eac3"
      },
      "source": [
        "x = int(input('정수를 입력하세요 > '))\n",
        "if x > 10 :\n",
        "    print('10보다 큰숫자입니다.')\n",
        "    if x == 15 :\n",
        "        print('15입니다.')\n",
        "    if x == 20 :\n",
        "        print('20입니다.')"
      ],
      "execution_count": 9,
      "outputs": [
        {
          "output_type": "stream",
          "text": [
            "정수를 입력하세요 > 20\n",
            "10보다 큰숫자입니다.\n",
            "20입니다.\n"
          ],
          "name": "stdout"
        }
      ]
    },
    {
      "cell_type": "code",
      "metadata": {
        "id": "LdHuNmIElM8w"
      },
      "source": [
        ""
      ],
      "execution_count": null,
      "outputs": []
    }
  ]
}