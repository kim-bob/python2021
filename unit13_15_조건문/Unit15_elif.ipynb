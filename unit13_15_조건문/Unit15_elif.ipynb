{
  "nbformat": 4,
  "nbformat_minor": 0,
  "metadata": {
    "colab": {
      "name": "Unit15_elif.ipynb",
      "provenance": [],
      "collapsed_sections": []
    },
    "kernelspec": {
      "name": "python3",
      "display_name": "Python 3"
    },
    "language_info": {
      "name": "python"
    }
  },
  "cells": [
    {
      "cell_type": "markdown",
      "metadata": {
        "id": "qpmD7qiIozC_"
      },
      "source": [
        "#Unit15. elif"
      ]
    },
    {
      "cell_type": "code",
      "metadata": {
        "id": "e2c4G4_alA7A"
      },
      "source": [
        "x=15\n",
        "if x = 10:\n",
        "    print('it not 10.')\n",
        "elif x==20 :\n",
        "    print('it not 10.')\n",
        "else:\n",
        "    print('it not 10.')"
      ],
      "execution_count": null,
      "outputs": []
    },
    {
      "cell_type": "code",
      "metadata": {
        "colab": {
          "base_uri": "https://localhost:8080/"
        },
        "id": "e7bnvrAcpCRR",
        "outputId": "f545874a-f697-40d2-bc8e-83cb27e9c618"
      },
      "source": [
        "#숫자-입력, 3의 배수면 flzz, 5의 배수면 buzz, 15의 배수면 fizzbuzz\n",
        "a=int(input())\n",
        "if a%15 == 0 : \n",
        "   print('fizzbuzz')\n",
        "elif a%5 == 0 : \n",
        "   print('buzz')\n",
        "elif a%3 == 0 :  \n",
        "   print('fizz')\n",
        "else : \n",
        "   print(a)\n",
        "  "
      ],
      "execution_count": 4,
      "outputs": [
        {
          "output_type": "stream",
          "text": [
            "30\n",
            "fizzbuzz\n"
          ],
          "name": "stdout"
        }
      ]
    },
    {
      "cell_type": "code",
      "metadata": {
        "colab": {
          "base_uri": "https://localhost:8080/"
        },
        "id": "nW2jq4QypKsN",
        "outputId": "b793211c-3b85-43bb-c87e-5b3bafcb0aee"
      },
      "source": [
        "a=int(input())\n",
        "print('fizz'*(a%3==0) + 'buzz'*(a%5==0)  or a)\n"
      ],
      "execution_count": 7,
      "outputs": [
        {
          "output_type": "stream",
          "text": [
            "4\n",
            "4\n"
          ],
          "name": "stdout"
        }
      ]
    },
    {
      "cell_type": "code",
      "metadata": {
        "id": "b-ZRshZHrpUx"
      },
      "source": [
        ""
      ],
      "execution_count": null,
      "outputs": []
    }
  ]
}