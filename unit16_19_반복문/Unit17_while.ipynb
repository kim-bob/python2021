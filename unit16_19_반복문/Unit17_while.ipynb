{
  "nbformat": 4,
  "nbformat_minor": 0,
  "metadata": {
    "colab": {
      "name": "Unit17_while.ipynb",
      "provenance": [],
      "collapsed_sections": []
    },
    "kernelspec": {
      "name": "python3",
      "display_name": "Python 3"
    },
    "language_info": {
      "name": "python"
    }
  },
  "cells": [
    {
      "cell_type": "markdown",
      "metadata": {
        "id": "F9OQIRWLBtTB"
      },
      "source": [
        "#Unit17. while 반복문"
      ]
    },
    {
      "cell_type": "markdown",
      "metadata": {
        "id": "tbAExHzNB1Ex"
      },
      "source": [
        "###17.1 while 반복문\n",
        "반복회수가 정해져있는 반복문은 while을 쓰지 않는다"
      ]
    },
    {
      "cell_type": "markdown",
      "metadata": {
        "id": "ixdeKWxHCQdX"
      },
      "source": [
        "###17.2 반복횟수가 없는 while 반복문\n"
      ]
    },
    {
      "cell_type": "code",
      "metadata": {
        "colab": {
          "base_uri": "https://localhost:8080/"
        },
        "id": "rwi04_GYBne4",
        "outputId": "2421461d-7e30-46b6-9c15-2747e8ac4f6a"
      },
      "source": [
        "import random\n",
        "random.random()\n"
      ],
      "execution_count": 2,
      "outputs": [
        {
          "output_type": "execute_result",
          "data": {
            "text/plain": [
              "0.7646312344924256"
            ]
          },
          "metadata": {
            "tags": []
          },
          "execution_count": 2
        }
      ]
    },
    {
      "cell_type": "code",
      "metadata": {
        "colab": {
          "base_uri": "https://localhost:8080/"
        },
        "id": "HK5dZFnfCaWi",
        "outputId": "456eeb7a-9d45-407c-c8e7-7240dd6548e9"
      },
      "source": [
        "random.randint(1,6)"
      ],
      "execution_count": 3,
      "outputs": [
        {
          "output_type": "execute_result",
          "data": {
            "text/plain": [
              "6"
            ]
          },
          "metadata": {
            "tags": []
          },
          "execution_count": 3
        }
      ]
    },
    {
      "cell_type": "code",
      "metadata": {
        "colab": {
          "base_uri": "https://localhost:8080/"
        },
        "id": "3M8U5A8UCkJp",
        "outputId": "643ecd47-6a61-46f3-d34f-d1a4fa518363"
      },
      "source": [
        "i=0\n",
        "while i !=3 : \n",
        "    i = random.randint(1,6)\n",
        "    print(i)"
      ],
      "execution_count": 5,
      "outputs": [
        {
          "output_type": "stream",
          "text": [
            "1\n",
            "3\n"
          ],
          "name": "stdout"
        }
      ]
    },
    {
      "cell_type": "code",
      "metadata": {
        "colab": {
          "base_uri": "https://localhost:8080/"
        },
        "id": "j7doeRThDEtN",
        "outputId": "e71daf7a-6cf4-4ab2-a6b8-4da77e2a5d91"
      },
      "source": [
        "i=0\n",
        "dice = list(range(1,7))\n",
        "while i !=3:\n",
        "    i= random.choice(dice)\n",
        "    print(i)\n",
        "    "
      ],
      "execution_count": 11,
      "outputs": [
        {
          "output_type": "stream",
          "text": [
            "5\n",
            "5\n",
            "4\n",
            "6\n",
            "6\n",
            "2\n",
            "4\n",
            "2\n",
            "6\n",
            "4\n",
            "6\n",
            "6\n",
            "4\n",
            "1\n",
            "3\n"
          ],
          "name": "stdout"
        }
      ]
    },
    {
      "cell_type": "code",
      "metadata": {
        "colab": {
          "base_uri": "https://localhost:8080/"
        },
        "id": "niQRogxMDUt4",
        "outputId": "d4b537b5-3d6a-4c72-9111-169efe9c4221"
      },
      "source": [
        "a = random.sample(dice, 6)\n",
        "print(a)"
      ],
      "execution_count": 15,
      "outputs": [
        {
          "output_type": "stream",
          "text": [
            "[1, 3, 6, 5, 4, 2]\n"
          ],
          "name": "stdout"
        }
      ]
    },
    {
      "cell_type": "code",
      "metadata": {
        "id": "niHM89pWDqGV"
      },
      "source": [
        ""
      ],
      "execution_count": 14,
      "outputs": []
    }
  ]
}