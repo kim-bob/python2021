{
  "nbformat": 4,
  "nbformat_minor": 0,
  "metadata": {
    "colab": {
      "name": "Unit18_반복문제어.ipynb",
      "provenance": [],
      "collapsed_sections": []
    },
    "kernelspec": {
      "name": "python3",
      "display_name": "Python 3"
    },
    "language_info": {
      "name": "python"
    }
  },
  "cells": [
    {
      "cell_type": "markdown",
      "metadata": {
        "id": "LypSDO0lFAGs"
      },
      "source": [
        "#Unit18. break, continue"
      ]
    },
    {
      "cell_type": "markdown",
      "metadata": {
        "id": "FmTyDjElFFhx"
      },
      "source": [
        "18.1 break"
      ]
    },
    {
      "cell_type": "code",
      "metadata": {
        "id": "ydQ3ujURE7ni"
      },
      "source": [
        "import random\n"
      ],
      "execution_count": 3,
      "outputs": []
    },
    {
      "cell_type": "code",
      "metadata": {
        "colab": {
          "base_uri": "https://localhost:8080/"
        },
        "id": "7XV5CYXeFKBj",
        "outputId": "51ceedea-4ea1-48ba-b95c-eb91ac843788"
      },
      "source": [
        "while True:\n",
        "    i = random.randint(1,6)\n",
        "    print(i)\n",
        "    if i==3 :\n",
        "       break"
      ],
      "execution_count": 4,
      "outputs": [
        {
          "output_type": "stream",
          "text": [
            "5\n",
            "6\n",
            "6\n",
            "3\n"
          ],
          "name": "stdout"
        }
      ]
    },
    {
      "cell_type": "code",
      "metadata": {
        "colab": {
          "base_uri": "https://localhost:8080/"
        },
        "id": "yfmM35lFFPdX",
        "outputId": "3592d2df-567f-4b52-a0d4-23e40886563f"
      },
      "source": [
        "for i in range(5):\n",
        "    print(i, end= ' ')\n",
        "    for k in range(5):\n",
        "        print('*', end='')\n",
        "        if i==k:\n",
        "            break\n",
        "    print()"
      ],
      "execution_count": 10,
      "outputs": [
        {
          "output_type": "stream",
          "text": [
            "0 *\n",
            "1 **\n",
            "2 ***\n",
            "3 ****\n",
            "4 *****\n"
          ],
          "name": "stdout"
        }
      ]
    },
    {
      "cell_type": "markdown",
      "metadata": {
        "id": "KA91cFn3Gs3T"
      },
      "source": [
        "18.2 continue"
      ]
    },
    {
      "cell_type": "code",
      "metadata": {
        "colab": {
          "base_uri": "https://localhost:8080/"
        },
        "id": "X1XPF8knF72Z",
        "outputId": "04df9a65-6d47-4456-c850-f7b80938e5c6"
      },
      "source": [
        "for i in range(10):\n",
        "   if i %2 ==0:\n",
        "       continue\n",
        "   print(i)     "
      ],
      "execution_count": 12,
      "outputs": [
        {
          "output_type": "stream",
          "text": [
            "1\n",
            "3\n",
            "5\n",
            "7\n",
            "9\n"
          ],
          "name": "stdout"
        }
      ]
    },
    {
      "cell_type": "code",
      "metadata": {
        "id": "PVUpjapsG_4L"
      },
      "source": [
        ""
      ],
      "execution_count": 12,
      "outputs": []
    }
  ]
}