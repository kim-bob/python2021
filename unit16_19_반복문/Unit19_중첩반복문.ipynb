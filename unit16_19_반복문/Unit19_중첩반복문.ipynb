{
  "nbformat": 4,
  "nbformat_minor": 0,
  "metadata": {
    "colab": {
      "name": "Unit19_중첩반복문.ipynb",
      "provenance": [],
      "collapsed_sections": []
    },
    "kernelspec": {
      "name": "python3",
      "display_name": "Python 3"
    },
    "language_info": {
      "name": "python"
    }
  },
  "cells": [
    {
      "cell_type": "markdown",
      "metadata": {
        "id": "Vhb6aa0fbZbI"
      },
      "source": [
        "#Unit19. 중첩반복문\n"
      ]
    },
    {
      "cell_type": "markdown",
      "metadata": {
        "id": "OIpDkhvFbfGM"
      },
      "source": [
        "19.1 중첩(Nasted) for loop"
      ]
    },
    {
      "cell_type": "code",
      "metadata": {
        "colab": {
          "base_uri": "https://localhost:8080/"
        },
        "id": "ZJEHY36Sbe5U",
        "outputId": "a3e591b4-41f2-42e2-c4fd-223c4fc2bc4f"
      },
      "source": [
        "for i in range(1, 6):\n",
        "    print(i) \n",
        "    for k in range(10, 60, 10) :\n",
        "        print(k, end=' ')\n",
        "    print(i)\n"
      ],
      "execution_count": 3,
      "outputs": [
        {
          "output_type": "stream",
          "text": [
            "1\n",
            "10 20 30 40 50 1\n",
            "2\n",
            "10 20 30 40 50 2\n",
            "3\n",
            "10 20 30 40 50 3\n",
            "4\n",
            "10 20 30 40 50 4\n",
            "5\n",
            "10 20 30 40 50 5\n"
          ],
          "name": "stdout"
        }
      ]
    },
    {
      "cell_type": "markdown",
      "metadata": {
        "id": "5u6K8fOvcsUS"
      },
      "source": [
        "###19.2 별 사각형\n"
      ]
    },
    {
      "cell_type": "code",
      "metadata": {
        "colab": {
          "base_uri": "https://localhost:8080/"
        },
        "id": "lTL_wp3dbeIi",
        "outputId": "c130f1ad-65d5-450b-ad46-1a66720bea62"
      },
      "source": [
        "for i in range(5):\n",
        "    for k in range(5):\n",
        "        print('*', end='')\n",
        "    print()\n",
        "    "
      ],
      "execution_count": 5,
      "outputs": [
        {
          "output_type": "stream",
          "text": [
            "*****\n",
            "*****\n",
            "*****\n",
            "*****\n",
            "*****\n"
          ],
          "name": "stdout"
        }
      ]
    },
    {
      "cell_type": "code",
      "metadata": {
        "colab": {
          "base_uri": "https://localhost:8080/"
        },
        "id": "MUtGy3BNc3Wy",
        "outputId": "6348ffd2-4a63-471f-9c11-63c4912d7f82"
      },
      "source": [
        "#평행사변형 그리기\n",
        "for i in range(4):\n",
        "    for k in range(0,i):\n",
        "        print(' ', end='')\n",
        "    for _ in range(5):\n",
        "        print('*', end='')\n",
        "    print()"
      ],
      "execution_count": 8,
      "outputs": [
        {
          "output_type": "stream",
          "text": [
            "*****\n",
            " *****\n",
            "  *****\n",
            "   *****\n"
          ],
          "name": "stdout"
        }
      ]
    },
    {
      "cell_type": "code",
      "metadata": {
        "colab": {
          "base_uri": "https://localhost:8080/"
        },
        "id": "VI6rIvu8eJ4u",
        "outputId": "46e4ecb5-5535-411b-8f15-fbe1a8f25845"
      },
      "source": [
        "for i in range(4):\n",
        "    print(' '*i, '*'*5, sep='')"
      ],
      "execution_count": 9,
      "outputs": [
        {
          "output_type": "stream",
          "text": [
            "*****\n",
            " *****\n",
            "  *****\n",
            "   *****\n"
          ],
          "name": "stdout"
        }
      ]
    },
    {
      "cell_type": "code",
      "metadata": {
        "colab": {
          "base_uri": "https://localhost:8080/"
        },
        "id": "KBzxunr-e9mR",
        "outputId": "be562985-f3fa-48c5-9367-432a37b89a8a"
      },
      "source": [
        "for i in range(5) :\n",
        "    for i in range(i+1):\n",
        "         print('*', end='')\n",
        "    print()"
      ],
      "execution_count": 11,
      "outputs": [
        {
          "output_type": "stream",
          "text": [
            "******************************"
          ],
          "name": "stdout"
        }
      ]
    },
    {
      "cell_type": "code",
      "metadata": {
        "colab": {
          "base_uri": "https://localhost:8080/"
        },
        "id": "Jy0mBKiWfuc4",
        "outputId": "894f8b3b-7eb2-4f9c-a4fa-cfda6f070e74"
      },
      "source": [
        "for i in range(9) :\n",
        "    for _ in range(i):\n",
        "         print(' ', end='')\n",
        "    for i in range(9-i):\n",
        "         print('*', end='')\n",
        "    print()"
      ],
      "execution_count": 22,
      "outputs": [
        {
          "output_type": "stream",
          "text": [
            "*********\n",
            " ********\n",
            "  *******\n",
            "   ******\n",
            "    *****\n",
            "     ****\n",
            "      ***\n",
            "       **\n",
            "        *\n"
          ],
          "name": "stdout"
        }
      ]
    },
    {
      "cell_type": "code",
      "metadata": {
        "colab": {
          "base_uri": "https://localhost:8080/"
        },
        "id": "weHa2mR_gY_F",
        "outputId": "b4645f4b-6051-4092-9a92-28b985fb621e"
      },
      "source": [
        "for i in range(5):\n",
        "    print('*'*i)"
      ],
      "execution_count": 15,
      "outputs": [
        {
          "output_type": "stream",
          "text": [
            "*\n",
            "**\n",
            "***\n",
            "****\n",
            "*****\n"
          ],
          "name": "stdout"
        }
      ]
    },
    {
      "cell_type": "code",
      "metadata": {
        "colab": {
          "base_uri": "https://localhost:8080/"
        },
        "id": "M71dX5X3hApZ",
        "outputId": "07307d3c-62d8-46b4-bc08-5a644a1f2ec7"
      },
      "source": [
        "for i in range(5):\n",
        "    print(' '*i, '*'*(5-i),sep='')"
      ],
      "execution_count": 16,
      "outputs": [
        {
          "output_type": "stream",
          "text": [
            "*****\n",
            " ****\n",
            "  ***\n",
            "   **\n",
            "    *\n"
          ],
          "name": "stdout"
        }
      ]
    },
    {
      "cell_type": "markdown",
      "metadata": {
        "id": "fgH5BfyJh8oe"
      },
      "source": [
        "Diamond 그리기"
      ]
    },
    {
      "cell_type": "code",
      "metadata": {
        "id": "IVDBXeQThVt6"
      },
      "source": [
        "for i in range(5):\n",
        "   for k in range(0,4):\n",
        "       print(' '*(i-9), '*'*(i-9), sep='')\n",
        "for x in range(5,9):\n",
        "   for _ in range(0,4):\n",
        "       print(' '*(9-i), '*'*(9-i), sep='')\n",
        "   print()"
      ],
      "execution_count": null,
      "outputs": []
    },
    {
      "cell_type": "code",
      "metadata": {
        "colab": {
          "base_uri": "https://localhost:8080/"
        },
        "id": "fmYJ73aAk-Od",
        "outputId": "f808a940-befa-4ab1-ed47-3f8512d27fcd"
      },
      "source": [
        "for i in range(5):\n",
        "    for _ in range(4-i):\n",
        "        print(' ', end='')\n",
        "    for _ in range(2*i+1):\n",
        "        print('*', end='')\n",
        "    print()\n",
        "for i in range(5):\n",
        "    for _ in range(i+1):\n",
        "        print(' ', end='')\n",
        "    for _ in range(7-2*i):\n",
        "        print('*', end='')\n",
        "    print()\n"
      ],
      "execution_count": 4,
      "outputs": [
        {
          "output_type": "stream",
          "text": [
            "    *\n",
            "   ***\n",
            "  *****\n",
            " *******\n",
            "*********\n",
            " *******\n",
            "  *****\n",
            "   ***\n",
            "    *\n",
            "     \n"
          ],
          "name": "stdout"
        }
      ]
    },
    {
      "cell_type": "code",
      "metadata": {
        "colab": {
          "base_uri": "https://localhost:8080/"
        },
        "id": "L9jrW4Qzl-vN",
        "outputId": "d208f25a-a67e-41c6-bedc-3c006347e7cd"
      },
      "source": [
        "for i in range(5):\n",
        "    print(' '*(4-i), '*'*(2*i+1), sep='')\n",
        "for i in range(5):\n",
        "    print(' '*(i+1), '*'*(7-2*i), sep='')"
      ],
      "execution_count": 9,
      "outputs": [
        {
          "output_type": "stream",
          "text": [
            "    *\n",
            "   ***\n",
            "  *****\n",
            " *******\n",
            "*********\n",
            " *******\n",
            "  *****\n",
            "   ***\n",
            "    *\n",
            "     \n"
          ],
          "name": "stdout"
        }
      ]
    },
    {
      "cell_type": "code",
      "metadata": {
        "colab": {
          "base_uri": "https://localhost:8080/"
        },
        "id": "bKA_eonApFvV",
        "outputId": "2e25516c-dd50-4d6c-a21e-ed4959d80d60"
      },
      "source": [
        "for i in range(5):\n",
        "    print(' '*(4-i), '*'*(2*i+1))\n",
        "for i in range(5):\n",
        "    print(' '*(i+1), '*'*(7-2*i))"
      ],
      "execution_count": 10,
      "outputs": [
        {
          "output_type": "stream",
          "text": [
            "     *\n",
            "    ***\n",
            "   *****\n",
            "  *******\n",
            " *********\n",
            "  *******\n",
            "   *****\n",
            "    ***\n",
            "     *\n",
            "      \n"
          ],
          "name": "stdout"
        }
      ]
    },
    {
      "cell_type": "code",
      "metadata": {
        "id": "-vJlvl61pLDO"
      },
      "source": [
        ""
      ],
      "execution_count": null,
      "outputs": []
    }
  ]
}