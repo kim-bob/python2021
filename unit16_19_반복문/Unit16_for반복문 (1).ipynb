{
  "nbformat": 4,
  "nbformat_minor": 0,
  "metadata": {
    "colab": {
      "name": "Unit16_for반복문.ipynb",
      "provenance": [],
      "collapsed_sections": []
    },
    "kernelspec": {
      "name": "python3",
      "display_name": "Python 3"
    },
    "language_info": {
      "name": "python"
    }
  },
  "cells": [
    {
      "cell_type": "markdown",
      "metadata": {
        "id": "WQLdayPCsztD"
      },
      "source": [
        "#Unit16. 반복문\n"
      ]
    },
    {
      "cell_type": "markdown",
      "metadata": {
        "id": "3LBoMACYtE3j"
      },
      "source": [
        "###16.1 for 와 range\n"
      ]
    },
    {
      "cell_type": "code",
      "metadata": {
        "id": "Wf_GXDvjs2bb"
      },
      "source": [
        "for i in range(10) :\n",
        "    print('Hello')"
      ],
      "execution_count": null,
      "outputs": []
    },
    {
      "cell_type": "code",
      "metadata": {
        "colab": {
          "base_uri": "https://localhost:8080/"
        },
        "id": "CEAQ9lM4tgsi",
        "outputId": "b0750858-ceb6-4a75-98de-4152ebf576a8"
      },
      "source": [
        "for i in range(10) :\n",
        "    print('Hello', i)"
      ],
      "execution_count": null,
      "outputs": [
        {
          "output_type": "stream",
          "text": [
            "Hello 0\n",
            "Hello 1\n",
            "Hello 2\n",
            "Hello 3\n",
            "Hello 4\n",
            "Hello 5\n",
            "Hello 6\n",
            "Hello 7\n",
            "Hello 8\n",
            "Hello 9\n"
          ],
          "name": "stdout"
        }
      ]
    },
    {
      "cell_type": "code",
      "metadata": {
        "colab": {
          "base_uri": "https://localhost:8080/"
        },
        "id": "1bAH29GbvPHP",
        "outputId": "37059601-12af-4c5f-a99b-70c5db0aabe4"
      },
      "source": [
        "#i를 쓸수 있지만 언더바로 대체 가능함\n",
        "for _ in range(5) :\n",
        "    print('Hello')"
      ],
      "execution_count": null,
      "outputs": [
        {
          "output_type": "stream",
          "text": [
            "Hello\n",
            "Hello\n",
            "Hello\n",
            "Hello\n",
            "Hello\n"
          ],
          "name": "stdout"
        }
      ]
    },
    {
      "cell_type": "markdown",
      "metadata": {
        "id": "Sm69b0DCyE6-"
      },
      "source": [
        "###16.2 for 와 range 응용"
      ]
    },
    {
      "cell_type": "code",
      "metadata": {
        "colab": {
          "base_uri": "https://localhost:8080/"
        },
        "id": "acCdaiGLvliH",
        "outputId": "d46095d0-462b-4fb7-b1f3-de92192ce34c"
      },
      "source": [
        "for i in range(6, 10) :\n",
        "    print('Hello', i)"
      ],
      "execution_count": null,
      "outputs": [
        {
          "output_type": "stream",
          "text": [
            "Hello 6\n",
            "Hello 7\n",
            "Hello 8\n",
            "Hello 9\n"
          ],
          "name": "stdout"
        }
      ]
    },
    {
      "cell_type": "code",
      "metadata": {
        "colab": {
          "base_uri": "https://localhost:8080/"
        },
        "id": "F8ePCajdyWVR",
        "outputId": "27205613-8165-45d5-fa05-00d08c01fe7a"
      },
      "source": [
        "for i in range(0, 10, 2) :\n",
        "    print('Hello', i)"
      ],
      "execution_count": null,
      "outputs": [
        {
          "output_type": "stream",
          "text": [
            "Hello 0\n",
            "Hello 2\n",
            "Hello 4\n",
            "Hello 6\n",
            "Hello 8\n"
          ],
          "name": "stdout"
        }
      ]
    },
    {
      "cell_type": "code",
      "metadata": {
        "colab": {
          "base_uri": "https://localhost:8080/"
        },
        "id": "2aIyDaqqyhLq",
        "outputId": "c647be60-d0d6-46aa-911a-5716a4d383a5"
      },
      "source": [
        "for i in range(10, 0, -2) :\n",
        "    print('Hello', i)"
      ],
      "execution_count": null,
      "outputs": [
        {
          "output_type": "stream",
          "text": [
            "Hello 10\n",
            "Hello 8\n",
            "Hello 6\n",
            "Hello 4\n",
            "Hello 2\n"
          ],
          "name": "stdout"
        }
      ]
    },
    {
      "cell_type": "code",
      "metadata": {
        "id": "SXPxlxd0ymxj",
        "colab": {
          "base_uri": "https://localhost:8080/"
        },
        "outputId": "d35c27cd-3b23-4db1-fbe4-7c6a4e846147"
      },
      "source": [
        "for i in range(1, 101) :\n",
        "    print('fizz'*(i%3==0) + 'buzz'*(i%5==0)  or i, end=' ')\n",
        "    if i%10==0 :\n",
        "        print( )"
      ],
      "execution_count": 17,
      "outputs": [
        {
          "output_type": "stream",
          "text": [
            "1 2 fizz 4 buzz fizz 7 8 fizz buzz \n",
            "11 fizz 13 14 fizzbuzz 16 17 fizz 19 buzz \n",
            "fizz 22 23 fizz buzz 26 fizz 28 29 fizzbuzz \n",
            "31 32 fizz 34 buzz fizz 37 38 fizz buzz \n",
            "41 fizz 43 44 fizzbuzz 46 47 fizz 49 buzz \n",
            "fizz 52 53 fizz buzz 56 fizz 58 59 fizzbuzz \n",
            "61 62 fizz 64 buzz fizz 67 68 fizz buzz \n",
            "71 fizz 73 74 fizzbuzz 76 77 fizz 79 buzz \n",
            "fizz 82 83 fizz buzz 86 fizz 88 89 fizzbuzz \n",
            "91 92 fizz 94 buzz fizz 97 98 fizz buzz \n"
          ],
          "name": "stdout"
        }
      ]
    },
    {
      "cell_type": "markdown",
      "metadata": {
        "id": "CVBby0tAz-fk"
      },
      "source": [
        "###16.3 시퀀스(sequence) 객체 반복\n"
      ]
    },
    {
      "cell_type": "code",
      "metadata": {
        "colab": {
          "base_uri": "https://localhost:8080/"
        },
        "id": "Bnb115Ajzgd8",
        "outputId": "ae99699a-dbb9-48ea-aa4e-959c5edf3171"
      },
      "source": [
        "fruits = ['apple', 'banana', 'cherry']\n",
        "for i in fruits:\n",
        "    print(i) "
      ],
      "execution_count": 18,
      "outputs": [
        {
          "output_type": "stream",
          "text": [
            "apple\n",
            "banana\n",
            "cherry\n"
          ],
          "name": "stdout"
        }
      ]
    },
    {
      "cell_type": "code",
      "metadata": {
        "colab": {
          "base_uri": "https://localhost:8080/"
        },
        "id": "eAh6_yVO0Xb6",
        "outputId": "ed323d8c-a482-4802-b969-acca13f244fd"
      },
      "source": [
        "fruits_List = ['apple', 'banana', 'cherry']\n",
        "for fruit in fruits_List:\n",
        "    print(fruit) "
      ],
      "execution_count": 21,
      "outputs": [
        {
          "output_type": "stream",
          "text": [
            "apple\n",
            "banana\n",
            "cherry\n"
          ],
          "name": "stdout"
        }
      ]
    },
    {
      "cell_type": "code",
      "metadata": {
        "colab": {
          "base_uri": "https://localhost:8080/"
        },
        "id": "p2phMO_b0i5p",
        "outputId": "b7ad34e7-a3cc-404a-b29a-4c794eac643f"
      },
      "source": [
        "for letter in 'python' :\n",
        "    print(letter, end = ' ')"
      ],
      "execution_count": 23,
      "outputs": [
        {
          "output_type": "stream",
          "text": [
            "p y t h o n "
          ],
          "name": "stdout"
        }
      ]
    },
    {
      "cell_type": "code",
      "metadata": {
        "colab": {
          "base_uri": "https://localhost:8080/"
        },
        "id": "yiB7qiZg2kaZ",
        "outputId": "19dfa6a4-d71a-47ef-a2fc-b33da6f69b26"
      },
      "source": [
        "for letter in reversed('python') :\n",
        "    print(letter, end = ' ')"
      ],
      "execution_count": 25,
      "outputs": [
        {
          "output_type": "stream",
          "text": [
            "n o h t y p "
          ],
          "name": "stdout"
        }
      ]
    },
    {
      "cell_type": "code",
      "metadata": {
        "colab": {
          "base_uri": "https://localhost:8080/"
        },
        "id": "rMe-0xIo2wny",
        "outputId": "98250005-c01a-4cdc-d7f9-0a5f3b1f9754"
      },
      "source": [
        "for number in (10,20,30):\n",
        "    print(number, end = ' ')"
      ],
      "execution_count": 28,
      "outputs": [
        {
          "output_type": "stream",
          "text": [
            "10 20 30 "
          ],
          "name": "stdout"
        }
      ]
    },
    {
      "cell_type": "markdown",
      "metadata": {
        "id": "rPPRRMAG3kDw"
      },
      "source": [
        "퀴즈 perfact number"
      ]
    },
    {
      "cell_type": "code",
      "metadata": {
        "colab": {
          "base_uri": "https://localhost:8080/"
        },
        "id": "UW_pSqoK3Eqh",
        "outputId": "e9b8dd5f-78f7-44ac-9404-d8c7ab9c1af9"
      },
      "source": [
        "# 자기 자신을 제외한 약수의 합이 자기 자신과 같은 수\n",
        "#ex) 6의 약수 1,2,3,6 인데 6을 제외한 1,2,3 의 합이 6임\n",
        "#10000이하의 수에서 4개가 무엇인지 \n",
        "PN_list =[]\n",
        "all_sum = 0\n",
        "for i in range(2, 11) : \n",
        "    for k in range(1, i) :\n",
        "        if i%k == 0 :\n",
        "            all_sum += k\n",
        "            print(f'{k}은/는 {i}의 약수')\n"
      ],
      "execution_count": 1,
      "outputs": [
        {
          "output_type": "stream",
          "text": [
            "1은/는 2의 약수\n",
            "1은/는 3의 약수\n",
            "1은/는 4의 약수\n",
            "2은/는 4의 약수\n",
            "1은/는 5의 약수\n",
            "1은/는 6의 약수\n",
            "2은/는 6의 약수\n",
            "3은/는 6의 약수\n",
            "1은/는 7의 약수\n",
            "1은/는 8의 약수\n",
            "2은/는 8의 약수\n",
            "4은/는 8의 약수\n",
            "1은/는 9의 약수\n",
            "3은/는 9의 약수\n",
            "1은/는 10의 약수\n",
            "2은/는 10의 약수\n",
            "5은/는 10의 약수\n"
          ],
          "name": "stdout"
        }
      ]
    },
    {
      "cell_type": "code",
      "metadata": {
        "colab": {
          "base_uri": "https://localhost:8080/"
        },
        "id": "7V_-9yHP8LKI",
        "outputId": "8e606960-d95f-46df-ee5c-74006d07ecf1"
      },
      "source": [
        "\n",
        "# 자기 자신을 제외한 약수의 합이 자기 자신과 같은 수\n",
        "#ex) 6의 약수 1,2,3,6 인데 6을 제외한 1,2,3 의 합이 6임\n",
        "#10000이하의 수에서 4개가 무엇인지 \n",
        "\n",
        "#약수의 합을 초기화\n",
        "\n",
        "for i in range(1, 10001) : \n",
        "    sum_divisor = 0\n",
        "    for k in range(1, i) :\n",
        "        if i%k == 0 :\n",
        "            sum_divisor+= k\n",
        "    if i == sum_divisor :  \n",
        "        print(i)"
      ],
      "execution_count": 2,
      "outputs": [
        {
          "output_type": "stream",
          "text": [
            "6\n",
            "28\n",
            "496\n",
            "8128\n"
          ],
          "name": "stdout"
        }
      ]
    },
    {
      "cell_type": "code",
      "metadata": {
        "colab": {
          "base_uri": "https://localhost:8080/"
        },
        "id": "B8GLlLI88nxf",
        "outputId": "bdec2ed5-f478-4949-e3be-3a4f763f2fd0"
      },
      "source": [
        "PN=[]\n",
        "for i in range(2, 10001) : \n",
        "    divisor_list=[]\n",
        "    for k in range(1, i) :\n",
        "        if i%k == 0 :\n",
        "           divisor_list.append(k) \n",
        "\n",
        "    if i == sum(divisor_list) : \n",
        "        PN.append(i)        \n",
        "\n",
        "print(PN)"
      ],
      "execution_count": 3,
      "outputs": [
        {
          "output_type": "stream",
          "text": [
            "[6, 28, 496, 8128]\n"
          ],
          "name": "stdout"
        }
      ]
    },
    {
      "cell_type": "code",
      "metadata": {
        "id": "wl70Dk8X94Ur"
      },
      "source": [
        ""
      ],
      "execution_count": null,
      "outputs": []
    }
  ]
}