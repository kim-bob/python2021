{
  "nbformat": 4,
  "nbformat_minor": 0,
  "metadata": {
    "colab": {
      "name": "6회차_김영우22_25.ipynb",
      "provenance": [],
      "collapsed_sections": []
    },
    "kernelspec": {
      "name": "python3",
      "display_name": "Python 3"
    },
    "language_info": {
      "name": "python"
    }
  },
  "cells": [
    {
      "cell_type": "markdown",
      "metadata": {
        "id": "uuu-FVs7FExI"
      },
      "source": [
        "#22심사문제\n"
      ]
    },
    {
      "cell_type": "code",
      "metadata": {
        "colab": {
          "base_uri": "https://localhost:8080/"
        },
        "id": "jCLosXfCE-xj",
        "outputId": "e44b9d34-511e-4744-bf88-c5fa4adf68a7"
      },
      "source": [
        "a, b = map(int, input().split(' '))\n",
        "ls=[]\n",
        "for i in range(a, b+1) :\n",
        "    k=2**i\n",
        "    ls.append(k)\n",
        "del ls[1]\n",
        "del ls[-2]\n",
        "print(ls)\n"
      ],
      "execution_count": null,
      "outputs": [
        {
          "output_type": "stream",
          "text": [
            "1 10\n",
            "[2, 8, 16, 32, 64, 128, 256, 1024]\n"
          ],
          "name": "stdout"
        }
      ]
    },
    {
      "cell_type": "markdown",
      "metadata": {
        "id": "4tJ9Yd0MaDbo"
      },
      "source": [
        "23심사문제 "
      ]
    },
    {
      "cell_type": "code",
      "metadata": {
        "id": "z6AAM8y4JXt-"
      },
      "source": [
        "#못품\n",
        "col, row = map(int, input().split(' '))\n",
        "matrix = []\n",
        "for i in range(row):\n",
        "    matrix.append(list(input()))\n",
        "    "
      ],
      "execution_count": null,
      "outputs": []
    },
    {
      "cell_type": "markdown",
      "metadata": {
        "id": "MMHAYkiif4Ox"
      },
      "source": [
        "24.5 심사문제\n"
      ]
    },
    {
      "cell_type": "code",
      "metadata": {
        "colab": {
          "base_uri": "https://localhost:8080/"
        },
        "id": "PFfTqi7thdcY",
        "outputId": "887a39d7-4e41-4cca-eac6-f47275152377"
      },
      "source": [
        "x = input().split(' ')\n",
        "count=0\n",
        "for word in x :\n",
        "    if (word.strip(', .') == 'the' ) :\n",
        "        count += 1\n",
        "print(count)\n",
        " "
      ],
      "execution_count": null,
      "outputs": [
        {
          "output_type": "stream",
          "text": [
            "the grown-ups' response, this time, was to advise me to lay aside my drawings of boa constrictors, whether from the inside or the outside, and devote myself instead to geography, history, arithmetic, and grammar. That is why, at the, age of six, I gave up what might have been a magnificent career as a painter. I had been disheartened by the failure of my Drawing Number One and my Drawing Number Two. Grown-ups never understand anything by themselves, and it is tiresome for children to be always and forever explaining things to the.\n",
            "6\n"
          ],
          "name": "stdout"
        }
      ]
    },
    {
      "cell_type": "markdown",
      "metadata": {
        "id": "TqLlOfrphavU"
      },
      "source": [
        "24.6 심사문제"
      ]
    },
    {
      "cell_type": "code",
      "metadata": {
        "colab": {
          "base_uri": "https://localhost:8080/"
        },
        "id": "g79mPdQZ__yD",
        "outputId": "99b7c964-c134-4897-b654-c7a7f4e1fcb7"
      },
      "source": [
        "x = list(map(int, input().split(';')))\n",
        "x.sort(reverse=True)\n",
        "for i in x :\n",
        "    print('{0:>9,}'.format(i, ','))\n",
        "\n",
        " "
      ],
      "execution_count": 33,
      "outputs": [
        {
          "output_type": "stream",
          "text": [
            "10000;20000;30000\n",
            "   30,000\n",
            "   20,000\n",
            "   10,000\n"
          ],
          "name": "stdout"
        }
      ]
    },
    {
      "cell_type": "markdown",
      "metadata": {
        "id": "Y6L4kgj6uVwg"
      },
      "source": [
        "25.8심사문제"
      ]
    },
    {
      "cell_type": "code",
      "metadata": {
        "id": "rnu3NteAJSZh",
        "colab": {
          "base_uri": "https://localhost:8080/"
        },
        "outputId": "f832e739-7720-435b-c8ab-1099853a60d2"
      },
      "source": [
        "keys = input().split()\n",
        "values = map(int, input().split())\n",
        "x = dict(zip(keys, values))\n",
        "\n",
        "x= {key : value for key, value in x.items() if key != 'delta' and value !=30}\n",
        "print(x)\n",
        " "
      ],
      "execution_count": null,
      "outputs": [
        {
          "output_type": "stream",
          "text": [
            "alpha bravo charlie delta echo foxtrot golf\n",
            "30 40 50 60 70 80 90\n",
            "{'bravo': 40, 'charlie': 50, 'echo': 70, 'foxtrot': 80, 'golf': 90}\n"
          ],
          "name": "stdout"
        }
      ]
    }
  ]
}