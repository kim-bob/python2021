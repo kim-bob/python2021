{
  "nbformat": 4,
  "nbformat_minor": 0,
  "metadata": {
    "colab": {
      "name": "Unit25_딕셔너리응용.ipynb",
      "provenance": [],
      "collapsed_sections": []
    },
    "kernelspec": {
      "name": "python3",
      "display_name": "Python 3"
    },
    "language_info": {
      "name": "python"
    }
  },
  "cells": [
    {
      "cell_type": "markdown",
      "metadata": {
        "id": "pxVurq_doNFm"
      },
      "source": [
        "#Unit 25 딕셔너리 응용"
      ]
    },
    {
      "cell_type": "code",
      "metadata": {
        "colab": {
          "base_uri": "https://localhost:8080/"
        },
        "id": "7fp8Iw-UoI_0",
        "outputId": "85d1de84-4eeb-4868-8ddc-0379e998c77f"
      },
      "source": [
        "x={'a':10, 'b':20, 'c':30, 'd':40}\n",
        "y=x.setdefault('e, 100') #자주 안쓰임\n",
        "x, y\n"
      ],
      "execution_count": 3,
      "outputs": [
        {
          "output_type": "execute_result",
          "data": {
            "text/plain": [
              "({'a': 10, 'b': 20, 'c': 30, 'd': 40, 'e, 100': None}, None)"
            ]
          },
          "metadata": {
            "tags": []
          },
          "execution_count": 3
        }
      ]
    },
    {
      "cell_type": "code",
      "metadata": {
        "id": "1qFuOKx-o2IK"
      },
      "source": [
        "x={'a':10, 'b':20, 'c':30, 'd':40}\n",
        "x.update(e=100)"
      ],
      "execution_count": 4,
      "outputs": []
    },
    {
      "cell_type": "code",
      "metadata": {
        "colab": {
          "base_uri": "https://localhost:8080/"
        },
        "id": "kxBWQs5ipE12",
        "outputId": "50e5a04c-1aea-4178-916f-06da177710ff"
      },
      "source": [
        "x={'a':10, 'b':20, 'c':30, 'd':40}\n",
        "x['e']=100\n",
        "x\n"
      ],
      "execution_count": 8,
      "outputs": [
        {
          "output_type": "execute_result",
          "data": {
            "text/plain": [
              "{'a': 10, 'b': 20, 'c': 30, 'd': 40, 'e': 100}"
            ]
          },
          "metadata": {
            "tags": []
          },
          "execution_count": 8
        }
      ]
    },
    {
      "cell_type": "code",
      "metadata": {
        "colab": {
          "base_uri": "https://localhost:8080/"
        },
        "id": "vSY0dtR1pNYl",
        "outputId": "394f26bb-ceee-468a-d498-3a9231b22b3c"
      },
      "source": [
        "x={'a':10, 'b':20, 'c':30, 'd':40}\n",
        "x['a']=90\n",
        "x"
      ],
      "execution_count": 6,
      "outputs": [
        {
          "output_type": "execute_result",
          "data": {
            "text/plain": [
              "{'a': 90, 'b': 20, 'c': 30, 'd': 40}"
            ]
          },
          "metadata": {
            "tags": []
          },
          "execution_count": 6
        }
      ]
    },
    {
      "cell_type": "code",
      "metadata": {
        "colab": {
          "base_uri": "https://localhost:8080/"
        },
        "id": "UweIublCpTDF",
        "outputId": "d99f5df0-42c2-4572-a44f-03604729f6bc"
      },
      "source": [
        "x.pop('e')"
      ],
      "execution_count": 9,
      "outputs": [
        {
          "output_type": "execute_result",
          "data": {
            "text/plain": [
              "100"
            ]
          },
          "metadata": {
            "tags": []
          },
          "execution_count": 9
        }
      ]
    },
    {
      "cell_type": "code",
      "metadata": {
        "colab": {
          "base_uri": "https://localhost:8080/"
        },
        "id": "P-GAYIcvqFOh",
        "outputId": "1c82b9b4-80c1-42d3-a887-44d52dd17467"
      },
      "source": [
        "x={'a':10, 'b':20, 'c':30, 'd':40}\n",
        "x.items()\n",
        "dict_items([('a', 10), ('b', 20), ('c', 30), ('d', 40)]) #출력값에서 큰 리스트 안에 튜플이 나옴"
      ],
      "execution_count": 11,
      "outputs": [
        {
          "output_type": "execute_result",
          "data": {
            "text/plain": [
              "dict_items([('a', 10), ('b', 20), ('c', 30), ('d', 40)])"
            ]
          },
          "metadata": {
            "tags": []
          },
          "execution_count": 11
        }
      ]
    },
    {
      "cell_type": "code",
      "metadata": {
        "colab": {
          "base_uri": "https://localhost:8080/"
        },
        "id": "qocDVOoPqjKq",
        "outputId": "bb74d267-87b4-41a5-f1b6-b66496bf5e61"
      },
      "source": [
        "x.keys()\n",
        "#dict_keys(['a', 'b', 'c', 'd'])\n",
        "x.values()\n",
        "#dict_values([10, 20, 30, 40])"
      ],
      "execution_count": 14,
      "outputs": [
        {
          "output_type": "execute_result",
          "data": {
            "text/plain": [
              "dict_keys(['a', 'b', 'c', 'd'])"
            ]
          },
          "metadata": {
            "tags": []
          },
          "execution_count": 14
        }
      ]
    },
    {
      "cell_type": "code",
      "metadata": {
        "colab": {
          "base_uri": "https://localhost:8080/"
        },
        "id": "EBnN6kpGq9er",
        "outputId": "74a74710-4e3d-4dbc-f405-31625213c235"
      },
      "source": [
        "#키와 벨류 교체\n",
        "dict(zip(x.values(), x.keys()))"
      ],
      "execution_count": 17,
      "outputs": [
        {
          "output_type": "execute_result",
          "data": {
            "text/plain": [
              "{10: 'a', 20: 'b', 30: 'c', 40: 'd'}"
            ]
          },
          "metadata": {
            "tags": []
          },
          "execution_count": 17
        }
      ]
    },
    {
      "cell_type": "code",
      "metadata": {
        "colab": {
          "base_uri": "https://localhost:8080/"
        },
        "id": "Eqyz-LHqrdzn",
        "outputId": "4a9bf27d-5ca1-442e-a09d-b9c7bc7dfd02"
      },
      "source": [
        "k={'a', 'b' , 'c' , 'd' }\n",
        "v={ 10,  20,  30,  40}\n",
        "dict(zip(k, v))"
      ],
      "execution_count": 21,
      "outputs": [
        {
          "output_type": "execute_result",
          "data": {
            "text/plain": [
              "{'a': 30, 'b': 40, 'c': 10, 'd': 20}"
            ]
          },
          "metadata": {
            "tags": []
          },
          "execution_count": 21
        }
      ]
    },
    {
      "cell_type": "markdown",
      "metadata": {
        "id": "FljiZpCjsOgl"
      },
      "source": [
        "25.2 반복문"
      ]
    },
    {
      "cell_type": "code",
      "metadata": {
        "id": "01Z49sOAr6GP"
      },
      "source": [
        "x={'a':10, 'b':20, 'c':30, 'd':40}\n",
        "for key, value in x.items():\n"
      ],
      "execution_count": null,
      "outputs": []
    },
    {
      "cell_type": "code",
      "metadata": {
        "colab": {
          "base_uri": "https://localhost:8080/"
        },
        "id": "EarNzxdStDL_",
        "outputId": "ce5d2d4b-e0ea-4ea9-a64b-ddd09ce1c74d"
      },
      "source": [
        "for key in x.keys():\n",
        "    print(f'{key}:{x[key]}')"
      ],
      "execution_count": 23,
      "outputs": [
        {
          "output_type": "stream",
          "text": [
            "a:10\n",
            "b:20\n",
            "c:30\n",
            "d:40\n"
          ],
          "name": "stdout"
        }
      ]
    },
    {
      "cell_type": "code",
      "metadata": {
        "colab": {
          "base_uri": "https://localhost:8080/"
        },
        "id": "pxhknUSptGg7",
        "outputId": "2a4a8145-cbdd-4688-dea3-d57b3aefb21c"
      },
      "source": [
        "for i, (k,v) in enumerate(x.items()):\n",
        "    print(i, k, v)"
      ],
      "execution_count": 24,
      "outputs": [
        {
          "output_type": "stream",
          "text": [
            "0 a 10\n",
            "1 b 20\n",
            "2 c 30\n",
            "3 d 40\n"
          ],
          "name": "stdout"
        }
      ]
    },
    {
      "cell_type": "markdown",
      "metadata": {
        "id": "vN-1_LURtpzu"
      },
      "source": [
        "25.3 딕셔너리 표현식"
      ]
    },
    {
      "cell_type": "code",
      "metadata": {
        "colab": {
          "base_uri": "https://localhost:8080/"
        },
        "id": "KWKIE1mBtpiO",
        "outputId": "ada46711-ff4a-4a3e-bd3a-de6e55f85f05"
      },
      "source": [
        "x={'a':10, 'b':20, 'c':30, 'd':40}\n",
        "x2={key:value*value for key, value in x.items()}\n",
        "x2"
      ],
      "execution_count": 27,
      "outputs": [
        {
          "output_type": "execute_result",
          "data": {
            "text/plain": [
              "{'a': 100, 'b': 400, 'c': 900, 'd': 1600}"
            ]
          },
          "metadata": {
            "tags": []
          },
          "execution_count": 27
        }
      ]
    },
    {
      "cell_type": "code",
      "metadata": {
        "colab": {
          "base_uri": "https://localhost:8080/"
        },
        "id": "7s4jtxJMuWfK",
        "outputId": "09b2fd23-52ec-4f6a-a01c-180ded26d37c"
      },
      "source": [
        "x2={}\n",
        "for key, value in x.items():\n",
        "     x2[key] = value*value\n",
        "x2"
      ],
      "execution_count": 28,
      "outputs": [
        {
          "output_type": "execute_result",
          "data": {
            "text/plain": [
              "{'a': 100, 'b': 400, 'c': 900, 'd': 1600}"
            ]
          },
          "metadata": {
            "tags": []
          },
          "execution_count": 28
        }
      ]
    },
    {
      "cell_type": "markdown",
      "metadata": {
        "id": "MV4tQNhFu-xl"
      },
      "source": [
        "25.4 딕셔너리 안에서 딕셔너리 사용\n"
      ]
    },
    {
      "cell_type": "code",
      "metadata": {
        "id": "n25AgnoTurPJ"
      },
      "source": [
        "terrestrial_planet = {\n",
        "    'Mercury': {\n",
        "        'mean_radius': 2439.7,\n",
        "        'mass': 3.3022E+23,\n",
        "        'orbital_period': 87.969\n",
        "    },\n",
        "    'Venus': {\n",
        "        'mean_radius': 6051.8,\n",
        "        'mass': 4.8676E+24,\n",
        "        'orbital_period': 224.70069,\n",
        "    },\n",
        "    'Earth': {\n",
        "        'mean_radius': 6371.0,\n",
        "        'mass': 5.97219E+24,\n",
        "        'orbital_period': 365.25641,\n",
        "    },\n",
        "    'Mars': {\n",
        "        'mean_radius': 3389.5,\n",
        "        'mass': 6.4185E+23,\n",
        "        'orbital_period': 686.9600,\n",
        "    }\n",
        "}\n"
      ],
      "execution_count": 30,
      "outputs": []
    },
    {
      "cell_type": "code",
      "metadata": {
        "colab": {
          "base_uri": "https://localhost:8080/"
        },
        "id": "gOf0veECvcMI",
        "outputId": "864e5a14-21d6-41cc-eb32-0125f837f751"
      },
      "source": [
        "terrestrial_planet['Venus']['mean_radius']"
      ],
      "execution_count": 31,
      "outputs": [
        {
          "output_type": "execute_result",
          "data": {
            "text/plain": [
              "6051.8"
            ]
          },
          "metadata": {
            "tags": []
          },
          "execution_count": 31
        }
      ]
    },
    {
      "cell_type": "code",
      "metadata": {
        "id": "DETGqdclvmTT"
      },
      "source": [
        "result={'results': {'common': {'countPerPage': '10',\n",
        "   'currentPage': '1',\n",
        "   'errorCode': '0',\n",
        "   'errorMessage': '정상',\n",
        "   'totalCount': '1'},\n",
        "  'juso': [{'admCd': '4215013700',\n",
        "    'bdKdcd': '0',\n",
        "    'bdMgtSn': '4215013700100940000017657',\n",
        "    'bdNm': '경포대',\n",
        "    'buldMnnm': '365',\n",
        "    'buldSlno': '0',\n",
        "    'detBdNmList': '',\n",
        "    'emdNm': '저동',\n",
        "    'emdNo': '03',\n",
        "    'engAddr': '365, Gyeongpo-ro, Gangneung-si, Gangwon-do',\n",
        "    'jibunAddr': '강원도 강릉시 저동 94 경포대',\n",
        "    'liNm': '',\n",
        "    'lnbrMnnm': '94',\n",
        "    'lnbrSlno': '0',\n",
        "    'mtYn': '0',\n",
        "    'rn': '경포로',\n",
        "    'rnMgtSn': '421503220002',\n",
        "    'roadAddr': '강원도 강릉시 경포로 365(저동)',\n",
        "    'roadAddrPart1': '강원도 강릉시 경포로 365',\n",
        "    'roadAddrPart2': '(저동)',\n",
        "    'sggNm': '강릉시',\n",
        "    'siNm': '강원도',\n",
        "    'udrtYn': '0',\n",
        "    'zipNo': '25461'}]}}\n"
      ],
      "execution_count": 32,
      "outputs": []
    },
    {
      "cell_type": "code",
      "metadata": {
        "colab": {
          "base_uri": "https://localhost:8080/",
          "height": 36
        },
        "id": "9-XZI7coypfY",
        "outputId": "118286f3-9b61-4c4d-a06c-c5c8a440969a"
      },
      "source": [
        "result['results']['juso'][0]['roadAddr']"
      ],
      "execution_count": 43,
      "outputs": [
        {
          "output_type": "execute_result",
          "data": {
            "application/vnd.google.colaboratory.intrinsic+json": {
              "type": "string"
            },
            "text/plain": [
              "'강원도 강릉시 경포로 365(저동)'"
            ]
          },
          "metadata": {
            "tags": []
          },
          "execution_count": 43
        }
      ]
    },
    {
      "cell_type": "code",
      "metadata": {
        "id": "Fr9mh_KTzJ-p"
      },
      "source": [
        "addrs={'documents': [{'address': {'address_name': '강원 강릉시 저동 94',\n",
        "    'b_code': '4215013700',\n",
        "    'h_code': '4215066500',\n",
        "    'main_address_no': '94',\n",
        "    'mountain_yn': 'N',\n",
        "    'region_1depth_name': '강원',\n",
        "    'region_2depth_name': '강릉시',\n",
        "    'region_3depth_h_name': '경포동',\n",
        "    'region_3depth_name': '저동',\n",
        "    'sub_address_no': '',\n",
        "    'x': '128.896538649542',\n",
        "    'y': '37.7955687639648'},\n",
        "   'address_name': '강원 강릉시 경포로 365',\n",
        "   'address_type': 'ROAD_ADDR',\n",
        "   'road_address': {'address_name': '강원 강릉시 경포로 365',\n",
        "    'building_name': '경포대',\n",
        "    'main_building_no': '365',\n",
        "    'region_1depth_name': '강원',\n",
        "    'region_2depth_name': '강릉시',\n",
        "    'region_3depth_name': '저동',\n",
        "    'road_name': '경포로',\n",
        "    'sub_building_no': '',\n",
        "    'underground_yn': 'N',\n",
        "    'x': '128.896538649542',\n",
        "    'y': '37.7955687639648',\n",
        "    'zone_no': '25461'},\n",
        "   'x': '128.896538649542',\n",
        "   'y': '37.7955687639648'}],\n",
        " 'meta': {'is_end': True, 'pageable_count': 1, 'total_count': 1}}"
      ],
      "execution_count": 46,
      "outputs": []
    },
    {
      "cell_type": "code",
      "metadata": {
        "colab": {
          "base_uri": "https://localhost:8080/"
        },
        "id": "9B2G3hsU1Y27",
        "outputId": "8ba7b845-db4d-4d3e-ca81-516b7ad0d074"
      },
      "source": [
        "#내가 만든값\n",
        "addrs['documents'][0]['x'], addrs['documents'][0]['y']\n",
        "#선생님 의도한것\n",
        "lat=float(addrs['documents'][0]['x']) \n",
        "lng=float(addrs['documents'][0]['y'])\n",
        "print(f'\"위도 :\" {lat:6f}, \"경도 :\"{lng:6f}')"
      ],
      "execution_count": 58,
      "outputs": [
        {
          "output_type": "stream",
          "text": [
            "\"위도 :\" 128.896539, \"경도 :\"37.795569\n"
          ],
          "name": "stdout"
        }
      ]
    },
    {
      "cell_type": "code",
      "metadata": {
        "id": "ot1q5X0Y1ySW"
      },
      "source": [
        ""
      ],
      "execution_count": null,
      "outputs": []
    }
  ]
}