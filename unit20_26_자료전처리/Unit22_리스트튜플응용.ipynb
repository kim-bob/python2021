{
  "nbformat": 4,
  "nbformat_minor": 0,
  "metadata": {
    "colab": {
      "name": "Unit22_리스트튜플응용.ipynb",
      "provenance": [],
      "collapsed_sections": []
    },
    "kernelspec": {
      "name": "python3",
      "display_name": "Python 3"
    },
    "language_info": {
      "name": "python"
    }
  },
  "cells": [
    {
      "cell_type": "markdown",
      "metadata": {
        "id": "1to250G4qR23"
      },
      "source": [
        "#Unit22. 리스트 튜플 응용"
      ]
    },
    {
      "cell_type": "markdown",
      "metadata": {
        "id": "PQR6ll3vqeCW"
      },
      "source": [
        "###22.1 리스트 조작"
      ]
    },
    {
      "cell_type": "code",
      "metadata": {
        "id": "j9W0_q9cqRBD"
      },
      "source": [
        "a=[10,20,30]"
      ],
      "execution_count": 1,
      "outputs": []
    },
    {
      "cell_type": "code",
      "metadata": {
        "id": "psLtQxrNrRgE"
      },
      "source": [
        "#리스트 맨 뒤에 요소하나를 추가 하는 매소드 \n",
        "a.append(500)\n",
        "a"
      ],
      "execution_count": 2,
      "outputs": []
    },
    {
      "cell_type": "code",
      "metadata": {
        "colab": {
          "base_uri": "https://localhost:8080/"
        },
        "id": "mx98qBs5rhfE",
        "outputId": "32fbb2c9-cc11-43a3-c290-8322b39e4fd4"
      },
      "source": [
        "a.append(['x', 'y']) #리스트 속 리스트 추가\n",
        "a"
      ],
      "execution_count": 5,
      "outputs": [
        {
          "output_type": "execute_result",
          "data": {
            "text/plain": [
              "[10, 20, 30, 500, ['x', 'y'], ['x', 'y']]"
            ]
          },
          "metadata": {
            "tags": []
          },
          "execution_count": 5
        }
      ]
    },
    {
      "cell_type": "code",
      "metadata": {
        "colab": {
          "base_uri": "https://localhost:8080/"
        },
        "id": "1Inw46_6rq8G",
        "outputId": "ac756487-a82f-4200-934d-88723344c15f"
      },
      "source": [
        "a.extend(['x', 'y']) #리스트 속 리스트 확장\n",
        "a"
      ],
      "execution_count": 7,
      "outputs": [
        {
          "output_type": "execute_result",
          "data": {
            "text/plain": [
              "[10, 20, 30, 500, ['x', 'y'], ['x', 'y'], 'x', 'y', 'x', 'y']"
            ]
          },
          "metadata": {
            "tags": []
          },
          "execution_count": 7
        }
      ]
    },
    {
      "cell_type": "code",
      "metadata": {
        "colab": {
          "base_uri": "https://localhost:8080/"
        },
        "id": "1txQb2nlrxkQ",
        "outputId": "1a994a4d-0dee-4e15-b3c5-c24ffcd88dc9"
      },
      "source": [
        "emty_list=[]\n",
        "for i in range(5):\n",
        "    emty_list.append(i)\n",
        "emty_list\n"
      ],
      "execution_count": 9,
      "outputs": [
        {
          "output_type": "execute_result",
          "data": {
            "text/plain": [
              "[0, 1, 2, 3, 4]"
            ]
          },
          "metadata": {
            "tags": []
          },
          "execution_count": 9
        }
      ]
    },
    {
      "cell_type": "code",
      "metadata": {
        "colab": {
          "base_uri": "https://localhost:8080/"
        },
        "id": "9R35IaKwsgcJ",
        "outputId": "154bc775-3ec3-4025-9d23-600ebd1e86c5"
      },
      "source": [
        "#요소 삭제\n",
        "del a[4]\n",
        "a\n"
      ],
      "execution_count": 11,
      "outputs": [
        {
          "output_type": "execute_result",
          "data": {
            "text/plain": [
              "[10, 20, 30, 500, 'x', 'y', 'x', 'y']"
            ]
          },
          "metadata": {
            "tags": []
          },
          "execution_count": 11
        }
      ]
    },
    {
      "cell_type": "markdown",
      "metadata": {
        "id": "zicMRHKCt7tP"
      },
      "source": [
        "Stack and Queue\n",
        "일반적으로 많이 사용하지 않음"
      ]
    },
    {
      "cell_type": "code",
      "metadata": {
        "colab": {
          "base_uri": "https://localhost:8080/"
        },
        "id": "uMMxI1HutBrV",
        "outputId": "5a6be0f8-96ba-4e3a-b0f1-696598636969"
      },
      "source": [
        "stack =[]\n",
        "#스텍에 푸쉬\n",
        "stack.append(1),stack.append(2), stack.append(3)\n",
        "stack"
      ],
      "execution_count": 16,
      "outputs": [
        {
          "output_type": "execute_result",
          "data": {
            "text/plain": [
              "[1, 2, 3]"
            ]
          },
          "metadata": {
            "tags": []
          },
          "execution_count": 16
        }
      ]
    },
    {
      "cell_type": "code",
      "metadata": {
        "colab": {
          "base_uri": "https://localhost:8080/"
        },
        "id": "C6nWp017uMVV",
        "outputId": "7161aa4a-0d3a-41b4-ea10-be42a7dbab14"
      },
      "source": [
        "value =stack.pop()\n",
        "#stack 으로부터 pop\n",
        "print(value, stack)"
      ],
      "execution_count": 17,
      "outputs": [
        {
          "output_type": "stream",
          "text": [
            "3 [1, 2]\n"
          ],
          "name": "stdout"
        }
      ]
    },
    {
      "cell_type": "code",
      "metadata": {
        "colab": {
          "base_uri": "https://localhost:8080/"
        },
        "id": "rJI2qs6tuPuM",
        "outputId": "f8f08db3-aefd-4866-b444-47d230c3c22d"
      },
      "source": [
        "queue = []\n",
        "#queue insert\n",
        "queue.insert(0, 1); queue.insert(0, 2); queue.insert(0, 3);\n",
        "queue"
      ],
      "execution_count": 19,
      "outputs": [
        {
          "output_type": "execute_result",
          "data": {
            "text/plain": [
              "[3, 2, 1]"
            ]
          },
          "metadata": {
            "tags": []
          },
          "execution_count": 19
        }
      ]
    },
    {
      "cell_type": "code",
      "metadata": {
        "colab": {
          "base_uri": "https://localhost:8080/"
        },
        "id": "ytSj51HXu9bJ",
        "outputId": "c53b5a63-c233-4cd6-c764-a470ffa23b11"
      },
      "source": [
        "vlaue =queue.pop()\n",
        "print(value, queue)"
      ],
      "execution_count": 21,
      "outputs": [
        {
          "output_type": "stream",
          "text": [
            "3 [3]\n"
          ],
          "name": "stdout"
        }
      ]
    },
    {
      "cell_type": "markdown",
      "metadata": {
        "id": "TplW9nQkvmlU"
      },
      "source": [
        "다양한 메소드"
      ]
    },
    {
      "cell_type": "code",
      "metadata": {
        "colab": {
          "base_uri": "https://localhost:8080/"
        },
        "id": "DZWzaD4NvWIJ",
        "outputId": "b31c4787-3f67-4a3e-85a6-79c232af1860"
      },
      "source": [
        "a= [10, 10 ,10, 20, 30, 40, 50, 60]\n",
        "a.index(30), a.index(40)"
      ],
      "execution_count": 27,
      "outputs": [
        {
          "output_type": "execute_result",
          "data": {
            "text/plain": [
              "(4, 5)"
            ]
          },
          "metadata": {
            "tags": []
          },
          "execution_count": 27
        }
      ]
    },
    {
      "cell_type": "code",
      "metadata": {
        "id": "YlkqfCIcvxxH"
      },
      "source": [
        "if 45 in a :\n",
        "    a.index(45)"
      ],
      "execution_count": 23,
      "outputs": []
    },
    {
      "cell_type": "code",
      "metadata": {
        "colab": {
          "base_uri": "https://localhost:8080/"
        },
        "id": "kR-DpWgEv6m5",
        "outputId": "1bb75a4a-183c-4192-8f1d-ab15baad7cbd"
      },
      "source": [
        "a.count(10)"
      ],
      "execution_count": 28,
      "outputs": [
        {
          "output_type": "execute_result",
          "data": {
            "text/plain": [
              "3"
            ]
          },
          "metadata": {
            "tags": []
          },
          "execution_count": 28
        }
      ]
    },
    {
      "cell_type": "code",
      "metadata": {
        "colab": {
          "base_uri": "https://localhost:8080/"
        },
        "id": "jQgPNv-iwOcK",
        "outputId": "3635f12f-5adf-4fd7-e9ed-357af1b5633c"
      },
      "source": [
        "a.count(45)"
      ],
      "execution_count": 29,
      "outputs": [
        {
          "output_type": "execute_result",
          "data": {
            "text/plain": [
              "0"
            ]
          },
          "metadata": {
            "tags": []
          },
          "execution_count": 29
        }
      ]
    },
    {
      "cell_type": "markdown",
      "metadata": {
        "id": "O61TO6p-xQ-q"
      },
      "source": [
        "정렬(sort)"
      ]
    },
    {
      "cell_type": "code",
      "metadata": {
        "id": "nl0KuQkLwUfS"
      },
      "source": [
        "a= [20, 10, 40, 30, 50]"
      ],
      "execution_count": 30,
      "outputs": []
    },
    {
      "cell_type": "code",
      "metadata": {
        "colab": {
          "base_uri": "https://localhost:8080/"
        },
        "id": "cKKc-otdxW3v",
        "outputId": "143f22a9-bbe7-4ae3-9179-5e484a9dbc95"
      },
      "source": [
        "a.sort()\n",
        "a"
      ],
      "execution_count": 31,
      "outputs": [
        {
          "output_type": "execute_result",
          "data": {
            "text/plain": [
              "[10, 20, 30, 40, 50]"
            ]
          },
          "metadata": {
            "tags": []
          },
          "execution_count": 31
        }
      ]
    },
    {
      "cell_type": "code",
      "metadata": {
        "colab": {
          "base_uri": "https://localhost:8080/"
        },
        "id": "ZFgKlJtTxY8M",
        "outputId": "9d8195b4-9b85-4a2e-fce7-548a23ee2368"
      },
      "source": [
        "b= [20, 10, 40, 30, 50]\n",
        "# 보여주기만 정렬 변하지 않음\n",
        "sorted(b) \n",
        "b\n",
        "\n",
        "# b=sorted(b) 하면 b에 정렬되어 들어가서 순서대로 바뀜"
      ],
      "execution_count": 34,
      "outputs": [
        {
          "output_type": "execute_result",
          "data": {
            "text/plain": [
              "[20, 10, 40, 30, 50]"
            ]
          },
          "metadata": {
            "tags": []
          },
          "execution_count": 34
        }
      ]
    },
    {
      "cell_type": "code",
      "metadata": {
        "colab": {
          "base_uri": "https://localhost:8080/"
        },
        "id": "RsSx5IH0xq1Y",
        "outputId": "5a8a2486-e425-4231-ef91-3454af1e8282"
      },
      "source": [
        "#내림차순으로 정렬(descending order)\n",
        "r= [20, 10, 40, 30, 50]\n",
        "r.sort(reverse=True)\n",
        "r"
      ],
      "execution_count": 36,
      "outputs": [
        {
          "output_type": "execute_result",
          "data": {
            "text/plain": [
              "[50, 40, 30, 20, 10]"
            ]
          },
          "metadata": {
            "tags": []
          },
          "execution_count": 36
        }
      ]
    },
    {
      "cell_type": "markdown",
      "metadata": {
        "id": "kLthtnfxzJuQ"
      },
      "source": [
        "##22.리스트 할당과 복사"
      ]
    },
    {
      "cell_type": "code",
      "metadata": {
        "id": "YJMm1BdHywrk"
      },
      "source": [
        "a=[0,0,0,0]\n",
        "b=a\n",
        "b[2] =99"
      ],
      "execution_count": 39,
      "outputs": []
    },
    {
      "cell_type": "code",
      "metadata": {
        "colab": {
          "base_uri": "https://localhost:8080/"
        },
        "id": "p1yNj-huzq3m",
        "outputId": "30b83b7c-21ec-47c4-c00d-b80fcf5fdf79"
      },
      "source": [
        "b"
      ],
      "execution_count": 40,
      "outputs": [
        {
          "output_type": "execute_result",
          "data": {
            "text/plain": [
              "[0, 0, 99, 0]"
            ]
          },
          "metadata": {
            "tags": []
          },
          "execution_count": 40
        }
      ]
    },
    {
      "cell_type": "code",
      "metadata": {
        "id": "y9nSnoM3zrY3"
      },
      "source": [
        "#데이터를 몽땅 별도의 기억장소에 복사 \n",
        "a=[0,0,0,0]\n",
        "b=a.copy()"
      ],
      "execution_count": 41,
      "outputs": []
    },
    {
      "cell_type": "code",
      "metadata": {
        "colab": {
          "base_uri": "https://localhost:8080/"
        },
        "id": "KsCbQKIZz5ct",
        "outputId": "b37aba2d-c01e-4571-c2a7-304b63fdd2ad"
      },
      "source": [
        "b[2]=99\n",
        "b"
      ],
      "execution_count": 44,
      "outputs": [
        {
          "output_type": "execute_result",
          "data": {
            "text/plain": [
              "[0, 0, 99, 0]"
            ]
          },
          "metadata": {
            "tags": []
          },
          "execution_count": 44
        }
      ]
    },
    {
      "cell_type": "markdown",
      "metadata": {
        "id": "DHj3UTqa2tnw"
      },
      "source": [
        ""
      ]
    },
    {
      "cell_type": "markdown",
      "metadata": {
        "id": "PD3upVE12z0O"
      },
      "source": [
        "22.3 리스트와 반복문"
      ]
    },
    {
      "cell_type": "code",
      "metadata": {
        "id": "FzQJFTez2yJM"
      },
      "source": [
        "fruits = ['apple', 'banana', 'cherry']\n",
        "for fruit in fruits :\n",
        "  "
      ],
      "execution_count": null,
      "outputs": []
    },
    {
      "cell_type": "code",
      "metadata": {
        "colab": {
          "base_uri": "https://localhost:8080/"
        },
        "id": "meHUMmzn3JOK",
        "outputId": "4c70642c-f2c6-4723-c59d-50efb56b6b29"
      },
      "source": [
        "#인덱스와 벨류를 끄집어 낼때 많이 사용되는 enumerate\n",
        "fruits = ['apple', 'banana', 'cherry']\n",
        "for index, fruit in enumerate(fruits):\n",
        "     print(index, fruit)"
      ],
      "execution_count": 48,
      "outputs": [
        {
          "output_type": "stream",
          "text": [
            "0 apple\n",
            "1 banana\n",
            "2 cherry\n"
          ],
          "name": "stdout"
        }
      ]
    },
    {
      "cell_type": "code",
      "metadata": {
        "colab": {
          "base_uri": "https://localhost:8080/"
        },
        "id": "4ZUv2SzX3TPq",
        "outputId": "68fa5faa-476d-4115-ae10-e5672c3d41c9"
      },
      "source": [
        "for i in range(len(fruits)):\n",
        "    print(fruits[i])"
      ],
      "execution_count": 49,
      "outputs": [
        {
          "output_type": "stream",
          "text": [
            "apple\n",
            "banana\n",
            "cherry\n"
          ],
          "name": "stdout"
        }
      ]
    },
    {
      "cell_type": "markdown",
      "metadata": {
        "id": "em1qHhMs4iqI"
      },
      "source": [
        "###22.4 리스트에서 min, max, sum\n",
        "\n"
      ]
    },
    {
      "cell_type": "code",
      "metadata": {
        "id": "vI2ntq1Y31W0"
      },
      "source": [
        "a=[20,40,30,50]\n",
        "a.sort()"
      ],
      "execution_count": 51,
      "outputs": []
    },
    {
      "cell_type": "code",
      "metadata": {
        "colab": {
          "base_uri": "https://localhost:8080/"
        },
        "id": "bu-uxARF4qiI",
        "outputId": "da9ba6b8-7fb7-41ff-8a82-c2eb612c1dac"
      },
      "source": [
        "a[0] #min\n",
        "a[-1] #max"
      ],
      "execution_count": 54,
      "outputs": [
        {
          "output_type": "execute_result",
          "data": {
            "text/plain": [
              "50"
            ]
          },
          "metadata": {
            "tags": []
          },
          "execution_count": 54
        }
      ]
    },
    {
      "cell_type": "code",
      "metadata": {
        "colab": {
          "base_uri": "https://localhost:8080/"
        },
        "id": "6it06Rla4xF2",
        "outputId": "e2bfc8e8-58a5-4573-93b4-9becbf3b04f3"
      },
      "source": [
        "sorted(a)[0] #소티드한 값"
      ],
      "execution_count": 55,
      "outputs": [
        {
          "output_type": "execute_result",
          "data": {
            "text/plain": [
              "20"
            ]
          },
          "metadata": {
            "tags": []
          },
          "execution_count": 55
        }
      ]
    },
    {
      "cell_type": "code",
      "metadata": {
        "id": "3Uoslq_34-J1"
      },
      "source": [
        "sum_of_list = 0\n",
        "for elem in a:\n",
        "     sum_of_list =+elem\n",
        "sum_of_list, sum(a) #sum은 기존존재한 함수로 변수명으로 쓰면 에러날 수 있음"
      ],
      "execution_count": null,
      "outputs": []
    },
    {
      "cell_type": "markdown",
      "metadata": {
        "id": "wB9965Bf5yZW"
      },
      "source": [
        "###22.5리스트 표현식(Cmprehension)\n"
      ]
    },
    {
      "cell_type": "code",
      "metadata": {
        "colab": {
          "base_uri": "https://localhost:8080/"
        },
        "id": "UBy7Hlxh538t",
        "outputId": "bf3c2035-e36f-4fb8-8ddf-93d06f1d6ed7"
      },
      "source": [
        "[fruit for fruit in fruits]"
      ],
      "execution_count": 56,
      "outputs": [
        {
          "output_type": "execute_result",
          "data": {
            "text/plain": [
              "['apple', 'banana', 'cherry']"
            ]
          },
          "metadata": {
            "tags": []
          },
          "execution_count": 56
        }
      ]
    },
    {
      "cell_type": "code",
      "metadata": {
        "colab": {
          "base_uri": "https://localhost:8080/"
        },
        "id": "cxKYmuHL6jn3",
        "outputId": "dc6c6817-2e61-4c87-c3d5-ed1ff3e5669e"
      },
      "source": [
        "[fruit*index for index, fruit in enumerate(fruits)]"
      ],
      "execution_count": 57,
      "outputs": [
        {
          "output_type": "execute_result",
          "data": {
            "text/plain": [
              "['', 'banana', 'cherrycherry']"
            ]
          },
          "metadata": {
            "tags": []
          },
          "execution_count": 57
        }
      ]
    },
    {
      "cell_type": "code",
      "metadata": {
        "colab": {
          "base_uri": "https://localhost:8080/"
        },
        "id": "iDMC6ct06vwg",
        "outputId": "ed806d3f-ae6f-46c4-e8d9-deb1447831a8"
      },
      "source": [
        "[i*i for i in range(1, 10)]"
      ],
      "execution_count": 58,
      "outputs": [
        {
          "output_type": "execute_result",
          "data": {
            "text/plain": [
              "[1, 4, 9, 16, 25, 36, 49, 64, 81]"
            ]
          },
          "metadata": {
            "tags": []
          },
          "execution_count": 58
        }
      ]
    },
    {
      "cell_type": "code",
      "metadata": {
        "colab": {
          "base_uri": "https://localhost:8080/"
        },
        "id": "T5_0myGU7d-k",
        "outputId": "25d03cc6-8816-45e0-b494-711a12f5f574"
      },
      "source": [
        "sq_list = []\n",
        "for i in range(1,11):\n",
        "    sq_list.append(i*i)\n",
        "sq_list\n"
      ],
      "execution_count": 60,
      "outputs": [
        {
          "output_type": "execute_result",
          "data": {
            "text/plain": [
              "[1, 4, 9, 16, 25, 36, 49, 64, 81, 100]"
            ]
          },
          "metadata": {
            "tags": []
          },
          "execution_count": 60
        }
      ]
    },
    {
      "cell_type": "markdown",
      "metadata": {
        "id": "DN6emFoy8CG-"
      },
      "source": [
        "\n",
        "###표현식에서 if 조건문 사용하기"
      ]
    },
    {
      "cell_type": "code",
      "metadata": {
        "colab": {
          "base_uri": "https://localhost:8080/"
        },
        "id": "ww4vAuyM8FAq",
        "outputId": "61e603f0-0453-46f9-a65f-56821e3c8350"
      },
      "source": [
        "[i*i for i in range(1, 11,2)]"
      ],
      "execution_count": 61,
      "outputs": [
        {
          "output_type": "execute_result",
          "data": {
            "text/plain": [
              "[1, 9, 25, 49, 81]"
            ]
          },
          "metadata": {
            "tags": []
          },
          "execution_count": 61
        }
      ]
    },
    {
      "cell_type": "code",
      "metadata": {
        "colab": {
          "base_uri": "https://localhost:8080/"
        },
        "id": "N9YrnT4p8zbE",
        "outputId": "e9de2491-4b67-474b-b8db-a170105ed59f"
      },
      "source": [
        "[i*i for i in range(1, 11) if i%2 ==1 ]"
      ],
      "execution_count": 62,
      "outputs": [
        {
          "output_type": "execute_result",
          "data": {
            "text/plain": [
              "[1, 9, 25, 49, 81]"
            ]
          },
          "metadata": {
            "tags": []
          },
          "execution_count": 62
        }
      ]
    },
    {
      "cell_type": "markdown",
      "metadata": {
        "id": "nthkZw5c9ChX"
      },
      "source": [
        "###for 가 여러번 나오게 할 수 있음"
      ]
    },
    {
      "cell_type": "code",
      "metadata": {
        "colab": {
          "base_uri": "https://localhost:8080/"
        },
        "id": "58ZvoKsQ85Rq",
        "outputId": "d60d7dff-4bd3-4dd9-bfe8-13ab1adb8f39"
      },
      "source": [
        "#구구단\n",
        "a= [i*k for i in range(2, 10) for k in range(1,10)]\n",
        "print(a)"
      ],
      "execution_count": 64,
      "outputs": [
        {
          "output_type": "stream",
          "text": [
            "[2, 4, 6, 8, 10, 12, 14, 16, 18, 3, 6, 9, 12, 15, 18, 21, 24, 27, 4, 8, 12, 16, 20, 24, 28, 32, 36, 5, 10, 15, 20, 25, 30, 35, 40, 45, 6, 12, 18, 24, 30, 36, 42, 48, 54, 7, 14, 21, 28, 35, 42, 49, 56, 63, 8, 16, 24, 32, 40, 48, 56, 64, 72, 9, 18, 27, 36, 45, 54, 63, 72, 81]\n"
          ],
          "name": "stdout"
        }
      ]
    },
    {
      "cell_type": "code",
      "metadata": {
        "colab": {
          "base_uri": "https://localhost:8080/"
        },
        "id": "O-0eFm0E9TaQ",
        "outputId": "890bea80-1a05-4358-9b28-7262430c54c5"
      },
      "source": [
        "a= [i*k for i in range(2, 10) \n",
        "            for k in range(1,10)]\n",
        "print(a)"
      ],
      "execution_count": 65,
      "outputs": [
        {
          "output_type": "stream",
          "text": [
            "[2, 4, 6, 8, 10, 12, 14, 16, 18, 3, 6, 9, 12, 15, 18, 21, 24, 27, 4, 8, 12, 16, 20, 24, 28, 32, 36, 5, 10, 15, 20, 25, 30, 35, 40, 45, 6, 12, 18, 24, 30, 36, 42, 48, 54, 7, 14, 21, 28, 35, 42, 49, 56, 63, 8, 16, 24, 32, 40, 48, 56, 64, 72, 9, 18, 27, 36, 45, 54, 63, 72, 81]\n"
          ],
          "name": "stdout"
        }
      ]
    },
    {
      "cell_type": "markdown",
      "metadata": {
        "id": "nOfdWVKA-KyF"
      },
      "source": [
        "###22.6 map"
      ]
    },
    {
      "cell_type": "code",
      "metadata": {
        "colab": {
          "base_uri": "https://localhost:8080/"
        },
        "id": "YY7R_Kiu99Hi",
        "outputId": "bc8ec57b-4092-4f19-abb1-662c76435946"
      },
      "source": [
        "a=[1.2, 2.3, 3.5, 4.8]\n",
        "for i in range(len(a)):\n",
        "    a[i] = int(a[i])\n",
        "a\n"
      ],
      "execution_count": 68,
      "outputs": [
        {
          "output_type": "execute_result",
          "data": {
            "text/plain": [
              "[1, 2, 3, 4]"
            ]
          },
          "metadata": {
            "tags": []
          },
          "execution_count": 68
        }
      ]
    },
    {
      "cell_type": "code",
      "metadata": {
        "colab": {
          "base_uri": "https://localhost:8080/"
        },
        "id": "M_kb0WFA-rmE",
        "outputId": "57c42a34-97bd-4698-bc10-faf8c632d7dc"
      },
      "source": [
        "#값이 안들어가는 예\n",
        "a=[1.2, 2.3, 3.5, 4.8]\n",
        "for i in range(len(a)):\n",
        "    i = int(i)\n",
        "a"
      ],
      "execution_count": 69,
      "outputs": [
        {
          "output_type": "execute_result",
          "data": {
            "text/plain": [
              "[1.2, 2.3, 3.5, 4.8]"
            ]
          },
          "metadata": {
            "tags": []
          },
          "execution_count": 69
        }
      ]
    },
    {
      "cell_type": "code",
      "metadata": {
        "id": "KB0stBYS-4MB"
      },
      "source": [
        "a=[1.2, 2.3, 3.5, 4.8]\n",
        "for i in range(len(a)):\n",
        "    i = int(i)\n",
        "a"
      ],
      "execution_count": null,
      "outputs": []
    },
    {
      "cell_type": "code",
      "metadata": {
        "colab": {
          "base_uri": "https://localhost:8080/"
        },
        "id": "DzbILOJe_Ntd",
        "outputId": "4148bd97-3bff-40c7-f048-e0dbb04d3d8a"
      },
      "source": [
        "a=[1.2, 2.3, 3.5, 4.8]\n",
        "a= list(map(int,a))\n",
        "a"
      ],
      "execution_count": 70,
      "outputs": [
        {
          "output_type": "execute_result",
          "data": {
            "text/plain": [
              "[1, 2, 3, 4]"
            ]
          },
          "metadata": {
            "tags": []
          },
          "execution_count": 70
        }
      ]
    },
    {
      "cell_type": "markdown",
      "metadata": {
        "id": "AFwSgb8K_7HB"
      },
      "source": [
        "###22.7 tuple"
      ]
    },
    {
      "cell_type": "code",
      "metadata": {
        "colab": {
          "base_uri": "https://localhost:8080/"
        },
        "id": "-nmb7lE6_a9b",
        "outputId": "177478bb-1b2b-4709-8cb8-04b4e10d94c8"
      },
      "source": [
        "tuple(i*i for i in range(1, 11) if i%2==0)"
      ],
      "execution_count": 72,
      "outputs": [
        {
          "output_type": "execute_result",
          "data": {
            "text/plain": [
              "(4, 16, 36, 64, 100)"
            ]
          },
          "metadata": {
            "tags": []
          },
          "execution_count": 72
        }
      ]
    },
    {
      "cell_type": "code",
      "metadata": {
        "id": "WKYtZdyuALgt"
      },
      "source": [
        ""
      ],
      "execution_count": null,
      "outputs": []
    }
  ]
}