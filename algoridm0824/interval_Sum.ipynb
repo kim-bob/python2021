{
  "nbformat": 4,
  "nbformat_minor": 0,
  "metadata": {
    "colab": {
      "name": "interval_Sum.ipynb",
      "provenance": [],
      "collapsed_sections": []
    },
    "kernelspec": {
      "name": "python3",
      "display_name": "Python 3"
    },
    "language_info": {
      "name": "python"
    }
  },
  "cells": [
    {
      "cell_type": "markdown",
      "metadata": {
        "id": "HH4jm5VhJS64"
      },
      "source": [
        "https://www.acmicpc.net/problem/2042\n",
        "어떤 N개의 수가 주어져 있다. 그런데 중간에 수의 변경이 빈번히 일어나고 그 중간에 어떤 부분의 합을 구하려 한다. 만약에 1,2,3,4,5 라는 수가 있고, 3번째 수를 6으로 바꾸고 2번째부터 5번째까지 합을 구하라고 한다면 17을 출력하면 되는 것이다. 그리고 그 상태에서 다섯 번째 수를 2로 바꾸고 3번째부터 5번째까지 합을 구하라고 한다면 12가 될 것이다.\n",
        "\n",
        "힌트 Binary Indexed Tree"
      ]
    },
    {
      "cell_type": "code",
      "metadata": {
        "colab": {
          "base_uri": "https://localhost:8080/",
          "height": 251
        },
        "id": "djXcHknZO4Va",
        "outputId": "b7fd8728-be0a-4d02-d17a-c87da6df76df"
      },
      "source": [
        "import sys\n",
        "input = sys.stdin.readline\n",
        "\n",
        "#데이터의 개수(n), 변경회수 m , 구간합 계산 횟수(k)\n",
        "n, m ,k = map(int, input().split())\n",
        "arr = [0]*(n+1)\n",
        "tree = [0]*(n+1)\n",
        "\n",
        "def prefix_sum(i):\n",
        "    result = 0\n",
        "    while i > 0 :\n",
        "         result += tree[i]\n",
        "         #0 이 아닌 마지막 비트만큼 빼가면서 이동\n",
        "         i -=(i*-i)\n",
        "    return result\n",
        "\n",
        "def update(i, dif):\n",
        "   while i <= n :\n",
        "       tree[i] += dif\n",
        "       i += (i*-i)\n",
        "\n",
        "#start 부터 end까지의 구간 합을 계산하는 함수\n",
        "\n",
        "def interval_sum(start, end) :\n",
        "    return prefix_sum(end) - prefix_sum(start-1)\n",
        "\n",
        "for i in range(1, n+1) :\n",
        "  x= int(input())\n",
        "  arr[i] = x\n",
        "  update(i, x)\n",
        "\n",
        "for i in range(m+k) :\n",
        "    a, b, c = map(int, input().split())\n",
        " #업데이트 연산인경우\n",
        "    if a == 1 :\n",
        "        update(b, c, - arr[b]) \n",
        "        arr[b] = c \n",
        "    else :\n",
        "        print(interval_sum(b,c))\n"
      ],
      "execution_count": null,
      "outputs": [
        {
          "output_type": "error",
          "ename": "ValueError",
          "evalue": "ignored",
          "traceback": [
            "\u001b[0;31m---------------------------------------------------------------------------\u001b[0m",
            "\u001b[0;31mValueError\u001b[0m                                Traceback (most recent call last)",
            "\u001b[0;32m<ipython-input-3-4837c21f0ad8>\u001b[0m in \u001b[0;36m<module>\u001b[0;34m()\u001b[0m\n\u001b[1;32m      3\u001b[0m \u001b[0;34m\u001b[0m\u001b[0m\n\u001b[1;32m      4\u001b[0m \u001b[0;31m#데이터의 개수(n), 변경회수 m , 구간합 계산 횟수(k)\u001b[0m\u001b[0;34m\u001b[0m\u001b[0;34m\u001b[0m\u001b[0;34m\u001b[0m\u001b[0m\n\u001b[0;32m----> 5\u001b[0;31m \u001b[0mn\u001b[0m\u001b[0;34m,\u001b[0m \u001b[0mm\u001b[0m \u001b[0;34m,\u001b[0m\u001b[0mk\u001b[0m \u001b[0;34m=\u001b[0m \u001b[0mmap\u001b[0m\u001b[0;34m(\u001b[0m\u001b[0mint\u001b[0m\u001b[0;34m,\u001b[0m \u001b[0minput\u001b[0m\u001b[0;34m(\u001b[0m\u001b[0;34m)\u001b[0m\u001b[0;34m.\u001b[0m\u001b[0msplit\u001b[0m\u001b[0;34m(\u001b[0m\u001b[0;34m)\u001b[0m\u001b[0;34m)\u001b[0m\u001b[0;34m\u001b[0m\u001b[0;34m\u001b[0m\u001b[0m\n\u001b[0m\u001b[1;32m      6\u001b[0m \u001b[0marr\u001b[0m \u001b[0;34m=\u001b[0m \u001b[0;34m[\u001b[0m\u001b[0;36m0\u001b[0m\u001b[0;34m]\u001b[0m\u001b[0;34m*\u001b[0m\u001b[0;34m(\u001b[0m\u001b[0mn\u001b[0m\u001b[0;34m+\u001b[0m\u001b[0;36m1\u001b[0m\u001b[0;34m)\u001b[0m\u001b[0;34m\u001b[0m\u001b[0;34m\u001b[0m\u001b[0m\n\u001b[1;32m      7\u001b[0m \u001b[0mtree\u001b[0m \u001b[0;34m=\u001b[0m \u001b[0;34m[\u001b[0m\u001b[0;36m0\u001b[0m\u001b[0;34m]\u001b[0m\u001b[0;34m*\u001b[0m\u001b[0;34m(\u001b[0m\u001b[0mn\u001b[0m\u001b[0;34m+\u001b[0m\u001b[0;36m1\u001b[0m\u001b[0;34m)\u001b[0m\u001b[0;34m\u001b[0m\u001b[0;34m\u001b[0m\u001b[0m\n",
            "\u001b[0;31mValueError\u001b[0m: not enough values to unpack (expected 3, got 0)"
          ]
        }
      ]
    },
    {
      "cell_type": "code",
      "metadata": {
        "colab": {
          "base_uri": "https://localhost:8080/"
        },
        "id": "0vKEXn0aHVTd",
        "outputId": "44413ed2-cf17-4ee9-887b-221758c4b0ea"
      },
      "source": [
        "# K&-K 연산결과\n",
        "n= 8\n",
        "for i in range(n):\n",
        "    print(i, \"의 마지막비티:\", (i & -i))"
      ],
      "execution_count": null,
      "outputs": [
        {
          "output_type": "stream",
          "text": [
            "0 의 마지막비티: 0\n",
            "1 의 마지막비티: 1\n",
            "2 의 마지막비티: 2\n",
            "3 의 마지막비티: 1\n",
            "4 의 마지막비티: 4\n",
            "5 의 마지막비티: 1\n",
            "6 의 마지막비티: 2\n",
            "7 의 마지막비티: 1\n"
          ],
          "name": "stdout"
        }
      ]
    },
    {
      "cell_type": "code",
      "metadata": {
        "id": "jGDi60_CO2Ph"
      },
      "source": [
        "\n",
        "arr = [7, 5, 9 , 0, 3, 1, 6, 2, 4, 8]\n",
        " "
      ],
      "execution_count": null,
      "outputs": []
    },
    {
      "cell_type": "code",
      "metadata": {
        "id": "8GexfCxSYzwM"
      },
      "source": [
        "#선택정렬\n",
        "for i in range(len(arr)) :\n",
        "    min_index = i \n",
        "    for k in range(i + 1, len(arr)) :\n",
        "        if arr[min_index] > arr[k] :\n",
        "            min_inedex = k\n",
        "    arr[i], arr[min_index] = arr[min_index], arr[i] \n",
        "\n",
        "print(arr)"
      ],
      "execution_count": null,
      "outputs": []
    },
    {
      "cell_type": "code",
      "metadata": {
        "colab": {
          "base_uri": "https://localhost:8080/"
        },
        "id": "0KvqFNHJKsGZ",
        "outputId": "5bf45f77-0573-4197-c3d1-5e9e0fa228c1"
      },
      "source": [
        "#삽입정렬\n",
        "for i in range(1, len(arr)) :\n",
        "    for k in range(i, 0, -1) :\n",
        "        if arr[k] < arr[k-1] :\n",
        "            arr[k], arr[k-1] = arr[k-1], arr[k]\n",
        "        else :\n",
        "            break\n",
        "print(arr)\n",
        "      "
      ],
      "execution_count": null,
      "outputs": [
        {
          "output_type": "stream",
          "text": [
            "[0, 1, 2, 3, 4, 5, 6, 7, 8, 9]\n"
          ],
          "name": "stdout"
        }
      ]
    },
    {
      "cell_type": "code",
      "metadata": {
        "id": "fxEB3kBTWEZf",
        "colab": {
          "base_uri": "https://localhost:8080/"
        },
        "outputId": "cf071cd9-dca0-41f5-f958-c2be274968cd"
      },
      "source": [
        "#퀵 정렬 동작\n",
        "\n",
        "arr = [ 5, 7, 9, 0, 3, 1, 6, 2, 4, 8]\n",
        "def quick_sort(arr, start, end):\n",
        "    if start >= end : #원소가 1개 인 경우 종료\n",
        "        return\n",
        "    pivot = start #피벗은 첫번째 원소\n",
        "    left = start +  1\n",
        "    right = end\n",
        "    while (left <= right) :\n",
        "        #피벗보다 큰 데이터를 찾을 때까지 반복\n",
        "        while (left <= end and arr[left]  <= arr[pivot]) :\n",
        "             left += 1\n",
        "        #피벗보다 작은 데이터를 찾을 때까지 반복\n",
        "        while (right > start and arr[right] >= arr[pivot]) :\n",
        "             right -= 1 \n",
        "\n",
        "        if (left > right ):\n",
        "            arr[right], arr[pivot] = arr[pivot], arr[right] \n",
        "        else : \n",
        "            arr[left], arr[right] = arr[right], arr[left]\n",
        "    quick_sort(arr, start, right -1)\n",
        "    quick_sort(arr, right +1, end)\n",
        "\n",
        "quick_sort(arr, 0, len(arr) -1)\n",
        "print(arr)  "
      ],
      "execution_count": 5,
      "outputs": [
        {
          "output_type": "stream",
          "text": [
            "[0, 1, 2, 3, 4, 5, 6, 7, 8, 9]\n"
          ],
          "name": "stdout"
        }
      ]
    },
    {
      "cell_type": "code",
      "metadata": {
        "colab": {
          "base_uri": "https://localhost:8080/"
        },
        "id": "dupMyMIP75FQ",
        "outputId": "53ed20c9-eaca-4693-9f42-d85405d56a47"
      },
      "source": [
        "#퀵 정렬 동작\n",
        "arr = [ 5, 7, 9, 0, 3, 1, 6, 2, 4, 8]\n",
        "\n",
        "def quick_sort(arr) :\n",
        "    if len(arr)  <= 1 :\n",
        "        return arr\n",
        "    pivot = arr[0]\n",
        "    tail = arr[1:]\n",
        "\n",
        "    left_side = [ x for x in tail if x <= pivot]\n",
        "    right_side = [x for x in tail if x > pivot]\n",
        "    return quick_sort(left_side) + [pivot] + quick_sort(right_side)\n",
        "\n",
        "print(quick_sort(arr))"
      ],
      "execution_count": 10,
      "outputs": [
        {
          "output_type": "stream",
          "text": [
            "[0, 1, 2, 3, 4, 5, 6, 7, 8, 9]\n"
          ],
          "name": "stdout"
        }
      ]
    },
    {
      "cell_type": "code",
      "metadata": {
        "id": "IwZz7Mja-y90"
      },
      "source": [
        "#계수정렬\n",
        "arr=[7, 5, 9, 0, 3, 1, 6, 2, 9, 1, 4, 8, 0, 5, 2]\n",
        "count=[0]*(max(arr)+1)\n",
        "for i in range(len(arr)):\n",
        "    count[arr[i]] +1\n",
        "for i in range(len(count)) :\n",
        "    for k in range(count[i]) :\n",
        "         print(i, end ='')\n",
        " "
      ],
      "execution_count": 15,
      "outputs": []
    },
    {
      "cell_type": "code",
      "metadata": {
        "colab": {
          "base_uri": "https://localhost:8080/"
        },
        "id": "xrw308I_IU0w",
        "outputId": "1ae8a545-8965-4e78-f08f-7de4e0b077d3"
      },
      "source": [
        "n, k = map(int, input().split())\n",
        "a=list(map(int, input().split()))\n",
        "b=list(map(int, input().split()))\n",
        "a.sort()\n",
        "b.sort(reverse=True)\n",
        "for i in range(k) :\n",
        "    if a[i] < b[i] :\n",
        "        a[i], b[i] = b[i], a[i]\n",
        "    else : \n",
        "        break\n",
        "\n",
        "print(sum(a))"
      ],
      "execution_count": 20,
      "outputs": [
        {
          "output_type": "stream",
          "text": [
            "5 3\n",
            "1 2 3 4\n",
            "5 6 7 8\n",
            "25\n"
          ],
          "name": "stdout"
        }
      ]
    },
    {
      "cell_type": "code",
      "metadata": {
        "id": "sTIqmL5tS5Y8"
      },
      "source": [
        "5 3 \n"
      ],
      "execution_count": null,
      "outputs": []
    }
  ]
}