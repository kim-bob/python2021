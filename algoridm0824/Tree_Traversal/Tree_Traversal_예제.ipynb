{
  "nbformat": 4,
  "nbformat_minor": 0,
  "metadata": {
    "colab": {
      "name": "Tree Traversal_예제.ipynb",
      "provenance": [],
      "collapsed_sections": []
    },
    "kernelspec": {
      "name": "python3",
      "display_name": "Python 3"
    },
    "language_info": {
      "name": "python"
    }
  },
  "cells": [
    {
      "cell_type": "markdown",
      "metadata": {
        "id": "JMr62lJXDP14"
      },
      "source": [
        "#트리순회 (Tree traversal) 구현예제"
      ]
    },
    {
      "cell_type": "code",
      "metadata": {
        "colab": {
          "base_uri": "https://localhost:8080/"
        },
        "id": "HzybRYI_DPWQ",
        "outputId": "2b242118-64e8-40ad-d9d7-84964f08d083"
      },
      "source": [
        "class Node:\n",
        "    def __init__(self, data, left_node, right_node) :\n",
        "        self.data = data\n",
        "        self.left_node = left_node\n",
        "        self.right_node = right_node\n",
        "#전위 순회(Preorder Traversal)\n",
        "\n",
        "def pre_order(node):\n",
        "    print(node.data, end=' ')\n",
        "    if node.left_node !=None :\n",
        "        pre_order(tree[node.left_node])\n",
        "    if node.right_node !=None :\n",
        "        pre_order(tree[node.right_node])\n",
        "# 중위순회 (Inoder Traversal)\n",
        "def in_order(node):\n",
        "    if node.left_node !=None :\n",
        "        in_order(tree[node.left_node])\n",
        "    if node.right_node !=None :\n",
        "        in_order(tree[node.right_node])\n",
        "\n",
        "# 후위 순회 (Postorder Traversal)\n",
        "def post_order(node):\n",
        "    if node.left_node !=None :\n",
        "        post_order(tree[node.left_node])\n",
        "    if node.right_node !=None :\n",
        "        post_order(tree[node.right_node])\n",
        "\n",
        "n= int(input())\n",
        "tree={}\n",
        "\n",
        "for i in range(n):\n",
        "    data, left_node, right_node = input().split()\n",
        "    if left_node == \"None\" : \n",
        "        left_node = None\n",
        "    if right_node == \"None\" : \n",
        "        right_node = None\n",
        "    tree[data] = Node(data, left_node, right_node)\n",
        "\n",
        "pre_order(tree['A'])\n",
        "print()\n",
        "in_order(tree['A'])\n",
        "print()\n",
        "post_order(tree['A'])\n",
        "print()\n"
      ],
      "execution_count": 2,
      "outputs": [
        {
          "output_type": "stream",
          "text": [
            "7\n",
            " A B C\n",
            "B D E\n",
            "C F G\n",
            "D None None\n",
            "E None None\n",
            "F None None\n",
            "G None None\n",
            "A B D E C F G \n",
            "\n",
            "\n"
          ],
          "name": "stdout"
        }
      ]
    },
    {
      "cell_type": "markdown",
      "metadata": {
        "id": "c3XtQVKAGaWi"
      },
      "source": [
        "# 입력값 예제\n",
        "7\n",
        "A B C\n",
        "B D E\n",
        "C F G\n",
        "D None None\n",
        "E None None\n",
        "F None None\n",
        "G None None "
      ]
    }
  ]
}