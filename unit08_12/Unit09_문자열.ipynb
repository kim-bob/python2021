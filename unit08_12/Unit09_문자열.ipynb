{
  "nbformat": 4,
  "nbformat_minor": 0,
  "metadata": {
    "colab": {
      "name": "Unit09문자열.ipynb",
      "provenance": [],
      "collapsed_sections": []
    },
    "kernelspec": {
      "name": "python3",
      "display_name": "Python 3"
    },
    "language_info": {
      "name": "python"
    }
  },
  "cells": [
    {
      "cell_type": "markdown",
      "metadata": {
        "id": "jgUtHo_AeD7e"
      },
      "source": [
        "#Unit9.문자열"
      ]
    },
    {
      "cell_type": "code",
      "metadata": {
        "colab": {
          "base_uri": "https://localhost:8080/"
        },
        "id": "OiqkrTjk76S2",
        "outputId": "558d55d1-a45e-40d9-8e08-f9a26c98ec80"
      },
      "source": [
        "#코딩도장 7장 테스트문제 복습\n",
        "year, month, day, hour, minute, second = input().split()\n",
        "print(year, month, day, sep='-', end='T')\n",
        "print(hour, minute, second, sep=':')"
      ],
      "execution_count": null,
      "outputs": [
        {
          "output_type": "stream",
          "text": [
            "1 2 3 4 5 6\n",
            "1-2-3T4:5:6\n"
          ],
          "name": "stdout"
        }
      ]
    },
    {
      "cell_type": "code",
      "metadata": {
        "colab": {
          "base_uri": "https://localhost:8080/",
          "height": 139
        },
        "id": "AzuulKBteDwV",
        "outputId": "2e7c6793-f487-4a1d-b7a2-18a163de4c48"
      },
      "source": [
        "multi= 'Hello \\nwordl!'\n",
        "print(multi)\n",
        "\n",
        "multi2= '''Hello\n",
        "wordl!''' \n",
        "print(multi2)"
      ],
      "execution_count": 8,
      "outputs": [
        {
          "output_type": "error",
          "ename": "SyntaxError",
          "evalue": "ignored",
          "traceback": [
            "\u001b[0;36m  File \u001b[0;32m\"<ipython-input-8-56305cb2a8c7>\"\u001b[0;36m, line \u001b[0;32m4\u001b[0m\n\u001b[0;31m    multi2= ````'''Hello\u001b[0m\n\u001b[0m            ^\u001b[0m\n\u001b[0;31mSyntaxError\u001b[0m\u001b[0;31m:\u001b[0m invalid syntax\n"
          ]
        }
      ]
    },
    {
      "cell_type": "code",
      "metadata": {
        "colab": {
          "base_uri": "https://localhost:8080/",
          "height": 55
        },
        "id": "SsWixBeNegi2",
        "outputId": "346f2011-1421-479c-f975-0c8aecba50d2"
      },
      "source": [
        "s=\"Pytnon isn't difficult\"\n",
        "print(s)\n",
        "b='Alice said \"I Love You\"'\n",
        "b"
      ],
      "execution_count": 6,
      "outputs": [
        {
          "output_type": "stream",
          "text": [
            "Pytnon isn't difficult\n"
          ],
          "name": "stdout"
        },
        {
          "output_type": "execute_result",
          "data": {
            "application/vnd.google.colaboratory.intrinsic+json": {
              "type": "string"
            },
            "text/plain": [
              "'Alice said \"I Love You\"'"
            ]
          },
          "metadata": {
            "tags": []
          },
          "execution_count": 6
        }
      ]
    },
    {
      "cell_type": "code",
      "metadata": {
        "id": "LYuwWS3md-CF"
      },
      "source": [
        ""
      ],
      "execution_count": null,
      "outputs": []
    },
    {
      "cell_type": "code",
      "metadata": {
        "id": "isJA-_r3FCT-"
      },
      "source": [
        ""
      ],
      "execution_count": null,
      "outputs": []
    }
  ]
}