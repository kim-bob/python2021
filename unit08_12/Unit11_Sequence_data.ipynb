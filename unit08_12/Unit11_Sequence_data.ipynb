{
  "nbformat": 4,
  "nbformat_minor": 0,
  "metadata": {
    "colab": {
      "name": "Unit11_Sequence_data.ipynb",
      "provenance": [],
      "collapsed_sections": []
    },
    "kernelspec": {
      "name": "python3",
      "display_name": "Python 3"
    },
    "language_info": {
      "name": "python"
    }
  },
  "cells": [
    {
      "cell_type": "markdown",
      "metadata": {
        "id": "0_BI02Nxtb6X"
      },
      "source": [
        "#Unit11. 시퀀스자료형"
      ]
    },
    {
      "cell_type": "code",
      "metadata": {
        "colab": {
          "base_uri": "https://localhost:8080/"
        },
        "cellView": "code",
        "id": "hjWX5MaUtZr6",
        "outputId": "0b9cd872-9152-4101-d1b0-9f308072d3a8"
      },
      "source": [
        "#@title 기본 제목 텍스트\n",
        "#시퀀스 자료형은 반복문 사용 기낭하다. \n",
        "for i in 'hello': #[1,2,3,4], (1,2,3,4), range(1,5)\n",
        "  print(i, end=' ')"
      ],
      "execution_count": 2,
      "outputs": [
        {
          "output_type": "stream",
          "text": [
            "h e l l o "
          ],
          "name": "stdout"
        }
      ]
    },
    {
      "cell_type": "markdown",
      "metadata": {
        "id": "fQASUIAYyoYK"
      },
      "source": [
        "11.1 공통기능"
      ]
    },
    {
      "cell_type": "markdown",
      "metadata": {
        "id": "LYaxjPXCu83P"
      },
      "source": [
        "###특정값 존재여부"
      ]
    },
    {
      "cell_type": "code",
      "metadata": {
        "colab": {
          "base_uri": "https://localhost:8080/"
        },
        "id": "uEftvDQ_u8t2",
        "outputId": "944cbed3-58b1-4900-a090-6e6420c29c4a"
      },
      "source": [
        "a= list(range(0,100, 10))\n",
        "a"
      ],
      "execution_count": 4,
      "outputs": [
        {
          "output_type": "execute_result",
          "data": {
            "text/plain": [
              "[0, 10, 20, 30, 40, 50, 60, 70, 80, 90]"
            ]
          },
          "metadata": {
            "tags": []
          },
          "execution_count": 4
        }
      ]
    },
    {
      "cell_type": "code",
      "metadata": {
        "colab": {
          "base_uri": "https://localhost:8080/"
        },
        "id": "C5Uts_9gvJDG",
        "outputId": "82b61ff5-24e0-453e-bb36-eaee9a313433"
      },
      "source": [
        "30 in a, 33 in a, 33 not in a"
      ],
      "execution_count": 8,
      "outputs": [
        {
          "output_type": "execute_result",
          "data": {
            "text/plain": [
              "(True, False, True)"
            ]
          },
          "metadata": {
            "tags": []
          },
          "execution_count": 8
        }
      ]
    },
    {
      "cell_type": "code",
      "metadata": {
        "colab": {
          "base_uri": "https://localhost:8080/"
        },
        "id": "_NIRbIWVvLO7",
        "outputId": "15419538-0e50-44e8-da93-e1d8d64c0e2f"
      },
      "source": [
        "5 in range(6)"
      ],
      "execution_count": 10,
      "outputs": [
        {
          "output_type": "execute_result",
          "data": {
            "text/plain": [
              "True"
            ]
          },
          "metadata": {
            "tags": []
          },
          "execution_count": 10
        }
      ]
    },
    {
      "cell_type": "code",
      "metadata": {
        "colab": {
          "base_uri": "https://localhost:8080/"
        },
        "id": "6K8_NGwlvWo8",
        "outputId": "5a11b38a-1bef-4654-c7b3-4d2d7130697d"
      },
      "source": [
        "'h' in 'Hello'"
      ],
      "execution_count": 11,
      "outputs": [
        {
          "output_type": "execute_result",
          "data": {
            "text/plain": [
              "False"
            ]
          },
          "metadata": {
            "tags": []
          },
          "execution_count": 11
        }
      ]
    },
    {
      "cell_type": "code",
      "metadata": {
        "colab": {
          "base_uri": "https://localhost:8080/",
          "height": 36
        },
        "id": "sLqsah2Rve0p",
        "outputId": "edf492c3-4e90-443f-8dac-8ced20faf70a"
      },
      "source": [
        "'Hello' + ' ' + 'world!'"
      ],
      "execution_count": 12,
      "outputs": [
        {
          "output_type": "execute_result",
          "data": {
            "application/vnd.google.colaboratory.intrinsic+json": {
              "type": "string"
            },
            "text/plain": [
              "'Hello world!'"
            ]
          },
          "metadata": {
            "tags": []
          },
          "execution_count": 12
        }
      ]
    },
    {
      "cell_type": "code",
      "metadata": {
        "colab": {
          "base_uri": "https://localhost:8080/"
        },
        "id": "xhrBw0Ibv4Kd",
        "outputId": "07934bcc-c838-45d5-c160-7fa18b2539bb"
      },
      "source": [
        "[2,4,6] + [1,3,5]"
      ],
      "execution_count": 13,
      "outputs": [
        {
          "output_type": "execute_result",
          "data": {
            "text/plain": [
              "[2, 4, 6, 1, 3, 5]"
            ]
          },
          "metadata": {
            "tags": []
          },
          "execution_count": 13
        }
      ]
    },
    {
      "cell_type": "code",
      "metadata": {
        "colab": {
          "base_uri": "https://localhost:8080/"
        },
        "id": "wEundn8qwAr7",
        "outputId": "8c176496-63e3-49d4-f14d-73b2f917c28c"
      },
      "source": [
        "(1,3,5) + (2,4,6)"
      ],
      "execution_count": 14,
      "outputs": [
        {
          "output_type": "execute_result",
          "data": {
            "text/plain": [
              "(1, 3, 5, 2, 4, 6)"
            ]
          },
          "metadata": {
            "tags": []
          },
          "execution_count": 14
        }
      ]
    },
    {
      "cell_type": "code",
      "metadata": {
        "id": "ZV0x1lKswG-g"
      },
      "source": [
        "#이거는 안됨 \n",
        "#range(5) + range(5,10)"
      ],
      "execution_count": 16,
      "outputs": []
    },
    {
      "cell_type": "code",
      "metadata": {
        "colab": {
          "base_uri": "https://localhost:8080/",
          "height": 36
        },
        "id": "HcB_YL8rwL1Z",
        "outputId": "4fdbdff4-1b2e-4ee9-a48a-0f4fa8c96e7b"
      },
      "source": [
        "#문자열 + 정수, \"Number\" + 5 --> \"Number5\" : 자바에서 가능\n",
        "\n",
        "'Number' + str(5)\n",
        "\n",
        "#안됨 'Number' + 5\n",
        "'Number' + '5'"
      ],
      "execution_count": 20,
      "outputs": [
        {
          "output_type": "execute_result",
          "data": {
            "application/vnd.google.colaboratory.intrinsic+json": {
              "type": "string"
            },
            "text/plain": [
              "'Number5'"
            ]
          },
          "metadata": {
            "tags": []
          },
          "execution_count": 20
        }
      ]
    },
    {
      "cell_type": "code",
      "metadata": {
        "colab": {
          "base_uri": "https://localhost:8080/",
          "height": 36
        },
        "id": "ughCGZ3OwsfP",
        "outputId": "7b8e7f9e-dfd7-4a13-f254-9a67a8401652"
      },
      "source": [
        "#파이선 3.6 부터 formatted string 사용가능 \n",
        "pi=3.14\n",
        "f'Number{5}:{pi}'\n",
        "f'Number{5:02d}:{pi:4f}' "
      ],
      "execution_count": 26,
      "outputs": [
        {
          "output_type": "execute_result",
          "data": {
            "application/vnd.google.colaboratory.intrinsic+json": {
              "type": "string"
            },
            "text/plain": [
              "'Number05:3.140000'"
            ]
          },
          "metadata": {
            "tags": []
          },
          "execution_count": 26
        }
      ]
    },
    {
      "cell_type": "code",
      "metadata": {
        "colab": {
          "base_uri": "https://localhost:8080/"
        },
        "id": "7YN8AMTxxVbo",
        "outputId": "592a0f14-965b-4ca3-8e34-c9e9c34bdcb0"
      },
      "source": [
        "!python --version"
      ],
      "execution_count": 23,
      "outputs": [
        {
          "output_type": "stream",
          "text": [
            "Python 3.7.11\n"
          ],
          "name": "stdout"
        }
      ]
    },
    {
      "cell_type": "markdown",
      "metadata": {
        "id": "gZ_EQh-hyITg"
      },
      "source": [
        "###반복\n"
      ]
    },
    {
      "cell_type": "code",
      "metadata": {
        "colab": {
          "base_uri": "https://localhost:8080/"
        },
        "id": "r5FXe27nxeEC",
        "outputId": "eaa9f557-6a13-4eb3-b644-26716e7341dc"
      },
      "source": [
        "[1,2,3] *3 , 3*[1,2,3]"
      ],
      "execution_count": 28,
      "outputs": [
        {
          "output_type": "execute_result",
          "data": {
            "text/plain": [
              "([1, 2, 3, 1, 2, 3, 1, 2, 3], [1, 2, 3, 1, 2, 3, 1, 2, 3])"
            ]
          },
          "metadata": {
            "tags": []
          },
          "execution_count": 28
        }
      ]
    },
    {
      "cell_type": "code",
      "metadata": {
        "colab": {
          "base_uri": "https://localhost:8080/",
          "height": 36
        },
        "id": "GGPERogHySns",
        "outputId": "43de71e5-7538-4a8f-c7b4-f32c779ebf75"
      },
      "source": [
        "'Hello ' *3"
      ],
      "execution_count": 30,
      "outputs": [
        {
          "output_type": "execute_result",
          "data": {
            "application/vnd.google.colaboratory.intrinsic+json": {
              "type": "string"
            },
            "text/plain": [
              "'Hello Hello Hello '"
            ]
          },
          "metadata": {
            "tags": []
          },
          "execution_count": 30
        }
      ]
    },
    {
      "cell_type": "markdown",
      "metadata": {
        "id": "1_hmA75my9AG"
      },
      "source": [
        "###11.2 요소개수"
      ]
    },
    {
      "cell_type": "code",
      "metadata": {
        "colab": {
          "base_uri": "https://localhost:8080/"
        },
        "id": "rylHo1czycOk",
        "outputId": "bb1854a5-83ad-402c-c07a-ac56672ea927"
      },
      "source": [
        "len(range(10))"
      ],
      "execution_count": 31,
      "outputs": [
        {
          "output_type": "execute_result",
          "data": {
            "text/plain": [
              "10"
            ]
          },
          "metadata": {
            "tags": []
          },
          "execution_count": 31
        }
      ]
    },
    {
      "cell_type": "code",
      "metadata": {
        "colab": {
          "base_uri": "https://localhost:8080/"
        },
        "id": "FbUXEN77zBxU",
        "outputId": "cd17d52a-7576-414c-a678-dfc8f1b04dd0"
      },
      "source": [
        "len([1,2,3]), len((1,2,3,4)), len('hello')"
      ],
      "execution_count": 35,
      "outputs": [
        {
          "output_type": "execute_result",
          "data": {
            "text/plain": [
              "(3, 4, 5)"
            ]
          },
          "metadata": {
            "tags": []
          },
          "execution_count": 35
        }
      ]
    },
    {
      "cell_type": "code",
      "metadata": {
        "colab": {
          "base_uri": "https://localhost:8080/"
        },
        "id": "TQu24U6wzJSq",
        "outputId": "a90437fe-5f9d-4e57-81e2-a7ae808ebac6"
      },
      "source": [
        "len('안녕하세요')"
      ],
      "execution_count": 36,
      "outputs": [
        {
          "output_type": "execute_result",
          "data": {
            "text/plain": [
              "5"
            ]
          },
          "metadata": {
            "tags": []
          },
          "execution_count": 36
        }
      ]
    },
    {
      "cell_type": "markdown",
      "metadata": {
        "id": "xXs_J91e2BMP"
      },
      "source": [
        "##11.3 인덱싱"
      ]
    },
    {
      "cell_type": "code",
      "metadata": {
        "colab": {
          "base_uri": "https://localhost:8080/"
        },
        "id": "jMAcxipqzVcQ",
        "outputId": "e2e95f56-3717-433a-d9be-26e44c0eaf41"
      },
      "source": [
        "a= list(range(10))\n",
        "a"
      ],
      "execution_count": 38,
      "outputs": [
        {
          "output_type": "execute_result",
          "data": {
            "text/plain": [
              "[0, 1, 2, 3, 4, 5, 6, 7, 8, 9]"
            ]
          },
          "metadata": {
            "tags": []
          },
          "execution_count": 38
        }
      ]
    },
    {
      "cell_type": "code",
      "metadata": {
        "colab": {
          "base_uri": "https://localhost:8080/"
        },
        "id": "yvULQE-Y2RNH",
        "outputId": "6e41227f-2c1f-434b-b6bc-50316f866b84"
      },
      "source": [
        "a[2]\n",
        "#마지막꺼 찾기\n",
        "a[len(a)-1]"
      ],
      "execution_count": 41,
      "outputs": [
        {
          "output_type": "execute_result",
          "data": {
            "text/plain": [
              "9"
            ]
          },
          "metadata": {
            "tags": []
          },
          "execution_count": 41
        }
      ]
    },
    {
      "cell_type": "code",
      "metadata": {
        "id": "FGGRh50B2Pv-"
      },
      "source": [
        "s= 'hello world!'"
      ],
      "execution_count": 42,
      "outputs": []
    },
    {
      "cell_type": "code",
      "metadata": {
        "colab": {
          "base_uri": "https://localhost:8080/"
        },
        "id": "VEHQohuw21AN",
        "outputId": "4acd01ca-3a62-45d4-a794-09282d58b103"
      },
      "source": [
        "s[2], s[5], s[10]"
      ],
      "execution_count": 45,
      "outputs": [
        {
          "output_type": "execute_result",
          "data": {
            "text/plain": [
              "('l', ' ', 'd')"
            ]
          },
          "metadata": {
            "tags": []
          },
          "execution_count": 45
        }
      ]
    },
    {
      "cell_type": "code",
      "metadata": {
        "colab": {
          "base_uri": "https://localhost:8080/"
        },
        "id": "KUdeN_u422PK",
        "outputId": "9dd97a5d-f978-4af8-9853-39ff7620850c"
      },
      "source": [
        "a[0],a[-1]\n",
        "a[-10],a[-1]"
      ],
      "execution_count": 47,
      "outputs": [
        {
          "output_type": "execute_result",
          "data": {
            "text/plain": [
              "(0, 9)"
            ]
          },
          "metadata": {
            "tags": []
          },
          "execution_count": 47
        }
      ]
    },
    {
      "cell_type": "code",
      "metadata": {
        "colab": {
          "base_uri": "https://localhost:8080/"
        },
        "id": "u3_ZF2Y03NWo",
        "outputId": "9a0997ce-2ed8-4645-d98e-a93136a63b8a"
      },
      "source": [
        "fox = 'A quick brown fox jumps over the lazy dog.'\n",
        "fox[-4], fox[-3],fox[-2],fox[-1]\n"
      ],
      "execution_count": 96,
      "outputs": [
        {
          "output_type": "execute_result",
          "data": {
            "text/plain": [
              "('d', 'o', 'g', '.')"
            ]
          },
          "metadata": {
            "tags": []
          },
          "execution_count": 96
        }
      ]
    },
    {
      "cell_type": "code",
      "metadata": {
        "colab": {
          "base_uri": "https://localhost:8080/"
        },
        "id": "IQUZrfWS3rK9",
        "outputId": "49ad1d80-aea3-4934-b794-fb00180aa72c"
      },
      "source": [
        "fox[len(fox)-4], fox[-4]"
      ],
      "execution_count": 54,
      "outputs": [
        {
          "output_type": "execute_result",
          "data": {
            "text/plain": [
              "('d', 'd')"
            ]
          },
          "metadata": {
            "tags": []
          },
          "execution_count": 54
        }
      ]
    },
    {
      "cell_type": "code",
      "metadata": {
        "id": "3REGskIp34GK"
      },
      "source": [
        "#인덱스 범위를 벗어나면 에러발생"
      ],
      "execution_count": 55,
      "outputs": []
    },
    {
      "cell_type": "markdown",
      "metadata": {
        "id": "SRNAiM4d4QuX"
      },
      "source": [
        "###요소값 할당\n"
      ]
    },
    {
      "cell_type": "code",
      "metadata": {
        "colab": {
          "base_uri": "https://localhost:8080/"
        },
        "id": "yWoKdw894P8l",
        "outputId": "e205750f-33c5-4ca0-86fd-539bd64d3960"
      },
      "source": [
        "a[5]=100\n",
        "a"
      ],
      "execution_count": 59,
      "outputs": [
        {
          "output_type": "execute_result",
          "data": {
            "text/plain": [
              "[0, 1, 2, 3, 4, 100, 6, 7, 8, 9]"
            ]
          },
          "metadata": {
            "tags": []
          },
          "execution_count": 59
        }
      ]
    },
    {
      "cell_type": "code",
      "metadata": {
        "id": "Wu_UGoqC4WC5"
      },
      "source": [
        "#튜플 및 레인지에서는 인덱스 값을 변경할 수 없음\n",
        "#b=3,4,5\n",
        "#b[2]=100"
      ],
      "execution_count": 62,
      "outputs": []
    },
    {
      "cell_type": "code",
      "metadata": {
        "id": "Qti0qVCl4Y0V"
      },
      "source": [
        "#스트링도 인덱스 값을 변경할 수 없음\n",
        "#s= 'hello world!'\n",
        "#s[-1]='='"
      ],
      "execution_count": 64,
      "outputs": []
    },
    {
      "cell_type": "markdown",
      "metadata": {
        "id": "kMT1JRdM5Aq_"
      },
      "source": [
        "###요소삭제\n"
      ]
    },
    {
      "cell_type": "code",
      "metadata": {
        "colab": {
          "base_uri": "https://localhost:8080/"
        },
        "id": "XqyvXvvq4wU8",
        "outputId": "fb042f77-31ad-4552-adbd-911f35e038ec"
      },
      "source": [
        "del a[5]\n",
        "a\n"
      ],
      "execution_count": 66,
      "outputs": [
        {
          "output_type": "execute_result",
          "data": {
            "text/plain": [
              "[0, 1, 2, 3, 4, 7, 8, 9]"
            ]
          },
          "metadata": {
            "tags": []
          },
          "execution_count": 66
        }
      ]
    },
    {
      "cell_type": "markdown",
      "metadata": {
        "id": "QofzXO085hC7"
      },
      "source": [
        "11.4 Slicing"
      ]
    },
    {
      "cell_type": "code",
      "metadata": {
        "colab": {
          "base_uri": "https://localhost:8080/"
        },
        "id": "t_ePWdmH5FUJ",
        "outputId": "f864539d-8f63-4f44-af06-c8cbb82d1715"
      },
      "source": [
        "a=list(range(0,100, 10))\n",
        "a\n"
      ],
      "execution_count": 68,
      "outputs": [
        {
          "output_type": "execute_result",
          "data": {
            "text/plain": [
              "[0, 10, 20, 30, 40, 50, 60, 70, 80, 90]"
            ]
          },
          "metadata": {
            "tags": []
          },
          "execution_count": 68
        }
      ]
    },
    {
      "cell_type": "code",
      "metadata": {
        "colab": {
          "base_uri": "https://localhost:8080/"
        },
        "id": "v5u7QQss5mF7",
        "outputId": "5c023739-d4eb-4abc-ca30-ae45ecf128a3"
      },
      "source": [
        "a[3:6]\n",
        "a[0:3],a[:3]"
      ],
      "execution_count": 70,
      "outputs": [
        {
          "output_type": "execute_result",
          "data": {
            "text/plain": [
              "([0, 10, 20], [0, 10, 20])"
            ]
          },
          "metadata": {
            "tags": []
          },
          "execution_count": 70
        }
      ]
    },
    {
      "cell_type": "code",
      "metadata": {
        "colab": {
          "base_uri": "https://localhost:8080/"
        },
        "id": "M7O6ypUC5pyX",
        "outputId": "de842d77-1677-47fc-f71b-00b462bb8158"
      },
      "source": [
        "a[7:-1], a[7:], a[7:10000]"
      ],
      "execution_count": 78,
      "outputs": [
        {
          "output_type": "execute_result",
          "data": {
            "text/plain": [
              "([70, 80], [70, 80, 90], [70, 80, 90])"
            ]
          },
          "metadata": {
            "tags": []
          },
          "execution_count": 78
        }
      ]
    },
    {
      "cell_type": "code",
      "metadata": {
        "colab": {
          "base_uri": "https://localhost:8080/"
        },
        "id": "tYkl3QhT6SUw",
        "outputId": "473d66f0-e268-4e91-a3cd-738805d6fb3b"
      },
      "source": [
        "a[::2]"
      ],
      "execution_count": 79,
      "outputs": [
        {
          "output_type": "execute_result",
          "data": {
            "text/plain": [
              "[0, 20, 40, 60, 80]"
            ]
          },
          "metadata": {
            "tags": []
          },
          "execution_count": 79
        }
      ]
    },
    {
      "cell_type": "code",
      "metadata": {
        "colab": {
          "base_uri": "https://localhost:8080/"
        },
        "id": "m97INnnr61V-",
        "outputId": "79dabf56-94bb-4f3a-f7b2-d61d479b11f8"
      },
      "source": [
        "a[1::2]"
      ],
      "execution_count": 80,
      "outputs": [
        {
          "output_type": "execute_result",
          "data": {
            "text/plain": [
              "[10, 30, 50, 70, 90]"
            ]
          },
          "metadata": {
            "tags": []
          },
          "execution_count": 80
        }
      ]
    },
    {
      "cell_type": "code",
      "metadata": {
        "colab": {
          "base_uri": "https://localhost:8080/"
        },
        "id": "LBevfKLg64V-",
        "outputId": "f946e63c-bae1-4d2a-f000-c896fb82faaa"
      },
      "source": [
        "a[::2],a[1::2]"
      ],
      "execution_count": 86,
      "outputs": [
        {
          "output_type": "execute_result",
          "data": {
            "text/plain": [
              "([0, 20, 40, 60, 80], [10, 30, 50, 70, 90])"
            ]
          },
          "metadata": {
            "tags": []
          },
          "execution_count": 86
        }
      ]
    },
    {
      "cell_type": "code",
      "metadata": {
        "colab": {
          "base_uri": "https://localhost:8080/",
          "height": 36
        },
        "id": "5PD5tZz467js",
        "outputId": "d64dc18f-94c2-4138-8d97-9caf9e392a76"
      },
      "source": [
        "fox[-4:]"
      ],
      "execution_count": 88,
      "outputs": [
        {
          "output_type": "execute_result",
          "data": {
            "application/vnd.google.colaboratory.intrinsic+json": {
              "type": "string"
            },
            "text/plain": [
              "'dog.'"
            ]
          },
          "metadata": {
            "tags": []
          },
          "execution_count": 88
        }
      ]
    },
    {
      "cell_type": "code",
      "metadata": {
        "colab": {
          "base_uri": "https://localhost:8080/",
          "height": 36
        },
        "id": "omLrFnhU8E-C",
        "outputId": "5dc1f083-92d8-4c63-e870-a362f75943e5"
      },
      "source": [
        "#마지막 단어 추출 방법\n",
        "fox.split()[-1]"
      ],
      "execution_count": 89,
      "outputs": [
        {
          "output_type": "execute_result",
          "data": {
            "application/vnd.google.colaboratory.intrinsic+json": {
              "type": "string"
            },
            "text/plain": [
              "'dog.'"
            ]
          },
          "metadata": {
            "tags": []
          },
          "execution_count": 89
        }
      ]
    },
    {
      "cell_type": "code",
      "metadata": {
        "colab": {
          "base_uri": "https://localhost:8080/"
        },
        "id": "EUqIbFO98MXR",
        "outputId": "96366687-0f9d-43bf-ce8f-dcbcf963666b"
      },
      "source": [
        "[fox[i] for i in [1,4,5]]"
      ],
      "execution_count": 99,
      "outputs": [
        {
          "output_type": "execute_result",
          "data": {
            "text/plain": [
              "[' ', 'i', 'c']"
            ]
          },
          "metadata": {
            "tags": []
          },
          "execution_count": 99
        }
      ]
    },
    {
      "cell_type": "code",
      "metadata": {
        "colab": {
          "base_uri": "https://localhost:8080/"
        },
        "id": "HgUcxTLh85B6",
        "outputId": "b77c44ad-eb38-4847-ef53-25453d12d8cb"
      },
      "source": [
        "b=list(range(10))\n",
        "b[2:5]=[10, 20, 30, 40, 50]\n",
        "b"
      ],
      "execution_count": 102,
      "outputs": [
        {
          "output_type": "execute_result",
          "data": {
            "text/plain": [
              "[0, 1, 10, 20, 30, 40, 50, 5, 6, 7, 8, 9]"
            ]
          },
          "metadata": {
            "tags": []
          },
          "execution_count": 102
        }
      ]
    },
    {
      "cell_type": "code",
      "metadata": {
        "colab": {
          "base_uri": "https://localhost:8080/"
        },
        "id": "l-xjG84q-Dge",
        "outputId": "03027b28-f6c9-4534-ff1a-c55618bc9a4d"
      },
      "source": [
        "c=list(range(10))\n",
        "c[2]=[10,20,30]\n",
        "c"
      ],
      "execution_count": 104,
      "outputs": [
        {
          "output_type": "execute_result",
          "data": {
            "text/plain": [
              "[0, 1, [10, 20, 30], 3, 4, 5, 6, 7, 8, 9]"
            ]
          },
          "metadata": {
            "tags": []
          },
          "execution_count": 104
        }
      ]
    },
    {
      "cell_type": "code",
      "metadata": {
        "colab": {
          "base_uri": "https://localhost:8080/"
        },
        "id": "xdd3-A0N_P0s",
        "outputId": "0d5befbf-8673-4bc7-b7a5-84da806ffde7"
      },
      "source": [
        "del c[::2]\n",
        "c"
      ],
      "execution_count": 114,
      "outputs": [
        {
          "output_type": "execute_result",
          "data": {
            "text/plain": [
              "[1, 3, 5, 7, 9]"
            ]
          },
          "metadata": {
            "tags": []
          },
          "execution_count": 114
        }
      ]
    },
    {
      "cell_type": "code",
      "metadata": {
        "id": "E12eIBPJ_PwK"
      },
      "source": [
        ""
      ],
      "execution_count": null,
      "outputs": []
    },
    {
      "cell_type": "code",
      "metadata": {
        "colab": {
          "base_uri": "https://localhost:8080/"
        },
        "id": "H0VYp3Sb-VBk",
        "outputId": "25890c6c-a285-4f16-d01f-70efd4f637d6"
      },
      "source": [
        "d=list(range(10))\n",
        "d[2:3]=[10,20,30]\n",
        "d"
      ],
      "execution_count": 112,
      "outputs": [
        {
          "output_type": "execute_result",
          "data": {
            "text/plain": [
              "[0, 1, 10, 20, 30, 3, 4, 5, 6, 7, 8, 9]"
            ]
          },
          "metadata": {
            "tags": []
          },
          "execution_count": 112
        }
      ]
    },
    {
      "cell_type": "code",
      "metadata": {
        "colab": {
          "base_uri": "https://localhost:8080/"
        },
        "id": "yQL4fWBK-hRg",
        "outputId": "4d495d36-cfb3-40e0-a3d1-08d2737b43e7"
      },
      "source": [
        "del d[2:5]\n",
        "d"
      ],
      "execution_count": 113,
      "outputs": [
        {
          "output_type": "execute_result",
          "data": {
            "text/plain": [
              "[0, 1, 3, 4, 5, 6, 7, 8, 9]"
            ]
          },
          "metadata": {
            "tags": []
          },
          "execution_count": 113
        }
      ]
    },
    {
      "cell_type": "code",
      "metadata": {
        "id": "ch9w3lJA_HG-"
      },
      "source": [
        ""
      ],
      "execution_count": null,
      "outputs": []
    }
  ]
}