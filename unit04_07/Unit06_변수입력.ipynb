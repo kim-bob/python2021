{
  "nbformat": 4,
  "nbformat_minor": 0,
  "metadata": {
    "colab": {
      "name": "Unit06.ipynb",
      "provenance": [],
      "collapsed_sections": []
    },
    "kernelspec": {
      "name": "python3",
      "display_name": "Python 3"
    },
    "language_info": {
      "name": "python"
    }
  },
  "cells": [
    {
      "cell_type": "code",
      "metadata": {
        "id": "qhtXa4EdL74c"
      },
      "source": [
        ""
      ],
      "execution_count": null,
      "outputs": []
    },
    {
      "cell_type": "markdown",
      "metadata": {
        "id": "rNa7TFxvM0pn"
      },
      "source": [
        "*   영문 문자와 숫자를 사용할 수 있습니다\n",
        "*  대소문자를 구분합니다.\n",
        "문자부터 시작해야 하며 숫자부터 시작하면 안 됩니다.\n",
        "_(밑줄 문자)로 시작할 수 있습니다.\n",
        "특수 문자(+, -, *, /, $, @, &, % 등)는 사용할 수 없습니다.\n",
        "파이썬의 키워드(if, for, while, and, or 등)는 사용할 수 없습니다."
      ]
    },
    {
      "cell_type": "code",
      "metadata": {
        "id": "EFT6-QVwL3rz"
      },
      "source": [
        "x=10\n",
        "s=\"Hello world\""
      ],
      "execution_count": 24,
      "outputs": []
    },
    {
      "cell_type": "code",
      "metadata": {
        "colab": {
          "base_uri": "https://localhost:8080/"
        },
        "id": "NMXmfFcCNa9g",
        "outputId": "cb7fb199-5c05-4ea7-a9d3-956312ea7b90"
      },
      "source": [
        "type(x), type(s)"
      ],
      "execution_count": 6,
      "outputs": [
        {
          "output_type": "execute_result",
          "data": {
            "text/plain": [
              "(int, str)"
            ]
          },
          "metadata": {
            "tags": []
          },
          "execution_count": 6
        }
      ]
    },
    {
      "cell_type": "code",
      "metadata": {
        "colab": {
          "base_uri": "https://localhost:8080/"
        },
        "id": "q0v7bHpFNhGZ",
        "outputId": "5f40421c-36b7-4e03-da5f-5493b268dc26"
      },
      "source": [
        "x, y, z = 10, 20 , 30\n",
        "x,y,z"
      ],
      "execution_count": 7,
      "outputs": [
        {
          "output_type": "execute_result",
          "data": {
            "text/plain": [
              "(10, 20, 30)"
            ]
          },
          "metadata": {
            "tags": []
          },
          "execution_count": 7
        }
      ]
    },
    {
      "cell_type": "code",
      "metadata": {
        "id": "eZbUpsDPN227"
      },
      "source": [
        "del z"
      ],
      "execution_count": 8,
      "outputs": []
    },
    {
      "cell_type": "code",
      "metadata": {
        "colab": {
          "base_uri": "https://localhost:8080/",
          "height": 176
        },
        "id": "b5nRKSfqN4nU",
        "outputId": "12758a07-1216-4a21-82bb-977ad2204127"
      },
      "source": [
        "print(z)"
      ],
      "execution_count": 9,
      "outputs": [
        {
          "output_type": "error",
          "ename": "NameError",
          "evalue": "ignored",
          "traceback": [
            "\u001b[0;31m---------------------------------------------------------------------------\u001b[0m",
            "\u001b[0;31mNameError\u001b[0m                                 Traceback (most recent call last)",
            "\u001b[0;32m<ipython-input-9-c01ac3f50fdc>\u001b[0m in \u001b[0;36m<module>\u001b[0;34m()\u001b[0m\n\u001b[0;32m----> 1\u001b[0;31m \u001b[0mprint\u001b[0m\u001b[0;34m(\u001b[0m\u001b[0mz\u001b[0m\u001b[0;34m)\u001b[0m\u001b[0;34m\u001b[0m\u001b[0;34m\u001b[0m\u001b[0m\n\u001b[0m",
            "\u001b[0;31mNameError\u001b[0m: name 'z' is not defined"
          ]
        }
      ]
    },
    {
      "cell_type": "code",
      "metadata": {
        "colab": {
          "base_uri": "https://localhost:8080/"
        },
        "id": "5mJoP3ukN6Lu",
        "outputId": "289c627b-67bb-4961-e233-f68b7fd8a611"
      },
      "source": [
        "x=None\n",
        "print(x)"
      ],
      "execution_count": 10,
      "outputs": [
        {
          "output_type": "stream",
          "text": [
            "None\n"
          ],
          "name": "stdout"
        }
      ]
    },
    {
      "cell_type": "code",
      "metadata": {
        "id": "UHf0bCkSO4r-"
      },
      "source": [
        "a=10"
      ],
      "execution_count": 11,
      "outputs": []
    },
    {
      "cell_type": "code",
      "metadata": {
        "colab": {
          "base_uri": "https://localhost:8080/"
        },
        "id": "LExDSGczO5xE",
        "outputId": "0b8eaacb-bc9a-4b93-8b55-cf643fe91236"
      },
      "source": [
        "a=a+10\n",
        "print(a)"
      ],
      "execution_count": 12,
      "outputs": [
        {
          "output_type": "stream",
          "text": [
            "20\n"
          ],
          "name": "stdout"
        }
      ]
    },
    {
      "cell_type": "markdown",
      "metadata": {
        "id": "fitkTo5HQxdl"
      },
      "source": [
        "6.3 입력(input)\n"
      ]
    },
    {
      "cell_type": "code",
      "metadata": {
        "colab": {
          "base_uri": "https://localhost:8080/"
        },
        "id": "gOG4_WMPQw_f",
        "outputId": "c87fea79-fa7c-4dc9-9b66-d3c263243a7c"
      },
      "source": [
        "x=input()"
      ],
      "execution_count": 14,
      "outputs": [
        {
          "output_type": "stream",
          "text": [
            "10\n"
          ],
          "name": "stdout"
        }
      ]
    },
    {
      "cell_type": "code",
      "metadata": {
        "colab": {
          "base_uri": "https://localhost:8080/"
        },
        "id": "5vnpABMXO9oq",
        "outputId": "8cc042ff-9416-41dd-f88e-ad2564bfcacb"
      },
      "source": [
        "x=input('1에서 10사이의 정수값?', )"
      ],
      "execution_count": 15,
      "outputs": [
        {
          "output_type": "stream",
          "text": [
            "1에서 10사이의 정수값?2\n"
          ],
          "name": "stdout"
        }
      ]
    },
    {
      "cell_type": "code",
      "metadata": {
        "colab": {
          "base_uri": "https://localhost:8080/",
          "height": 73
        },
        "id": "pF1ZiugJRKEF",
        "outputId": "52ccd2bd-1e31-4b11-b9b4-beb77d8b543a"
      },
      "source": [
        "a=input('첫번째정수> ')\n",
        "b=input('두번째정수> ')\n",
        "a+b\n",
        "\n"
      ],
      "execution_count": 19,
      "outputs": [
        {
          "output_type": "stream",
          "text": [
            "첫번째정수> 123\n",
            "두번째정수> 123\n"
          ],
          "name": "stdout"
        },
        {
          "output_type": "execute_result",
          "data": {
            "application/vnd.google.colaboratory.intrinsic+json": {
              "type": "string"
            },
            "text/plain": [
              "'123123'"
            ]
          },
          "metadata": {
            "tags": []
          },
          "execution_count": 19
        }
      ]
    },
    {
      "cell_type": "code",
      "metadata": {
        "colab": {
          "base_uri": "https://localhost:8080/"
        },
        "id": "WA0Z9zsxRomK",
        "outputId": "36eb5d07-0ac8-42be-ec86-548b40b41303"
      },
      "source": [
        "a=input('첫번째정수> ')\n",
        "b=input('두번째정수> ')\n",
        "int(a)+int(b)\n"
      ],
      "execution_count": 21,
      "outputs": [
        {
          "output_type": "stream",
          "text": [
            "첫번째정수> 1234\n",
            "두번째정수> 5124\n"
          ],
          "name": "stdout"
        },
        {
          "output_type": "execute_result",
          "data": {
            "text/plain": [
              "6358"
            ]
          },
          "metadata": {
            "tags": []
          },
          "execution_count": 21
        }
      ]
    },
    {
      "cell_type": "code",
      "metadata": {
        "id": "RNskep1WSY-s"
      },
      "source": [
        "a=int(input('첫번째정수> '))\n",
        "b=int(input('두번째정수> '))\n",
        " a+b"
      ],
      "execution_count": null,
      "outputs": []
    },
    {
      "cell_type": "markdown",
      "metadata": {
        "id": "5N8M_X_ySXU2"
      },
      "source": [
        "\n",
        "6.4 입력값두개\n"
      ]
    },
    {
      "cell_type": "code",
      "metadata": {
        "colab": {
          "base_uri": "https://localhost:8080/"
        },
        "id": "wnrvYxB3S2Dc",
        "outputId": "cc8f2441-e44d-43a3-c9a4-60ad493b270f"
      },
      "source": [
        "s.split()"
      ],
      "execution_count": 27,
      "outputs": [
        {
          "output_type": "execute_result",
          "data": {
            "text/plain": [
              "['Hello', 'world']"
            ]
          },
          "metadata": {
            "tags": []
          },
          "execution_count": 27
        }
      ]
    },
    {
      "cell_type": "code",
      "metadata": {
        "colab": {
          "base_uri": "https://localhost:8080/"
        },
        "id": "S6NvyzSmRYtA",
        "outputId": "f0e6a338-d3b4-42cd-fa32-f336cace3db5"
      },
      "source": [
        "a, b = s.split()\n",
        "a, b"
      ],
      "execution_count": 26,
      "outputs": [
        {
          "output_type": "execute_result",
          "data": {
            "text/plain": [
              "('Hello', 'world')"
            ]
          },
          "metadata": {
            "tags": []
          },
          "execution_count": 26
        }
      ]
    },
    {
      "cell_type": "code",
      "metadata": {
        "colab": {
          "base_uri": "https://localhost:8080/"
        },
        "id": "xcpX4g6DS8Gz",
        "outputId": "4d1b1752-65a9-4e55-ac96-04a4e016b75a"
      },
      "source": [
        "a, b, c = 'a quick brown'.split()\n",
        "a, b, c"
      ],
      "execution_count": 29,
      "outputs": [
        {
          "output_type": "execute_result",
          "data": {
            "text/plain": [
              "('a', 'quick', 'brown')"
            ]
          },
          "metadata": {
            "tags": []
          },
          "execution_count": 29
        }
      ]
    },
    {
      "cell_type": "code",
      "metadata": {
        "colab": {
          "base_uri": "https://localhost:8080/"
        },
        "id": "dtK_YbQOVsMM",
        "outputId": "a0f96736-a296-42e9-c039-db0c8b21ffa1"
      },
      "source": [
        "a, b = input('정수두개입력 ').split()\n",
        "int(a)+int(b)"
      ],
      "execution_count": 32,
      "outputs": [
        {
          "output_type": "stream",
          "text": [
            "정수두개입력> 10 20\n"
          ],
          "name": "stdout"
        }
      ]
    },
    {
      "cell_type": "code",
      "metadata": {
        "colab": {
          "base_uri": "https://localhost:8080/"
        },
        "id": "5D-3oMwwWNQ7",
        "outputId": "e87848f4-6af9-4940-98cf-bd9ed93136c4"
      },
      "source": [
        "a, b = input('정수두개입력(comma로 구분하세요)> ').split(',')\n",
        "int(a)+int(b)"
      ],
      "execution_count": 35,
      "outputs": [
        {
          "output_type": "stream",
          "text": [
            "정수두개입력(comma로 구분하세요)> 10,20\n"
          ],
          "name": "stdout"
        },
        {
          "output_type": "execute_result",
          "data": {
            "text/plain": [
              "30"
            ]
          },
          "metadata": {
            "tags": []
          },
          "execution_count": 35
        }
      ]
    },
    {
      "cell_type": "code",
      "metadata": {
        "colab": {
          "base_uri": "https://localhost:8080/"
        },
        "id": "8ay77LxrWZO7",
        "outputId": "b8e2f265-e466-4f22-d7d6-5d29b023dc2b"
      },
      "source": [
        "#map함수 활용\n",
        "a, b = map(int, [10.4, 11.2])\n",
        "a,b"
      ],
      "execution_count": 37,
      "outputs": [
        {
          "output_type": "execute_result",
          "data": {
            "text/plain": [
              "(10, 11)"
            ]
          },
          "metadata": {
            "tags": []
          },
          "execution_count": 37
        }
      ]
    },
    {
      "cell_type": "code",
      "metadata": {
        "colab": {
          "base_uri": "https://localhost:8080/"
        },
        "id": "tuBfwTWAXNgc",
        "outputId": "5c001c59-6d94-48c4-dadd-bed3afac3ddf"
      },
      "source": [
        "a, b = map(int, input('정수두개입력> ').split())\n",
        "a+b"
      ],
      "execution_count": 40,
      "outputs": [
        {
          "output_type": "stream",
          "text": [
            "정수두개입력> 11 33\n"
          ],
          "name": "stdout"
        },
        {
          "output_type": "execute_result",
          "data": {
            "text/plain": [
              "44"
            ]
          },
          "metadata": {
            "tags": []
          },
          "execution_count": 40
        }
      ]
    },
    {
      "cell_type": "code",
      "metadata": {
        "colab": {
          "base_uri": "https://localhost:8080/"
        },
        "id": "zk7zTcveXZKZ",
        "outputId": "9e456075-bb83-47dc-8a0c-af1367e6d216"
      },
      "source": [
        "import math\n",
        "a, b = map(math.sqrt, [1, 4])\n",
        "a, b\n"
      ],
      "execution_count": 44,
      "outputs": [
        {
          "output_type": "execute_result",
          "data": {
            "text/plain": [
              "(1.0, 2.0)"
            ]
          },
          "metadata": {
            "tags": []
          },
          "execution_count": 44
        }
      ]
    }
  ]
}