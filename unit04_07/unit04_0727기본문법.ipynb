{
  "nbformat": 4,
  "nbformat_minor": 0,
  "metadata": {
    "colab": {
      "name": "unit04_0727기본문법.ipynb",
      "provenance": [],
      "collapsed_sections": []
    },
    "kernelspec": {
      "name": "python3",
      "display_name": "Python 3"
    },
    "language_info": {
      "name": "python"
    }
  },
  "cells": [
    {
      "cell_type": "markdown",
      "metadata": {
        "id": "l_tWk8-UbL9T"
      },
      "source": [
        "# Unit 4. 기본 문법 알아보기\n",
        "\n",
        "\n"
      ]
    },
    {
      "cell_type": "markdown",
      "metadata": {
        "id": "aC_K1CfJbXrz"
      },
      "source": [
        "4.1 세미콜론"
      ]
    },
    {
      "cell_type": "code",
      "metadata": {
        "colab": {
          "base_uri": "https://localhost:8080/"
        },
        "id": "S0Cn3c-Ikd2H",
        "outputId": "4e0bf687-0762-4b5a-c87f-a90574d07c1d"
      },
      "source": [
        "print(\"Hello world!\"); print(\"1234\")"
      ],
      "execution_count": null,
      "outputs": [
        {
          "output_type": "stream",
          "text": [
            "Hello world!\n",
            "1234\n"
          ],
          "name": "stdout"
        }
      ]
    },
    {
      "cell_type": "code",
      "metadata": {
        "id": "A7z5ZUMyTpaG"
      },
      "source": [
        "import numpy as np\n",
        "from matplotlib import pyplot as plt"
      ],
      "execution_count": null,
      "outputs": []
    },
    {
      "cell_type": "code",
      "metadata": {
        "colab": {
          "base_uri": "https://localhost:8080/",
          "height": 281
        },
        "id": "OcLaWNOaXdMz",
        "outputId": "98f87e22-cf4a-4d62-a596-c80db40e938d"
      },
      "source": [
        "ys= 200 + np.random.randn(100)\n",
        "x= [x for x in range(len(ys))]\n",
        "\n",
        "plt.plot(x, ys, '-') \n",
        "plt.fill_between(x, ys, 195, where=(ys>195), facecolor='r', alpha=0.6)\n",
        "\n",
        "plt.title(\"sample \")\n",
        "plt.show()\n"
      ],
      "execution_count": null,
      "outputs": [
        {
          "output_type": "display_data",
          "data": {
            "image/png": "[encoded data removed]",
            "text/plain": [
              "<Figure size 432x288 with 1 Axes>"
            ]
          },
          "metadata": {
            "tags": [],
            "needs_background": "light"
          }
        }
      ]
    },
    {
      "cell_type": "markdown",
      "metadata": {
        "id": "ekUU_efeb_C_"
      },
      "source": [
        "# 4.2 주석"
      ]
    },
    {
      "cell_type": "markdown",
      "metadata": {
        "id": "jJf2J6gRb6Sg"
      },
      "source": [
        "4.2.1. 한 줄 주석"
      ]
    },
    {
      "cell_type": "code",
      "metadata": {
        "id": "ItBI5vloXeGl",
        "colab": {
          "base_uri": "https://localhost:8080/"
        },
        "outputId": "61f8f18b-b30e-4c0a-f75b-281b8ed487e5"
      },
      "source": [
        "# Hello world! 출력\n",
        "print(\"Hello world!\") # 주석 붙이기"
      ],
      "execution_count": null,
      "outputs": [
        {
          "output_type": "stream",
          "text": [
            "Hello world!\n"
          ],
          "name": "stdout"
        }
      ]
    },
    {
      "cell_type": "markdown",
      "metadata": {
        "id": "0pWP5874eqtR"
      },
      "source": [
        "### 4.2.2. 블록주석"
      ]
    },
    {
      "cell_type": "code",
      "metadata": {
        "id": "yNNqgs0pextX"
      },
      "source": [
        "1 # 더하기\n",
        "2 # a=1 + 2\n",
        "3 # print(\"H..w\")"
      ],
      "execution_count": null,
      "outputs": []
    },
    {
      "cell_type": "code",
      "metadata": {
        "colab": {
          "base_uri": "https://localhost:8080/",
          "height": 36
        },
        "id": "BNCroLMVe-DJ",
        "outputId": "d9b9f85a-f382-4996-c3cc-d2026e16c600"
      },
      "source": [
        "# 더하기\n",
        "'''a=1\n",
        "print(\"H..w\")'''\n",
        "\"\"\"'''\"\"\"a=1\n",
        "print(\"H..w\")'''"
      ],
      "execution_count": null,
      "outputs": [
        {
          "output_type": "execute_result",
          "data": {
            "application/vnd.google.colaboratory.intrinsic+json": {
              "type": "string"
            },
            "text/plain": [
              "'a=1\\nprint(\"H..w\")'"
            ]
          },
          "metadata": {
            "tags": []
          },
          "execution_count": 20
        }
      ]
    },
    {
      "cell_type": "code",
      "metadata": {
        "id": "Cn_-8VvBfQjg"
      },
      "source": [
        "\"\"\""
      ],
      "execution_count": null,
      "outputs": []
    }
  ]
}